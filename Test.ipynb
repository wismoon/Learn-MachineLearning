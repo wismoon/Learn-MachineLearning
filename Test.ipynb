{
 "cells": [
  {
   "cell_type": "code",
   "execution_count": 2,
   "metadata": {},
   "outputs": [],
   "source": [
    "import pandas as pd\n",
    "import numpy as np\n",
    "import matplotlib as plt\n",
    " "
   ]
  },
  {
   "cell_type": "code",
   "execution_count": 8,
   "metadata": {},
   "outputs": [
    {
     "data": {
      "text/html": [
       "<div>\n",
       "<style scoped>\n",
       "    .dataframe tbody tr th:only-of-type {\n",
       "        vertical-align: middle;\n",
       "    }\n",
       "\n",
       "    .dataframe tbody tr th {\n",
       "        vertical-align: top;\n",
       "    }\n",
       "\n",
       "    .dataframe thead th {\n",
       "        text-align: right;\n",
       "    }\n",
       "</style>\n",
       "<table border=\"1\" class=\"dataframe\">\n",
       "  <thead>\n",
       "    <tr style=\"text-align: right;\">\n",
       "      <th></th>\n",
       "      <th>User-ID</th>\n",
       "      <th>Location</th>\n",
       "      <th>Age</th>\n",
       "    </tr>\n",
       "  </thead>\n",
       "  <tbody>\n",
       "    <tr>\n",
       "      <th>0</th>\n",
       "      <td>1</td>\n",
       "      <td>nyc, new york, usa</td>\n",
       "      <td>NaN</td>\n",
       "    </tr>\n",
       "    <tr>\n",
       "      <th>1</th>\n",
       "      <td>2</td>\n",
       "      <td>stockton, california, usa</td>\n",
       "      <td>18.0</td>\n",
       "    </tr>\n",
       "    <tr>\n",
       "      <th>2</th>\n",
       "      <td>3</td>\n",
       "      <td>moscow, yukon territory, russia</td>\n",
       "      <td>NaN</td>\n",
       "    </tr>\n",
       "    <tr>\n",
       "      <th>3</th>\n",
       "      <td>4</td>\n",
       "      <td>porto, v.n.gaia, portugal</td>\n",
       "      <td>17.0</td>\n",
       "    </tr>\n",
       "    <tr>\n",
       "      <th>4</th>\n",
       "      <td>5</td>\n",
       "      <td>farnborough, hants, united kingdom</td>\n",
       "      <td>NaN</td>\n",
       "    </tr>\n",
       "    <tr>\n",
       "      <th>5</th>\n",
       "      <td>6</td>\n",
       "      <td>santa monica, california, usa</td>\n",
       "      <td>61.0</td>\n",
       "    </tr>\n",
       "    <tr>\n",
       "      <th>6</th>\n",
       "      <td>7</td>\n",
       "      <td>washington, dc, usa</td>\n",
       "      <td>NaN</td>\n",
       "    </tr>\n",
       "    <tr>\n",
       "      <th>7</th>\n",
       "      <td>8</td>\n",
       "      <td>timmins, ontario, canada</td>\n",
       "      <td>NaN</td>\n",
       "    </tr>\n",
       "    <tr>\n",
       "      <th>8</th>\n",
       "      <td>9</td>\n",
       "      <td>germantown, tennessee, usa</td>\n",
       "      <td>NaN</td>\n",
       "    </tr>\n",
       "    <tr>\n",
       "      <th>9</th>\n",
       "      <td>10</td>\n",
       "      <td>albacete, wisconsin, spain</td>\n",
       "      <td>26.0</td>\n",
       "    </tr>\n",
       "  </tbody>\n",
       "</table>\n",
       "</div>"
      ],
      "text/plain": [
       "   User-ID                            Location   Age\n",
       "0        1                  nyc, new york, usa   NaN\n",
       "1        2           stockton, california, usa  18.0\n",
       "2        3     moscow, yukon territory, russia   NaN\n",
       "3        4           porto, v.n.gaia, portugal  17.0\n",
       "4        5  farnborough, hants, united kingdom   NaN\n",
       "5        6       santa monica, california, usa  61.0\n",
       "6        7                 washington, dc, usa   NaN\n",
       "7        8            timmins, ontario, canada   NaN\n",
       "8        9          germantown, tennessee, usa   NaN\n",
       "9       10          albacete, wisconsin, spain  26.0"
      ]
     },
     "execution_count": 8,
     "metadata": {},
     "output_type": "execute_result"
    }
   ],
   "source": [
    "base_path='D:/TA COK/TA 2/New Prob/Book Crossing With Users Review Rating/Book reviews/Book reviews'\n",
    "#error_bad_lines=False (Skip line yang rusak) \n",
    "#encoding='ISO-8859-1' (Decode error utf-8 codex)\n",
    "Books_df = pd.read_csv('{}/BX_Books.csv'.format(base_path), sep=\";\", encoding='CP1252', escapechar='\\\\')\n",
    "Rates_df = pd.read_csv('{}/BX-Book-Ratings.csv'.format(base_path), sep=\";\", encoding='CP1252', escapechar='\\\\')\n",
    "Users_df = pd.read_csv('{}/BX-Users.csv'.format(base_path), sep=\";\", encoding='CP1252', escapechar='\\\\')\n",
    "\n",
    "Users_df.head(10)"
   ]
  },
  {
   "cell_type": "markdown",
   "metadata": {},
   "source": [
    "Melakukan cleanup, limitasi user berdasar umur, dan pemberian nilai rata rata pada cell yang kosong pada kolom tabel."
   ]
  },
  {
   "cell_type": "code",
   "execution_count": 11,
   "metadata": {},
   "outputs": [
    {
     "data": {
      "text/html": [
       "<div>\n",
       "<style scoped>\n",
       "    .dataframe tbody tr th:only-of-type {\n",
       "        vertical-align: middle;\n",
       "    }\n",
       "\n",
       "    .dataframe tbody tr th {\n",
       "        vertical-align: top;\n",
       "    }\n",
       "\n",
       "    .dataframe thead th {\n",
       "        text-align: right;\n",
       "    }\n",
       "</style>\n",
       "<table border=\"1\" class=\"dataframe\">\n",
       "  <thead>\n",
       "    <tr style=\"text-align: right;\">\n",
       "      <th></th>\n",
       "      <th>User-ID</th>\n",
       "      <th>Location</th>\n",
       "      <th>Age</th>\n",
       "    </tr>\n",
       "  </thead>\n",
       "  <tbody>\n",
       "    <tr>\n",
       "      <th>1</th>\n",
       "      <td>2</td>\n",
       "      <td>stockton, california, usa</td>\n",
       "      <td>18.0</td>\n",
       "    </tr>\n",
       "    <tr>\n",
       "      <th>3</th>\n",
       "      <td>4</td>\n",
       "      <td>porto, v.n.gaia, portugal</td>\n",
       "      <td>17.0</td>\n",
       "    </tr>\n",
       "    <tr>\n",
       "      <th>9</th>\n",
       "      <td>10</td>\n",
       "      <td>albacete, wisconsin, spain</td>\n",
       "      <td>26.0</td>\n",
       "    </tr>\n",
       "    <tr>\n",
       "      <th>10</th>\n",
       "      <td>11</td>\n",
       "      <td>melbourne, victoria, australia</td>\n",
       "      <td>14.0</td>\n",
       "    </tr>\n",
       "    <tr>\n",
       "      <th>12</th>\n",
       "      <td>13</td>\n",
       "      <td>barcelona, barcelona, spain</td>\n",
       "      <td>26.0</td>\n",
       "    </tr>\n",
       "    <tr>\n",
       "      <th>17</th>\n",
       "      <td>18</td>\n",
       "      <td>rio de janeiro, rio de janeiro, brazil</td>\n",
       "      <td>25.0</td>\n",
       "    </tr>\n",
       "    <tr>\n",
       "      <th>18</th>\n",
       "      <td>19</td>\n",
       "      <td>weston, ,</td>\n",
       "      <td>14.0</td>\n",
       "    </tr>\n",
       "    <tr>\n",
       "      <th>19</th>\n",
       "      <td>20</td>\n",
       "      <td>langhorne, pennsylvania, usa</td>\n",
       "      <td>19.0</td>\n",
       "    </tr>\n",
       "    <tr>\n",
       "      <th>20</th>\n",
       "      <td>21</td>\n",
       "      <td>ferrol / spain, alabama, spain</td>\n",
       "      <td>46.0</td>\n",
       "    </tr>\n",
       "    <tr>\n",
       "      <th>23</th>\n",
       "      <td>24</td>\n",
       "      <td>cologne, nrw, germany</td>\n",
       "      <td>19.0</td>\n",
       "    </tr>\n",
       "  </tbody>\n",
       "</table>\n",
       "</div>"
      ],
      "text/plain": [
       "    User-ID                                Location   Age\n",
       "1         2               stockton, california, usa  18.0\n",
       "3         4               porto, v.n.gaia, portugal  17.0\n",
       "9        10              albacete, wisconsin, spain  26.0\n",
       "10       11          melbourne, victoria, australia  14.0\n",
       "12       13             barcelona, barcelona, spain  26.0\n",
       "17       18  rio de janeiro, rio de janeiro, brazil  25.0\n",
       "18       19                               weston, ,  14.0\n",
       "19       20            langhorne, pennsylvania, usa  19.0\n",
       "20       21          ferrol / spain, alabama, spain  46.0\n",
       "23       24                   cologne, nrw, germany  19.0"
      ]
     },
     "execution_count": 11,
     "metadata": {},
     "output_type": "execute_result"
    }
   ],
   "source": [
    "fix_users_age = Users_df[Users_df.Age > 0]\n",
    "fix_users_age = Users_df[Users_df.Age < 50]\n",
    "Users_df['Age'].fillna(fix_users_age['Age'].mean())\n",
    "Users_df = Users_df[Users_df.Age < 50]\n",
    "Users_df = Users_df[Users_df.Age > 6]\n",
    "\n",
    "Users_df.head(10)"
   ]
  },
  {
   "cell_type": "code",
   "execution_count": 13,
   "metadata": {},
   "outputs": [
    {
     "name": "stdout",
     "output_type": "stream",
     "text": [
      " Dan umur rata-rata dari user adalah 30.18\n"
     ]
    }
   ],
   "source": [
    "print(f\" Dan umur rata-rata dari user adalah {fix_users_age['Age'].mean():.2f}\")"
   ]
  },
  {
   "cell_type": "markdown",
   "metadata": {},
   "source": [
    "Penggabungan table buku, rating, dan user. Lalu melakukan pembersihan duplikat data dan menghitung rating buku."
   ]
  },
  {
   "cell_type": "code",
   "execution_count": 15,
   "metadata": {},
   "outputs": [
    {
     "data": {
      "text/plain": [
       "0      Philip Prowse\n",
       "1        Sue Leather\n",
       "2       John Grisham\n",
       "3     Dean R. Koontz\n",
       "4       Stephen King\n",
       "5        Mitch Albom\n",
       "6       Erma Bombeck\n",
       "7            Jenkins\n",
       "8    Gyles Brandreth\n",
       "9       Daniel Keyes\n",
       "Name: Book Author, dtype: object"
      ]
     },
     "execution_count": 15,
     "metadata": {},
     "output_type": "execute_result"
    }
   ],
   "source": [
    "fix_rating_book = Rates_df.drop_duplicates()\n",
    "fix_rating_book = fix_rating_book[fix_rating_book['Book-Rating'] > 0]\n",
    "\n",
    "Book_All = pd.merge(fix_rating_book, Books_df, how='inner').merge(fix_users_age, how='inner')\n",
    "Book_All = Book_All.drop_duplicates()\n",
    "Book_All = Book_All.drop(columns=['Image-URL-S', 'Image-URL-M', 'Image-URL-L', 'Location'])\n",
    "Book_All = Book_All.rename(columns={\"User-ID\": \"User ID\", \"Book-Rating\": \"Book Rating\", \"Book-Author\": \"Book Author\", \"Book-Title\": \"Book Title\",\"Year-Of-Publication\": \"Publication Year\"})\n",
    "Book_All = Book_All['Book Author'].str.title()\n",
    "\n",
    "Book_All.head(10)"
   ]
  }
 ],
 "metadata": {
  "interpreter": {
   "hash": "c4488df5b716620797939bc3b0d012712f23b80c312a21cc3e1f331ef243fb3d"
  },
  "kernelspec": {
   "display_name": "Python 3.10.4 64-bit",
   "language": "python",
   "name": "python3"
  },
  "language_info": {
   "codemirror_mode": {
    "name": "ipython",
    "version": 3
   },
   "file_extension": ".py",
   "mimetype": "text/x-python",
   "name": "python",
   "nbconvert_exporter": "python",
   "pygments_lexer": "ipython3",
   "version": "3.10.4"
  },
  "orig_nbformat": 4
 },
 "nbformat": 4,
 "nbformat_minor": 2
}
