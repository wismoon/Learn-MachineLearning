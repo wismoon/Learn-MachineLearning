{
 "cells": [
  {
   "cell_type": "markdown",
   "id": "b851bbcb",
   "metadata": {
    "papermill": {
     "duration": 0.027706,
     "end_time": "2021-11-17T23:17:02.007768",
     "exception": false,
     "start_time": "2021-11-17T23:17:01.980062",
     "status": "completed"
    },
    "tags": []
   },
   "source": [
    "<img src=\"https://k48b9e9840-flywheel.netdna-ssl.com/wp-content/uploads/2021/07/alfons-morales-YLSwjSy7stw-unsplash.jpg\">"
   ]
  },
  {
   "cell_type": "markdown",
   "id": "55d07bd9",
   "metadata": {
    "papermill": {
     "duration": 0.027036,
     "end_time": "2021-11-17T23:17:02.058371",
     "exception": false,
     "start_time": "2021-11-17T23:17:02.031335",
     "status": "completed"
    },
    "tags": []
   },
   "source": [
    "<a id=\"section-one\"></a>\n",
    "# Introduction\n",
    "\n",
    "As an avid reader, I am constantly looking for book recommendations - whether it be from friends, colleagues, book store employees, or the internet.  Besides some obscurely good books found by happenchance, good ratings and reviews drive those recommendations.  Although, it is from the easiest thing to recommend a good book.  A book is dynamic, dense, and can have so much potential to ruin the palette of the reader in just one sentence.  So the question that started my analysis was how do you recommend a good book using data?\n",
    "\n",
    "During this analysis, I am analyzing the data findings of popular books, authors, and who is reading/rating these books.  The data mimicks what would come from the app Good Reads.  Good Reads is Amazon's book tracker and rater for all types of readers.  It uses data to suggest new books to readers, but primarily acts as a data warehouse for all books so the user can create their own personalized data warehouse of books.  This way users can keep track of what they have read, want to read, and are currently reading.  We will look at multiple ways that our data can recommend books."
   ]
  },
  {
   "cell_type": "markdown",
   "id": "2f2a0713",
   "metadata": {
    "papermill": {
     "duration": 0.023563,
     "end_time": "2021-11-17T23:17:02.112182",
     "exception": false,
     "start_time": "2021-11-17T23:17:02.088619",
     "status": "completed"
    },
    "tags": []
   },
   "source": [
    "<a id=\"section-two\"></a>\n",
    "# Data"
   ]
  },
  {
   "cell_type": "markdown",
   "id": "806435e9",
   "metadata": {
    "papermill": {
     "duration": 0.02665,
     "end_time": "2021-11-17T23:17:02.163514",
     "exception": false,
     "start_time": "2021-11-17T23:17:02.136864",
     "status": "completed"
    },
    "tags": []
   },
   "source": [
    "The three data sets being used for the analysis are a list of books - including ISBN, author, title, and year published; a list of books that have been rated - including ISBN, book rating, and user id who rated the book; and finally, the list of users who are rating the books using the application - including their location, age, and user id.  The files are csv type.  We are not planning to alter the initially existing data; instead, only edit current copies of the data."
   ]
  },
  {
   "cell_type": "markdown",
   "id": "067aa0da",
   "metadata": {
    "papermill": {
     "duration": 0.023988,
     "end_time": "2021-11-17T23:17:02.211374",
     "exception": false,
     "start_time": "2021-11-17T23:17:02.187386",
     "status": "completed"
    },
    "tags": []
   },
   "source": [
    "### Data Dictionary\n",
    "\n",
    "| Field | Description |\n",
    "| :-- | :-- |\n",
    "| **User-ID** | Book reader's unique user ID\n",
    "| **ISBN** | ISBN of book\n",
    "| **Book Rating** | Book rating by individual user \n",
    "| **Book Title** | Book title\n",
    "| **Book Author** | Book author\n",
    "| **Publication Year** | Year book was published\n",
    "| **Publisher** | Book publisher\n",
    "| **Age** | Age of user\n",
    "| **City** | City where user is from\n",
    "| **State** | State where user is from\n",
    "| **Country** | Country where user is from\n",
    "| **Average Rating** | Overall average rating of book title\n",
    "| **Frequency** | Frequency that book title appears\n",
    "| **Author Frequency** | Frequency that author appears\n",
    "| **Book Read by Age Frequency** | Book frequency based on age of users\n",
    "| **Book Read by Country Frequency** | Book frequency based on country of users"
   ]
  },
  {
   "cell_type": "markdown",
   "id": "ed2438a0",
   "metadata": {
    "papermill": {
     "duration": 0.023813,
     "end_time": "2021-11-17T23:17:02.259098",
     "exception": false,
     "start_time": "2021-11-17T23:17:02.235285",
     "status": "completed"
    },
    "tags": []
   },
   "source": [
    "<a id=\"subsection-one\"></a>\n",
    "## Assumptions\n",
    "\n",
    "The initial reviews of the data shows some missing pieces.  Therefore, I made some assumptions about the data:\n",
    "  - First, I removed any Book Ratings = 0.  As a user of the Good Reads app, I know that that you cannot give a 0 rating.  Therefore, we are assuming they are unrated entries.\n",
    "  - Second, I removed any books that had a Publishing Year of 0.  I made the assumption that this is an improperly created entry and there could be other data problems with the entry.\n",
    "  - Third, I took any user with an age of 0 or over 100 and created an average age excluding those users.  I then mapped those users' ages with the average age.  I made the assumption that those users either didn't fill in their data properly or made a typo.\n",
    "\n",
    "Since our beginning sample size is so large, the missing data we presume will not drastically affect the end results.  The data we are primarily looking at is the frequency of a Book Title being rated and the average rating it received.  I wanted to have as much data integrity when it came to the users and the book logs that are being used to make these calculations."
   ]
  },
  {
   "cell_type": "code",
   "execution_count": 1,
   "id": "1787643d",
   "metadata": {
    "execution": {
     "iopub.execute_input": "2021-11-17T23:17:02.317805Z",
     "iopub.status.busy": "2021-11-17T23:17:02.309911Z",
     "iopub.status.idle": "2021-11-17T23:17:06.649933Z",
     "shell.execute_reply": "2021-11-17T23:17:06.650534Z",
     "shell.execute_reply.started": "2021-11-17T23:11:09.868378Z"
    },
    "papermill": {
     "duration": 4.368233,
     "end_time": "2021-11-17T23:17:06.650887",
     "exception": false,
     "start_time": "2021-11-17T23:17:02.282654",
     "status": "completed"
    },
    "tags": []
   },
   "outputs": [],
   "source": [
    "import numpy as np\n",
    "import pandas as pd\n",
    "import matplotlib.pyplot as plt\n",
    "\n",
    "book_ratings = pd.read_csv(\"/kaggle/input/bookcrossing-dataset/Book reviews/Book reviews/BX-Book-Ratings.csv\", sep=\";\", encoding='CP1252', escapechar='\\\\')\n",
    "books = pd.read_csv(\"/kaggle/input/bookcrossing-dataset/Book reviews/Book reviews/BX_Books.csv\", sep=\";\", encoding='CP1252', escapechar='\\\\')\n",
    "users = pd.read_csv(\"/kaggle/input/bookcrossing-dataset/Book reviews/Book reviews/BX-Users.csv\", sep=\";\", encoding='CP1252', escapechar='\\\\')"
   ]
  },
  {
   "cell_type": "markdown",
   "id": "d59157c8",
   "metadata": {
    "papermill": {
     "duration": 0.023823,
     "end_time": "2021-11-17T23:17:06.700177",
     "exception": false,
     "start_time": "2021-11-17T23:17:06.676354",
     "status": "completed"
    },
    "tags": []
   },
   "source": [
    "<a id=\"subsection-one\"></a>\n",
    "## Data Clean Up"
   ]
  },
  {
   "cell_type": "markdown",
   "id": "a16d246f",
   "metadata": {
    "papermill": {
     "duration": 0.023443,
     "end_time": "2021-11-17T23:17:06.747689",
     "exception": false,
     "start_time": "2021-11-17T23:17:06.724246",
     "status": "completed"
    },
    "tags": []
   },
   "source": [
    "This is the beginning of our data clean up.  Below I am limiting the users data based off of age, and breaking up the users data from a location column to City, State, and Country for analaysis."
   ]
  },
  {
   "cell_type": "code",
   "execution_count": 2,
   "id": "9fb6d75d",
   "metadata": {
    "execution": {
     "iopub.execute_input": "2021-11-17T23:17:06.808416Z",
     "iopub.status.busy": "2021-11-17T23:17:06.807241Z",
     "iopub.status.idle": "2021-11-17T23:17:07.800150Z",
     "shell.execute_reply": "2021-11-17T23:17:07.799537Z",
     "shell.execute_reply.started": "2021-11-17T23:11:14.129860Z"
    },
    "papermill": {
     "duration": 1.028899,
     "end_time": "2021-11-17T23:17:07.800306",
     "exception": false,
     "start_time": "2021-11-17T23:17:06.771407",
     "status": "completed"
    },
    "tags": []
   },
   "outputs": [],
   "source": [
    "fix_users_age = users[users.Age > 0]\n",
    "fix_users_age = users[users.Age < 100]\n",
    "users['Age'].fillna(fix_users_age['Age'].mean())\n",
    "users = users[users.Age < 100]\n",
    "users = users[users.Age > 4]\n",
    "location = users.Location.str.split(', ', expand=True)\n",
    "users['City'] = location[0].str.title()\n",
    "users['State'] = location[1].str.title()\n",
    "users['Country'] = location[2].str.title()"
   ]
  },
  {
   "cell_type": "code",
   "execution_count": 3,
   "id": "a8bb30ec",
   "metadata": {
    "execution": {
     "iopub.execute_input": "2021-11-17T23:17:07.852439Z",
     "iopub.status.busy": "2021-11-17T23:17:07.851718Z",
     "iopub.status.idle": "2021-11-17T23:17:07.856471Z",
     "shell.execute_reply": "2021-11-17T23:17:07.857138Z",
     "shell.execute_reply.started": "2021-11-17T23:11:15.184857Z"
    },
    "papermill": {
     "duration": 0.033667,
     "end_time": "2021-11-17T23:17:07.857308",
     "exception": false,
     "start_time": "2021-11-17T23:17:07.823641",
     "status": "completed"
    },
    "tags": []
   },
   "outputs": [
    {
     "name": "stdout",
     "output_type": "stream",
     "text": [
      " As we can see the average age of user is 34.57\n"
     ]
    }
   ],
   "source": [
    "print(f\" As we can see the average age of user is {fix_users_age['Age'].mean():.2f}\")"
   ]
  },
  {
   "cell_type": "markdown",
   "id": "c8e6da6a",
   "metadata": {
    "papermill": {
     "duration": 0.023244,
     "end_time": "2021-11-17T23:17:07.904303",
     "exception": false,
     "start_time": "2021-11-17T23:17:07.881059",
     "status": "completed"
    },
    "tags": []
   },
   "source": [
    "Next in the data clean up, I am removing any duplicates from the Book Ratings database so that each row is distinct.  The ratings should then be properly calculated and uneffected by duplicate data.  Next the tables are combined using an inner join to leave only the books that have ratings and users corresponding with them.  I am also cleaning up the columns by dropping columns we will no longer need for analysis and renaming the other columns for clarity while reading.  Below is a sample of the data."
   ]
  },
  {
   "cell_type": "code",
   "execution_count": 4,
   "id": "ce95a86b",
   "metadata": {
    "execution": {
     "iopub.execute_input": "2021-11-17T23:17:07.954900Z",
     "iopub.status.busy": "2021-11-17T23:17:07.954193Z",
     "iopub.status.idle": "2021-11-17T23:17:12.185527Z",
     "shell.execute_reply": "2021-11-17T23:17:12.186151Z",
     "shell.execute_reply.started": "2021-11-17T23:11:15.194711Z"
    },
    "papermill": {
     "duration": 4.25855,
     "end_time": "2021-11-17T23:17:12.186338",
     "exception": false,
     "start_time": "2021-11-17T23:17:07.927788",
     "status": "completed"
    },
    "tags": []
   },
   "outputs": [
    {
     "data": {
      "text/html": [
       "<div>\n",
       "<style scoped>\n",
       "    .dataframe tbody tr th:only-of-type {\n",
       "        vertical-align: middle;\n",
       "    }\n",
       "\n",
       "    .dataframe tbody tr th {\n",
       "        vertical-align: top;\n",
       "    }\n",
       "\n",
       "    .dataframe thead th {\n",
       "        text-align: right;\n",
       "    }\n",
       "</style>\n",
       "<table border=\"1\" class=\"dataframe\">\n",
       "  <thead>\n",
       "    <tr style=\"text-align: right;\">\n",
       "      <th></th>\n",
       "      <th>User ID</th>\n",
       "      <th>ISBN</th>\n",
       "      <th>Book Rating</th>\n",
       "      <th>Book Title</th>\n",
       "      <th>Book Author</th>\n",
       "      <th>Publication Year</th>\n",
       "      <th>Publisher</th>\n",
       "      <th>Age</th>\n",
       "      <th>City</th>\n",
       "      <th>State</th>\n",
       "      <th>Country</th>\n",
       "      <th>Average Rating</th>\n",
       "    </tr>\n",
       "  </thead>\n",
       "  <tbody>\n",
       "    <tr>\n",
       "      <th>0</th>\n",
       "      <td>276729</td>\n",
       "      <td>052165615X</td>\n",
       "      <td>3</td>\n",
       "      <td>Help!: Level 1</td>\n",
       "      <td>Philip Prowse</td>\n",
       "      <td>1999</td>\n",
       "      <td>Cambridge University Press</td>\n",
       "      <td>16.0</td>\n",
       "      <td>Rijeka</td>\n",
       "      <td>N/A</td>\n",
       "      <td>Croatia</td>\n",
       "      <td>3.000000</td>\n",
       "    </tr>\n",
       "    <tr>\n",
       "      <th>1</th>\n",
       "      <td>276729</td>\n",
       "      <td>0521795028</td>\n",
       "      <td>6</td>\n",
       "      <td>The Amsterdam Connection : Level 4 (Cambridge ...</td>\n",
       "      <td>Sue Leather</td>\n",
       "      <td>2001</td>\n",
       "      <td>Cambridge University Press</td>\n",
       "      <td>16.0</td>\n",
       "      <td>Rijeka</td>\n",
       "      <td>N/A</td>\n",
       "      <td>Croatia</td>\n",
       "      <td>6.000000</td>\n",
       "    </tr>\n",
       "    <tr>\n",
       "      <th>2</th>\n",
       "      <td>16877</td>\n",
       "      <td>038550120X</td>\n",
       "      <td>9</td>\n",
       "      <td>A Painted House</td>\n",
       "      <td>John Grisham</td>\n",
       "      <td>2001</td>\n",
       "      <td>Doubleday</td>\n",
       "      <td>37.0</td>\n",
       "      <td>Houston</td>\n",
       "      <td>Arkansas</td>\n",
       "      <td>Usa</td>\n",
       "      <td>7.608696</td>\n",
       "    </tr>\n",
       "    <tr>\n",
       "      <th>3</th>\n",
       "      <td>21340</td>\n",
       "      <td>038550120X</td>\n",
       "      <td>9</td>\n",
       "      <td>A Painted House</td>\n",
       "      <td>John Grisham</td>\n",
       "      <td>2001</td>\n",
       "      <td>Doubleday</td>\n",
       "      <td>45.0</td>\n",
       "      <td>Holton</td>\n",
       "      <td>Kansas</td>\n",
       "      <td>Usa</td>\n",
       "      <td>7.608696</td>\n",
       "    </tr>\n",
       "    <tr>\n",
       "      <th>4</th>\n",
       "      <td>21356</td>\n",
       "      <td>038550120X</td>\n",
       "      <td>7</td>\n",
       "      <td>A Painted House</td>\n",
       "      <td>John Grisham</td>\n",
       "      <td>2001</td>\n",
       "      <td>Doubleday</td>\n",
       "      <td>56.0</td>\n",
       "      <td>Westwood</td>\n",
       "      <td>New Jersey</td>\n",
       "      <td>Usa</td>\n",
       "      <td>7.608696</td>\n",
       "    </tr>\n",
       "    <tr>\n",
       "      <th>5</th>\n",
       "      <td>22625</td>\n",
       "      <td>038550120X</td>\n",
       "      <td>10</td>\n",
       "      <td>A Painted House</td>\n",
       "      <td>John Grisham</td>\n",
       "      <td>2001</td>\n",
       "      <td>Doubleday</td>\n",
       "      <td>54.0</td>\n",
       "      <td>Lynbrook</td>\n",
       "      <td>New York</td>\n",
       "      <td>Usa</td>\n",
       "      <td>7.608696</td>\n",
       "    </tr>\n",
       "    <tr>\n",
       "      <th>6</th>\n",
       "      <td>31315</td>\n",
       "      <td>038550120X</td>\n",
       "      <td>6</td>\n",
       "      <td>A Painted House</td>\n",
       "      <td>John Grisham</td>\n",
       "      <td>2001</td>\n",
       "      <td>Doubleday</td>\n",
       "      <td>34.0</td>\n",
       "      <td>Henryville</td>\n",
       "      <td>Indiana</td>\n",
       "      <td>Usa</td>\n",
       "      <td>7.608696</td>\n",
       "    </tr>\n",
       "    <tr>\n",
       "      <th>7</th>\n",
       "      <td>32188</td>\n",
       "      <td>038550120X</td>\n",
       "      <td>8</td>\n",
       "      <td>A Painted House</td>\n",
       "      <td>John Grisham</td>\n",
       "      <td>2001</td>\n",
       "      <td>Doubleday</td>\n",
       "      <td>51.0</td>\n",
       "      <td>St. Louis</td>\n",
       "      <td>Missouri</td>\n",
       "      <td>Usa</td>\n",
       "      <td>7.608696</td>\n",
       "    </tr>\n",
       "    <tr>\n",
       "      <th>8</th>\n",
       "      <td>33974</td>\n",
       "      <td>038550120X</td>\n",
       "      <td>8</td>\n",
       "      <td>A Painted House</td>\n",
       "      <td>John Grisham</td>\n",
       "      <td>2001</td>\n",
       "      <td>Doubleday</td>\n",
       "      <td>24.0</td>\n",
       "      <td>Barnhart</td>\n",
       "      <td>Missouri</td>\n",
       "      <td>Usa</td>\n",
       "      <td>7.608696</td>\n",
       "    </tr>\n",
       "    <tr>\n",
       "      <th>9</th>\n",
       "      <td>37800</td>\n",
       "      <td>038550120X</td>\n",
       "      <td>9</td>\n",
       "      <td>A Painted House</td>\n",
       "      <td>John Grisham</td>\n",
       "      <td>2001</td>\n",
       "      <td>Doubleday</td>\n",
       "      <td>63.0</td>\n",
       "      <td>Rackerby</td>\n",
       "      <td>California</td>\n",
       "      <td>Usa</td>\n",
       "      <td>7.608696</td>\n",
       "    </tr>\n",
       "  </tbody>\n",
       "</table>\n",
       "</div>"
      ],
      "text/plain": [
       "   User ID        ISBN  Book Rating  \\\n",
       "0   276729  052165615X            3   \n",
       "1   276729  0521795028            6   \n",
       "2    16877  038550120X            9   \n",
       "3    21340  038550120X            9   \n",
       "4    21356  038550120X            7   \n",
       "5    22625  038550120X           10   \n",
       "6    31315  038550120X            6   \n",
       "7    32188  038550120X            8   \n",
       "8    33974  038550120X            8   \n",
       "9    37800  038550120X            9   \n",
       "\n",
       "                                          Book Title    Book Author  \\\n",
       "0                                     Help!: Level 1  Philip Prowse   \n",
       "1  The Amsterdam Connection : Level 4 (Cambridge ...    Sue Leather   \n",
       "2                                    A Painted House   John Grisham   \n",
       "3                                    A Painted House   John Grisham   \n",
       "4                                    A Painted House   John Grisham   \n",
       "5                                    A Painted House   John Grisham   \n",
       "6                                    A Painted House   John Grisham   \n",
       "7                                    A Painted House   John Grisham   \n",
       "8                                    A Painted House   John Grisham   \n",
       "9                                    A Painted House   John Grisham   \n",
       "\n",
       "   Publication Year                   Publisher   Age        City       State  \\\n",
       "0              1999  Cambridge University Press  16.0      Rijeka         N/A   \n",
       "1              2001  Cambridge University Press  16.0      Rijeka         N/A   \n",
       "2              2001                   Doubleday  37.0     Houston    Arkansas   \n",
       "3              2001                   Doubleday  45.0      Holton      Kansas   \n",
       "4              2001                   Doubleday  56.0    Westwood  New Jersey   \n",
       "5              2001                   Doubleday  54.0    Lynbrook    New York   \n",
       "6              2001                   Doubleday  34.0  Henryville     Indiana   \n",
       "7              2001                   Doubleday  51.0   St. Louis    Missouri   \n",
       "8              2001                   Doubleday  24.0    Barnhart    Missouri   \n",
       "9              2001                   Doubleday  63.0    Rackerby  California   \n",
       "\n",
       "   Country  Average Rating  \n",
       "0  Croatia        3.000000  \n",
       "1  Croatia        6.000000  \n",
       "2      Usa        7.608696  \n",
       "3      Usa        7.608696  \n",
       "4      Usa        7.608696  \n",
       "5      Usa        7.608696  \n",
       "6      Usa        7.608696  \n",
       "7      Usa        7.608696  \n",
       "8      Usa        7.608696  \n",
       "9      Usa        7.608696  "
      ]
     },
     "execution_count": 4,
     "metadata": {},
     "output_type": "execute_result"
    }
   ],
   "source": [
    "book_ratings_removed_duplicates = book_ratings.drop_duplicates()\n",
    "fix_book_ratings = book_ratings_removed_duplicates[book_ratings_removed_duplicates['Book-Rating'] > 0]\n",
    "books = books[books['Year-Of-Publication'] > 0]\n",
    "books = books[books['Year-Of-Publication'] < 2021]\n",
    "\n",
    "books_with_reviews_and_users = pd.merge(fix_book_ratings,books, how = 'inner').merge(users, how = 'inner')\n",
    "books_with_reviews_and_users = books_with_reviews_and_users.drop_duplicates()\n",
    "books_with_reviews_and_users = books_with_reviews_and_users.drop(columns = ['Image-URL-S', 'Image-URL-M', 'Image-URL-L', 'Location'])\n",
    "books_with_reviews_and_users = books_with_reviews_and_users.rename(columns={\"User-ID\": \"User ID\", \"Book-Rating\": \"Book Rating\", \"Book-Author\": \"Book Author\", \"Book-Title\": \"Book Title\",\"Year-Of-Publication\": \"Publication Year\"})\n",
    "books_with_reviews_and_users['Book Author'] = books_with_reviews_and_users['Book Author'].str.title()\n",
    "\n",
    "avg_rating = books_with_reviews_and_users.groupby(['Book Title'])['Book Rating'].mean()\n",
    "avg_rating = avg_rating.reset_index().rename(columns = {'Book Rating': 'Average Rating'})\n",
    "books_with_reviews_and_users = books_with_reviews_and_users.merge(avg_rating, on = 'Book Title')\n",
    "books_with_reviews_and_users = books_with_reviews_and_users[books_with_reviews_and_users['Book Title'] != 'Wild Animus']\n",
    "\n",
    "books_with_reviews_and_users.head(10)"
   ]
  },
  {
   "cell_type": "markdown",
   "id": "fe72aaa3",
   "metadata": {
    "papermill": {
     "duration": 0.024069,
     "end_time": "2021-11-17T23:17:12.234919",
     "exception": false,
     "start_time": "2021-11-17T23:17:12.210850",
     "status": "completed"
    },
    "tags": []
   },
   "source": [
    "As we can see in the histogram below, the data in our new final dataframe is clean and doing exactly what we want.  We are limiting our data.  We primarily have people from the ages of 25 to 45 who are providing us with the most reviews, which reiterates what was found before that the average age was 35.74.  We can assume that this would be that target audience for the GoodReads app, as well as, publishers."
   ]
  },
  {
   "cell_type": "code",
   "execution_count": 5,
   "id": "1173013e",
   "metadata": {
    "execution": {
     "iopub.execute_input": "2021-11-17T23:17:12.289755Z",
     "iopub.status.busy": "2021-11-17T23:17:12.288850Z",
     "iopub.status.idle": "2021-11-17T23:17:12.627002Z",
     "shell.execute_reply": "2021-11-17T23:17:12.625915Z",
     "shell.execute_reply.started": "2021-11-17T23:11:19.196680Z"
    },
    "papermill": {
     "duration": 0.367799,
     "end_time": "2021-11-17T23:17:12.627202",
     "exception": false,
     "start_time": "2021-11-17T23:17:12.259403",
     "status": "completed"
    },
    "tags": []
   },
   "outputs": [
    {
     "data": {
      "image/png": "[encoded data removed]",
      "text/plain": [
       "<Figure size 432x288 with 1 Axes>"
      ]
     },
     "metadata": {
      "needs_background": "light"
     },
     "output_type": "display_data"
    }
   ],
   "source": [
    "books_with_reviews_and_users['Age'].plot(kind='hist', bins=25);"
   ]
  },
  {
   "cell_type": "code",
   "execution_count": 6,
   "id": "1a4363ac",
   "metadata": {
    "execution": {
     "iopub.execute_input": "2021-11-17T23:17:12.683790Z",
     "iopub.status.busy": "2021-11-17T23:17:12.683082Z",
     "iopub.status.idle": "2021-11-17T23:17:12.978115Z",
     "shell.execute_reply": "2021-11-17T23:17:12.978677Z",
     "shell.execute_reply.started": "2021-11-17T23:11:19.575058Z"
    },
    "papermill": {
     "duration": 0.325746,
     "end_time": "2021-11-17T23:17:12.978887",
     "exception": false,
     "start_time": "2021-11-17T23:17:12.653141",
     "status": "completed"
    },
    "tags": []
   },
   "outputs": [
    {
     "data": {
      "image/png": "[encoded data removed]",
      "text/plain": [
       "<Figure size 432x288 with 1 Axes>"
      ]
     },
     "metadata": {
      "needs_background": "light"
     },
     "output_type": "display_data"
    }
   ],
   "source": [
    "books_with_reviews_and_users['Publication Year'].plot(kind='hist', bins=25);"
   ]
  },
  {
   "cell_type": "code",
   "execution_count": 7,
   "id": "a78384bc",
   "metadata": {
    "execution": {
     "iopub.execute_input": "2021-11-17T23:17:13.035688Z",
     "iopub.status.busy": "2021-11-17T23:17:13.034579Z",
     "iopub.status.idle": "2021-11-17T23:17:13.041566Z",
     "shell.execute_reply": "2021-11-17T23:17:13.042459Z",
     "shell.execute_reply.started": "2021-11-17T23:11:19.918296Z"
    },
    "papermill": {
     "duration": 0.037538,
     "end_time": "2021-11-17T23:17:13.042726",
     "exception": false,
     "start_time": "2021-11-17T23:17:13.005188",
     "status": "completed"
    },
    "tags": []
   },
   "outputs": [
    {
     "name": "stdout",
     "output_type": "stream",
     "text": [
      "The mean Publication Year of our data set is 1996.  We may find this will skew the type of books are in our analysis based on popularity around the time.\n"
     ]
    }
   ],
   "source": [
    "print(f\"The mean Publication Year of our data set is {books_with_reviews_and_users['Publication Year'].mean():.0f}.  We may find this will skew the type of books are in our analysis based on popularity around the time.\")"
   ]
  },
  {
   "cell_type": "markdown",
   "id": "74db63aa",
   "metadata": {
    "papermill": {
     "duration": 0.02642,
     "end_time": "2021-11-17T23:17:13.096677",
     "exception": false,
     "start_time": "2021-11-17T23:17:13.070257",
     "status": "completed"
    },
    "tags": []
   },
   "source": [
    "<a id=\"section-three\"></a>\n",
    "# Analysis - How to Recommend a Book"
   ]
  },
  {
   "cell_type": "markdown",
   "id": "f3005d5d",
   "metadata": {
    "papermill": {
     "duration": 0.026422,
     "end_time": "2021-11-17T23:17:13.149942",
     "exception": false,
     "start_time": "2021-11-17T23:17:13.123520",
     "status": "completed"
    },
    "tags": []
   },
   "source": [
    "How do I recommend a book? \n",
    "\n",
    "This is our overarching question to our data.  We can not rely on genre for recommendations.  The question then became how do we use the ratings to analyze what books users want to read next.  The rating scale we are using is from 0 to 10 with 10 being the highest rating.\n",
    "\n",
    "## Books That Are Frequently Reviewed\n",
    "\n",
    "At first, I looked at some of the books with the highest ratings.  But that wasn't effective enough due to the majority of highest rated books (receiving a 10 rating) were due to few reviews.  Therefore, I looked into the highest frequency of books and their ratings."
   ]
  },
  {
   "cell_type": "code",
   "execution_count": 8,
   "id": "4d7febc9",
   "metadata": {
    "execution": {
     "iopub.execute_input": "2021-11-17T23:17:13.208002Z",
     "iopub.status.busy": "2021-11-17T23:17:13.206879Z",
     "iopub.status.idle": "2021-11-17T23:17:14.024273Z",
     "shell.execute_reply": "2021-11-17T23:17:14.024860Z",
     "shell.execute_reply.started": "2021-11-17T23:11:19.927063Z"
    },
    "papermill": {
     "duration": 0.848185,
     "end_time": "2021-11-17T23:17:14.025050",
     "exception": false,
     "start_time": "2021-11-17T23:17:13.176865",
     "status": "completed"
    },
    "tags": []
   },
   "outputs": [
    {
     "data": {
      "image/png": "[encoded data removed]",
      "text/plain": [
       "<Figure size 576x792 with 1 Axes>"
      ]
     },
     "metadata": {},
     "output_type": "display_data"
    }
   ],
   "source": [
    "books_with_reviews_and_users['Frequency'] = books_with_reviews_and_users['Book Title'].map(books_with_reviews_and_users['Book Title'].value_counts())\n",
    "books_by_rating_and_frequency = books_with_reviews_and_users[['Book Title', 'Average Rating', 'Frequency']].groupby('Book Title').mean().sort_values('Frequency', ascending=False).head(10)\n",
    "plt.style.use('seaborn-darkgrid')\n",
    "plt.figure()\n",
    "final_rating_by_frequency = books_by_rating_and_frequency['Average Rating'].plot(kind='barh', figsize=(8,11))\n",
    "final_rating_by_frequency.invert_yaxis()\n",
    "plt.title(\"Most Frequently Rated Books\")\n",
    "plt.xlabel(\"Book Title\")\n",
    "plt.ylabel(\"Average Rating\");"
   ]
  },
  {
   "cell_type": "code",
   "execution_count": 9,
   "id": "e445d770",
   "metadata": {
    "execution": {
     "iopub.execute_input": "2021-11-17T23:17:14.129017Z",
     "iopub.status.busy": "2021-11-17T23:17:14.127193Z",
     "iopub.status.idle": "2021-11-17T23:17:14.132489Z",
     "shell.execute_reply": "2021-11-17T23:17:14.131771Z",
     "shell.execute_reply.started": "2021-11-17T23:11:20.691447Z"
    },
    "papermill": {
     "duration": 0.079799,
     "end_time": "2021-11-17T23:17:14.132641",
     "exception": false,
     "start_time": "2021-11-17T23:17:14.052842",
     "status": "completed"
    },
    "tags": []
   },
   "outputs": [
    {
     "name": "stdout",
     "output_type": "stream",
     "text": [
      "As you can see in the bar graph below - just because a book was frequently reviewed and read, doesn't mean it is highly recommended by the community. 'The Lovely Bones' was the most frequently reviewed book with an average rating of: 8.25\n"
     ]
    }
   ],
   "source": [
    "print(f\"As you can see in the bar graph below - just because a book was frequently reviewed and read, doesn't mean it is highly recommended by the community. 'The Lovely Bones' was the most frequently reviewed book with an average rating of: {books_with_reviews_and_users.loc[books_with_reviews_and_users['Book Title'] == 'The Lovely Bones: A Novel']['Average Rating'].max():.2f}\")"
   ]
  },
  {
   "cell_type": "markdown",
   "id": "033fea88",
   "metadata": {
    "papermill": {
     "duration": 0.028493,
     "end_time": "2021-11-17T23:17:14.189135",
     "exception": false,
     "start_time": "2021-11-17T23:17:14.160642",
     "status": "completed"
    },
    "tags": []
   },
   "source": [
    "## Books That Are Frequently Reviewed with High Average Ratings\n",
    "\n",
    "Therefore, I analyzed next the most frequently reviewed books with the highest ratings.  In the top 10 were books from *Lord of the Rings* series as well as *Harry Potter* series and *To Kill a Mocking Bird*.  If a user is looking for popularity these would be the top 10 books to recommend for all time in our data set."
   ]
  },
  {
   "cell_type": "code",
   "execution_count": 10,
   "id": "463d6809",
   "metadata": {
    "execution": {
     "iopub.execute_input": "2021-11-17T23:17:14.253509Z",
     "iopub.status.busy": "2021-11-17T23:17:14.248505Z",
     "iopub.status.idle": "2021-11-17T23:17:14.939968Z",
     "shell.execute_reply": "2021-11-17T23:17:14.939267Z",
     "shell.execute_reply.started": "2021-11-17T23:11:20.742331Z"
    },
    "papermill": {
     "duration": 0.722584,
     "end_time": "2021-11-17T23:17:14.940126",
     "exception": false,
     "start_time": "2021-11-17T23:17:14.217542",
     "status": "completed"
    },
    "tags": []
   },
   "outputs": [
    {
     "data": {
      "image/png": "[encoded data removed]",
      "text/plain": [
       "<Figure size 576x792 with 1 Axes>"
      ]
     },
     "metadata": {},
     "output_type": "display_data"
    }
   ],
   "source": [
    "books_by_frequency = books_with_reviews_and_users[['Book Title', 'Book Rating', 'Frequency']].groupby('Book Title').mean().sort_values('Frequency', ascending=False).head(100)\n",
    "books_by_highest_rated_and_frequency = books_by_frequency.sort_values('Book Rating', ascending=False).head(10)\n",
    "plt.style.use('seaborn-darkgrid')\n",
    "plt.figure()\n",
    "final_highest_rated = books_by_highest_rated_and_frequency['Book Rating'].plot(kind='barh', figsize=(8,11))\n",
    "final_highest_rated.invert_yaxis()\n",
    "plt.title(\"Most Frequently Rated Books with Highest Overall Ratings\")\n",
    "plt.xlabel(\"Book Title\")\n",
    "plt.ylabel(\"Average Rating\");"
   ]
  },
  {
   "cell_type": "markdown",
   "id": "a274daf4",
   "metadata": {
    "papermill": {
     "duration": 0.029487,
     "end_time": "2021-11-17T23:17:15.000425",
     "exception": false,
     "start_time": "2021-11-17T23:17:14.970938",
     "status": "completed"
    },
    "tags": []
   },
   "source": [
    "## Authors Whose Work is Frequently Read with Wigh Average Ratings\n",
    "\n",
    "If a user instead was looking for top authors, and then exploring that specific author's work - the bar chart below would be an excellent list based off of ratings to recommend.  Ranging from J.K. Rowling to William Shakespeare - this is the top 10 most commonly read and highest rated list of authors."
   ]
  },
  {
   "cell_type": "code",
   "execution_count": 11,
   "id": "0e88928f",
   "metadata": {
    "execution": {
     "iopub.execute_input": "2021-11-17T23:17:15.154787Z",
     "iopub.status.busy": "2021-11-17T23:17:15.153426Z",
     "iopub.status.idle": "2021-11-17T23:17:15.830105Z",
     "shell.execute_reply": "2021-11-17T23:17:15.830960Z",
     "shell.execute_reply.started": "2021-11-17T23:11:21.393141Z"
    },
    "papermill": {
     "duration": 0.800889,
     "end_time": "2021-11-17T23:17:15.831207",
     "exception": false,
     "start_time": "2021-11-17T23:17:15.030318",
     "status": "completed"
    },
    "tags": []
   },
   "outputs": [
    {
     "data": {
      "image/png": "[encoded data removed]",
      "text/plain": [
       "<Figure size 576x792 with 1 Axes>"
      ]
     },
     "metadata": {},
     "output_type": "display_data"
    }
   ],
   "source": [
    "books_with_reviews_and_users['Author Frequency'] = books_with_reviews_and_users['Book Author'].map(books_with_reviews_and_users['Book Author'].value_counts())\n",
    "books_by_author_frequency = books_with_reviews_and_users[['Book Author', 'Book Rating', 'Author Frequency']].groupby('Book Author').mean().sort_values('Author Frequency', ascending=False).head(100)\n",
    "books_by_highest_rated_and_author_frequency = books_by_author_frequency.sort_values('Book Rating', ascending=False).head(10)\n",
    "plt.style.use('seaborn-darkgrid')\n",
    "plt.figure()\n",
    "final_highest_rated_authors = books_by_highest_rated_and_author_frequency['Book Rating'].plot(kind='barh', figsize=(8,11))\n",
    "final_highest_rated_authors.invert_yaxis()\n",
    "plt.title(\"Most Frequently Rated and Highest Rated Authors\")\n",
    "plt.xlabel(\"Authors\")\n",
    "plt.ylabel(\"Average Rating\");"
   ]
  },
  {
   "cell_type": "markdown",
   "id": "c9cd124a",
   "metadata": {
    "papermill": {
     "duration": 0.031145,
     "end_time": "2021-11-17T23:17:15.898373",
     "exception": false,
     "start_time": "2021-11-17T23:17:15.867228",
     "status": "completed"
    },
    "tags": []
   },
   "source": [
    "## Books That Are Frequently Read With High Average Ratings by User's Country\n",
    "#### (Limited to the Top 10 Most Common User's Country)\n",
    "\n",
    "The above recommendations were more general.  Next I wanted to look more specifically at the user.  Because we couldn't see the specific genre of the books read by specific users, I looked into their location demographics.  From here, I found the top read and rated books from each country.  Now I could create recommendations for a user by finding their country and seeing what book would be best recommend by their countrymates. "
   ]
  },
  {
   "cell_type": "code",
   "execution_count": 12,
   "id": "f4252620",
   "metadata": {
    "execution": {
     "iopub.execute_input": "2021-11-17T23:17:16.010777Z",
     "iopub.status.busy": "2021-11-17T23:17:16.009642Z",
     "iopub.status.idle": "2021-11-17T23:17:16.512741Z",
     "shell.execute_reply": "2021-11-17T23:17:16.512033Z",
     "shell.execute_reply.started": "2021-11-17T23:11:22.034899Z"
    },
    "papermill": {
     "duration": 0.583893,
     "end_time": "2021-11-17T23:17:16.512967",
     "exception": false,
     "start_time": "2021-11-17T23:17:15.929074",
     "status": "completed"
    },
    "tags": []
   },
   "outputs": [
    {
     "data": {
      "text/html": [
       "<style type=\"text/css\">\n",
       "</style>\n",
       "<table id=\"T_a0ca2_\">\n",
       "  <thead>\n",
       "    <tr>\n",
       "      <th class=\"col_heading level0 col0\" >Country</th>\n",
       "      <th class=\"col_heading level0 col1\" >Book Title</th>\n",
       "    </tr>\n",
       "  </thead>\n",
       "  <tbody>\n",
       "    <tr>\n",
       "      <td id=\"T_a0ca2_row0_col0\" class=\"data row0 col0\" >Usa</td>\n",
       "      <td id=\"T_a0ca2_row0_col1\" class=\"data row0 col1\" >The Secret Life of Bees</td>\n",
       "    </tr>\n",
       "    <tr>\n",
       "      <td id=\"T_a0ca2_row1_col0\" class=\"data row1 col0\" >Canada</td>\n",
       "      <td id=\"T_a0ca2_row1_col1\" class=\"data row1 col1\" >The Secret Life of Bees</td>\n",
       "    </tr>\n",
       "    <tr>\n",
       "      <td id=\"T_a0ca2_row2_col0\" class=\"data row2 col0\" >United Kingdom</td>\n",
       "      <td id=\"T_a0ca2_row2_col1\" class=\"data row2 col1\" >The Secret Life of Bees</td>\n",
       "    </tr>\n",
       "    <tr>\n",
       "      <td id=\"T_a0ca2_row3_col0\" class=\"data row3 col0\" >Germany</td>\n",
       "      <td id=\"T_a0ca2_row3_col1\" class=\"data row3 col1\" >The Secret Life of Bees</td>\n",
       "    </tr>\n",
       "    <tr>\n",
       "      <td id=\"T_a0ca2_row4_col0\" class=\"data row4 col0\" >Spain</td>\n",
       "      <td id=\"T_a0ca2_row4_col1\" class=\"data row4 col1\" >The Secret Life of Bees</td>\n",
       "    </tr>\n",
       "    <tr>\n",
       "      <td id=\"T_a0ca2_row5_col0\" class=\"data row5 col0\" >Australia</td>\n",
       "      <td id=\"T_a0ca2_row5_col1\" class=\"data row5 col1\" >The Da Vinci Code</td>\n",
       "    </tr>\n",
       "    <tr>\n",
       "      <td id=\"T_a0ca2_row6_col0\" class=\"data row6 col0\" >France</td>\n",
       "      <td id=\"T_a0ca2_row6_col1\" class=\"data row6 col1\" >The Secret Life of Bees</td>\n",
       "    </tr>\n",
       "    <tr>\n",
       "      <td id=\"T_a0ca2_row7_col0\" class=\"data row7 col0\" >Portugal</td>\n",
       "      <td id=\"T_a0ca2_row7_col1\" class=\"data row7 col1\" >The Da Vinci Code</td>\n",
       "    </tr>\n",
       "    <tr>\n",
       "      <td id=\"T_a0ca2_row8_col0\" class=\"data row8 col0\" >Malaysia</td>\n",
       "      <td id=\"T_a0ca2_row8_col1\" class=\"data row8 col1\" >The Secret Life of Bees</td>\n",
       "    </tr>\n",
       "    <tr>\n",
       "      <td id=\"T_a0ca2_row9_col0\" class=\"data row9 col0\" >Switzerland</td>\n",
       "      <td id=\"T_a0ca2_row9_col1\" class=\"data row9 col1\" >The Lovely Bones: A Novel</td>\n",
       "    </tr>\n",
       "  </tbody>\n",
       "</table>\n"
      ],
      "text/plain": [
       "<pandas.io.formats.style.Styler at 0x7f9c9a31ae10>"
      ]
     },
     "execution_count": 12,
     "metadata": {},
     "output_type": "execute_result"
    }
   ],
   "source": [
    "ten_countries = [0,1,2,3,4,5,6,7,8,9]\n",
    "top_ten_countries = books_with_reviews_and_users['Country'].value_counts().reset_index().head(10)\n",
    "top_ten_countries.index = top_ten_countries.index.astype(int)\n",
    "top_ten_countries = top_ten_countries.rename(columns={'index': 'Country', 'Country': 'Count'})\n",
    "\n",
    "country_book_count_list = books_with_reviews_and_users[['Book Title', 'Country', 'Average Rating', 'Frequency']].groupby(['Book Title', 'Country']).mean().sort_values('Frequency', ascending=False).head(100)\n",
    "country_book_count_list = country_book_count_list.sort_values(['Average Rating', 'Frequency'], ascending=False)\n",
    "country_book_count_list = country_book_count_list.reset_index().rename(columns = {0: 'Book Read by Country Frequency'})\n",
    "top_book_per_country = country_book_count_list.groupby('Country').head(1)\n",
    "\n",
    "country_book_list = top_book_per_country.merge(top_ten_countries, how='inner').sort_values(['Count'], ascending=False)      \n",
    "country_book_list[['Country', 'Book Title']].style.hide_index()"
   ]
  },
  {
   "cell_type": "markdown",
   "id": "049d370e",
   "metadata": {
    "papermill": {
     "duration": 0.031308,
     "end_time": "2021-11-17T23:17:16.576192",
     "exception": false,
     "start_time": "2021-11-17T23:17:16.544884",
     "status": "completed"
    },
    "tags": []
   },
   "source": [
    "## Books Most Frequently Read With High Average Ratings By User's Age\n",
    "\n",
    "Then I took the analysis further and more specific for the users I have compiled. Although most read book in a country might satisfy a lot of readers it is still pulling from a broad group.  So, I looked more specifically at the age of each reader and what book is most commonly read among peers. Below is for the age range of 5 to 54 for book recommendations."
   ]
  },
  {
   "cell_type": "code",
   "execution_count": 13,
   "id": "b3b7f039",
   "metadata": {
    "execution": {
     "iopub.execute_input": "2021-11-17T23:17:16.646397Z",
     "iopub.status.busy": "2021-11-17T23:17:16.645638Z",
     "iopub.status.idle": "2021-11-17T23:17:17.107640Z",
     "shell.execute_reply": "2021-11-17T23:17:17.106788Z",
     "shell.execute_reply.started": "2021-11-17T23:11:22.569034Z"
    },
    "papermill": {
     "duration": 0.500492,
     "end_time": "2021-11-17T23:17:17.107848",
     "exception": false,
     "start_time": "2021-11-17T23:17:16.607356",
     "status": "completed"
    },
    "tags": []
   },
   "outputs": [
    {
     "data": {
      "text/html": [
       "<style type=\"text/css\">\n",
       "</style>\n",
       "<table id=\"T_8ad35_\">\n",
       "  <thead>\n",
       "    <tr>\n",
       "      <th class=\"col_heading level0 col0\" >Age</th>\n",
       "      <th class=\"col_heading level0 col1\" >Book Title</th>\n",
       "    </tr>\n",
       "  </thead>\n",
       "  <tbody>\n",
       "    <tr>\n",
       "      <td id=\"T_8ad35_row0_col0\" class=\"data row0 col0\" >5</td>\n",
       "      <td id=\"T_8ad35_row0_col1\" class=\"data row0 col1\" >Fairy Things to Make and Do (Activity Books)</td>\n",
       "    </tr>\n",
       "    <tr>\n",
       "      <td id=\"T_8ad35_row1_col0\" class=\"data row1 col0\" >6</td>\n",
       "      <td id=\"T_8ad35_row1_col1\" class=\"data row1 col1\" >How to Eat Fried Worms</td>\n",
       "    </tr>\n",
       "    <tr>\n",
       "      <td id=\"T_8ad35_row2_col0\" class=\"data row2 col0\" >7</td>\n",
       "      <td id=\"T_8ad35_row2_col1\" class=\"data row2 col1\" >Scooby-Doo and the Haunted Castle (Scooby-Doo Mysteries, 1)</td>\n",
       "    </tr>\n",
       "    <tr>\n",
       "      <td id=\"T_8ad35_row3_col0\" class=\"data row3 col0\" >8</td>\n",
       "      <td id=\"T_8ad35_row3_col1\" class=\"data row3 col1\" >The Cat in the Hat</td>\n",
       "    </tr>\n",
       "    <tr>\n",
       "      <td id=\"T_8ad35_row4_col0\" class=\"data row4 col0\" >9</td>\n",
       "      <td id=\"T_8ad35_row4_col1\" class=\"data row4 col1\" >Captain Underpants and the Attack of the Talking Toilets: Another Epic Novel (Captain Underpants (Paper))</td>\n",
       "    </tr>\n",
       "    <tr>\n",
       "      <td id=\"T_8ad35_row5_col0\" class=\"data row5 col0\" >10</td>\n",
       "      <td id=\"T_8ad35_row5_col1\" class=\"data row5 col1\" >Captain Underpants and the Wrath of the Wicked Wedgie Woman</td>\n",
       "    </tr>\n",
       "    <tr>\n",
       "      <td id=\"T_8ad35_row6_col0\" class=\"data row6 col0\" >11</td>\n",
       "      <td id=\"T_8ad35_row6_col1\" class=\"data row6 col1\" >Inuyasha (Inuyasha)</td>\n",
       "    </tr>\n",
       "    <tr>\n",
       "      <td id=\"T_8ad35_row7_col0\" class=\"data row7 col0\" >12</td>\n",
       "      <td id=\"T_8ad35_row7_col1\" class=\"data row7 col1\" >Harry Potter and the Sorcerer's Stone (Harry Potter (Paperback))</td>\n",
       "    </tr>\n",
       "    <tr>\n",
       "      <td id=\"T_8ad35_row8_col0\" class=\"data row8 col0\" >13</td>\n",
       "      <td id=\"T_8ad35_row8_col1\" class=\"data row8 col1\" >Harry Potter and the Chamber of Secrets (Book 2)</td>\n",
       "    </tr>\n",
       "    <tr>\n",
       "      <td id=\"T_8ad35_row9_col0\" class=\"data row9 col0\" >14</td>\n",
       "      <td id=\"T_8ad35_row9_col1\" class=\"data row9 col1\" >Harry Potter and the Prisoner of Azkaban (Book 3)</td>\n",
       "    </tr>\n",
       "    <tr>\n",
       "      <td id=\"T_8ad35_row10_col0\" class=\"data row10 col0\" >15</td>\n",
       "      <td id=\"T_8ad35_row10_col1\" class=\"data row10 col1\" >Harry Potter and the Goblet of Fire (Book 4)</td>\n",
       "    </tr>\n",
       "    <tr>\n",
       "      <td id=\"T_8ad35_row11_col0\" class=\"data row11 col0\" >16</td>\n",
       "      <td id=\"T_8ad35_row11_col1\" class=\"data row11 col1\" >The Hobbit : The Enchanting Prelude to The Lord of the Rings</td>\n",
       "    </tr>\n",
       "    <tr>\n",
       "      <td id=\"T_8ad35_row12_col0\" class=\"data row12 col0\" >17</td>\n",
       "      <td id=\"T_8ad35_row12_col1\" class=\"data row12 col1\" >The Lovely Bones: A Novel</td>\n",
       "    </tr>\n",
       "    <tr>\n",
       "      <td id=\"T_8ad35_row13_col0\" class=\"data row13 col0\" >18</td>\n",
       "      <td id=\"T_8ad35_row13_col1\" class=\"data row13 col1\" >Harry Potter and the Chamber of Secrets (Book 2)</td>\n",
       "    </tr>\n",
       "    <tr>\n",
       "      <td id=\"T_8ad35_row14_col0\" class=\"data row14 col0\" >19</td>\n",
       "      <td id=\"T_8ad35_row14_col1\" class=\"data row14 col1\" >The Catcher in the Rye</td>\n",
       "    </tr>\n",
       "    <tr>\n",
       "      <td id=\"T_8ad35_row15_col0\" class=\"data row15 col0\" >20</td>\n",
       "      <td id=\"T_8ad35_row15_col1\" class=\"data row15 col1\" >The Catcher in the Rye</td>\n",
       "    </tr>\n",
       "    <tr>\n",
       "      <td id=\"T_8ad35_row16_col0\" class=\"data row16 col0\" >21</td>\n",
       "      <td id=\"T_8ad35_row16_col1\" class=\"data row16 col1\" >Bridget Jones's Diary</td>\n",
       "    </tr>\n",
       "    <tr>\n",
       "      <td id=\"T_8ad35_row17_col0\" class=\"data row17 col0\" >22</td>\n",
       "      <td id=\"T_8ad35_row17_col1\" class=\"data row17 col1\" >Bridget Jones's Diary</td>\n",
       "    </tr>\n",
       "    <tr>\n",
       "      <td id=\"T_8ad35_row18_col0\" class=\"data row18 col0\" >23</td>\n",
       "      <td id=\"T_8ad35_row18_col1\" class=\"data row18 col1\" >The Lovely Bones: A Novel</td>\n",
       "    </tr>\n",
       "    <tr>\n",
       "      <td id=\"T_8ad35_row19_col0\" class=\"data row19 col0\" >24</td>\n",
       "      <td id=\"T_8ad35_row19_col1\" class=\"data row19 col1\" >Harry Potter and the Order of the Phoenix (Book 5)</td>\n",
       "    </tr>\n",
       "    <tr>\n",
       "      <td id=\"T_8ad35_row20_col0\" class=\"data row20 col0\" >25</td>\n",
       "      <td id=\"T_8ad35_row20_col1\" class=\"data row20 col1\" >The Lovely Bones: A Novel</td>\n",
       "    </tr>\n",
       "    <tr>\n",
       "      <td id=\"T_8ad35_row21_col0\" class=\"data row21 col0\" >26</td>\n",
       "      <td id=\"T_8ad35_row21_col1\" class=\"data row21 col1\" >The Da Vinci Code</td>\n",
       "    </tr>\n",
       "    <tr>\n",
       "      <td id=\"T_8ad35_row22_col0\" class=\"data row22 col0\" >27</td>\n",
       "      <td id=\"T_8ad35_row22_col1\" class=\"data row22 col1\" >The Da Vinci Code</td>\n",
       "    </tr>\n",
       "    <tr>\n",
       "      <td id=\"T_8ad35_row23_col0\" class=\"data row23 col0\" >28</td>\n",
       "      <td id=\"T_8ad35_row23_col1\" class=\"data row23 col1\" >The Lovely Bones: A Novel</td>\n",
       "    </tr>\n",
       "    <tr>\n",
       "      <td id=\"T_8ad35_row24_col0\" class=\"data row24 col0\" >29</td>\n",
       "      <td id=\"T_8ad35_row24_col1\" class=\"data row24 col1\" >The Lovely Bones: A Novel</td>\n",
       "    </tr>\n",
       "    <tr>\n",
       "      <td id=\"T_8ad35_row25_col0\" class=\"data row25 col0\" >30</td>\n",
       "      <td id=\"T_8ad35_row25_col1\" class=\"data row25 col1\" >The Lovely Bones: A Novel</td>\n",
       "    </tr>\n",
       "    <tr>\n",
       "      <td id=\"T_8ad35_row26_col0\" class=\"data row26 col0\" >31</td>\n",
       "      <td id=\"T_8ad35_row26_col1\" class=\"data row26 col1\" >She's Come Undone (Oprah's Book Club)</td>\n",
       "    </tr>\n",
       "    <tr>\n",
       "      <td id=\"T_8ad35_row27_col0\" class=\"data row27 col0\" >32</td>\n",
       "      <td id=\"T_8ad35_row27_col1\" class=\"data row27 col1\" >The Lovely Bones: A Novel</td>\n",
       "    </tr>\n",
       "    <tr>\n",
       "      <td id=\"T_8ad35_row28_col0\" class=\"data row28 col0\" >33</td>\n",
       "      <td id=\"T_8ad35_row28_col1\" class=\"data row28 col1\" >The Lovely Bones: A Novel</td>\n",
       "    </tr>\n",
       "    <tr>\n",
       "      <td id=\"T_8ad35_row29_col0\" class=\"data row29 col0\" >34</td>\n",
       "      <td id=\"T_8ad35_row29_col1\" class=\"data row29 col1\" >The Lovely Bones: A Novel</td>\n",
       "    </tr>\n",
       "    <tr>\n",
       "      <td id=\"T_8ad35_row30_col0\" class=\"data row30 col0\" >35</td>\n",
       "      <td id=\"T_8ad35_row30_col1\" class=\"data row30 col1\" >The Lovely Bones: A Novel</td>\n",
       "    </tr>\n",
       "    <tr>\n",
       "      <td id=\"T_8ad35_row31_col0\" class=\"data row31 col0\" >36</td>\n",
       "      <td id=\"T_8ad35_row31_col1\" class=\"data row31 col1\" >Bridget Jones's Diary</td>\n",
       "    </tr>\n",
       "    <tr>\n",
       "      <td id=\"T_8ad35_row32_col0\" class=\"data row32 col0\" >37</td>\n",
       "      <td id=\"T_8ad35_row32_col1\" class=\"data row32 col1\" >The Lovely Bones: A Novel</td>\n",
       "    </tr>\n",
       "    <tr>\n",
       "      <td id=\"T_8ad35_row33_col0\" class=\"data row33 col0\" >38</td>\n",
       "      <td id=\"T_8ad35_row33_col1\" class=\"data row33 col1\" >The Lovely Bones: A Novel</td>\n",
       "    </tr>\n",
       "    <tr>\n",
       "      <td id=\"T_8ad35_row34_col0\" class=\"data row34 col0\" >39</td>\n",
       "      <td id=\"T_8ad35_row34_col1\" class=\"data row34 col1\" >Harry Potter and the Chamber of Secrets (Book 2)</td>\n",
       "    </tr>\n",
       "    <tr>\n",
       "      <td id=\"T_8ad35_row35_col0\" class=\"data row35 col0\" >40</td>\n",
       "      <td id=\"T_8ad35_row35_col1\" class=\"data row35 col1\" >The Lovely Bones: A Novel</td>\n",
       "    </tr>\n",
       "    <tr>\n",
       "      <td id=\"T_8ad35_row36_col0\" class=\"data row36 col0\" >41</td>\n",
       "      <td id=\"T_8ad35_row36_col1\" class=\"data row36 col1\" >The Lovely Bones: A Novel</td>\n",
       "    </tr>\n",
       "    <tr>\n",
       "      <td id=\"T_8ad35_row37_col0\" class=\"data row37 col0\" >42</td>\n",
       "      <td id=\"T_8ad35_row37_col1\" class=\"data row37 col1\" >The Lovely Bones: A Novel</td>\n",
       "    </tr>\n",
       "    <tr>\n",
       "      <td id=\"T_8ad35_row38_col0\" class=\"data row38 col0\" >43</td>\n",
       "      <td id=\"T_8ad35_row38_col1\" class=\"data row38 col1\" >The Lovely Bones: A Novel</td>\n",
       "    </tr>\n",
       "    <tr>\n",
       "      <td id=\"T_8ad35_row39_col0\" class=\"data row39 col0\" >44</td>\n",
       "      <td id=\"T_8ad35_row39_col1\" class=\"data row39 col1\" >The Nanny Diaries: A Novel</td>\n",
       "    </tr>\n",
       "    <tr>\n",
       "      <td id=\"T_8ad35_row40_col0\" class=\"data row40 col0\" >45</td>\n",
       "      <td id=\"T_8ad35_row40_col1\" class=\"data row40 col1\" >The Lovely Bones: A Novel</td>\n",
       "    </tr>\n",
       "    <tr>\n",
       "      <td id=\"T_8ad35_row41_col0\" class=\"data row41 col0\" >46</td>\n",
       "      <td id=\"T_8ad35_row41_col1\" class=\"data row41 col1\" >The Da Vinci Code</td>\n",
       "    </tr>\n",
       "    <tr>\n",
       "      <td id=\"T_8ad35_row42_col0\" class=\"data row42 col0\" >47</td>\n",
       "      <td id=\"T_8ad35_row42_col1\" class=\"data row42 col1\" >The Lovely Bones: A Novel</td>\n",
       "    </tr>\n",
       "    <tr>\n",
       "      <td id=\"T_8ad35_row43_col0\" class=\"data row43 col0\" >48</td>\n",
       "      <td id=\"T_8ad35_row43_col1\" class=\"data row43 col1\" >The Five People You Meet in Heaven</td>\n",
       "    </tr>\n",
       "    <tr>\n",
       "      <td id=\"T_8ad35_row44_col0\" class=\"data row44 col0\" >49</td>\n",
       "      <td id=\"T_8ad35_row44_col1\" class=\"data row44 col1\" >The Lovely Bones: A Novel</td>\n",
       "    </tr>\n",
       "    <tr>\n",
       "      <td id=\"T_8ad35_row45_col0\" class=\"data row45 col0\" >50</td>\n",
       "      <td id=\"T_8ad35_row45_col1\" class=\"data row45 col1\" >The Da Vinci Code</td>\n",
       "    </tr>\n",
       "    <tr>\n",
       "      <td id=\"T_8ad35_row46_col0\" class=\"data row46 col0\" >51</td>\n",
       "      <td id=\"T_8ad35_row46_col1\" class=\"data row46 col1\" >The Da Vinci Code</td>\n",
       "    </tr>\n",
       "    <tr>\n",
       "      <td id=\"T_8ad35_row47_col0\" class=\"data row47 col0\" >52</td>\n",
       "      <td id=\"T_8ad35_row47_col1\" class=\"data row47 col1\" >The Da Vinci Code</td>\n",
       "    </tr>\n",
       "    <tr>\n",
       "      <td id=\"T_8ad35_row48_col0\" class=\"data row48 col0\" >53</td>\n",
       "      <td id=\"T_8ad35_row48_col1\" class=\"data row48 col1\" >The Da Vinci Code</td>\n",
       "    </tr>\n",
       "    <tr>\n",
       "      <td id=\"T_8ad35_row49_col0\" class=\"data row49 col0\" >54</td>\n",
       "      <td id=\"T_8ad35_row49_col1\" class=\"data row49 col1\" >The Secret Life of Bees</td>\n",
       "    </tr>\n",
       "  </tbody>\n",
       "</table>\n"
      ],
      "text/plain": [
       "<pandas.io.formats.style.Styler at 0x7f9c8df7c610>"
      ]
     },
     "execution_count": 13,
     "metadata": {},
     "output_type": "execute_result"
    }
   ],
   "source": [
    "age_book_count_list = books_with_reviews_and_users.value_counts(['Age', 'Book Title', 'Average Rating']).to_frame().reset_index().rename(columns = {0: 'Book Read by Age Frequency'})\n",
    "age_book_count_list = age_book_count_list.sort_values(['Book Read by Age Frequency', 'Average Rating'], ascending=False)\n",
    "top_book_per_age = age_book_count_list.groupby('Age').head(1)\n",
    "df_no_indices = top_book_per_age[['Age', 'Book Title']].sort_values('Age', ascending=True).head(50)\n",
    "df_no_indices.Age = df_no_indices.Age.astype(int)\n",
    "df_no_indices.style.hide_index()"
   ]
  },
  {
   "cell_type": "markdown",
   "id": "fac8c5d5",
   "metadata": {
    "papermill": {
     "duration": 0.033194,
     "end_time": "2021-11-17T23:17:17.173941",
     "exception": false,
     "start_time": "2021-11-17T23:17:17.140747",
     "status": "completed"
    },
    "tags": []
   },
   "source": [
    "## Most Frequently Book With High Average Ratings By Age & Country\n",
    "\n",
    "Even more specifically, I looked into the analysis of the most read books by user's age and country.  I then created a recommendation list based off of those two specific factors."
   ]
  },
  {
   "cell_type": "code",
   "execution_count": 14,
   "id": "8f5363af",
   "metadata": {
    "execution": {
     "iopub.execute_input": "2021-11-17T23:17:17.257488Z",
     "iopub.status.busy": "2021-11-17T23:17:17.256413Z",
     "iopub.status.idle": "2021-11-17T23:17:17.791755Z",
     "shell.execute_reply": "2021-11-17T23:17:17.791168Z",
     "shell.execute_reply.started": "2021-11-17T23:11:23.020639Z"
    },
    "papermill": {
     "duration": 0.584984,
     "end_time": "2021-11-17T23:17:17.791933",
     "exception": false,
     "start_time": "2021-11-17T23:17:17.206949",
     "status": "completed"
    },
    "tags": []
   },
   "outputs": [
    {
     "data": {
      "text/html": [
       "<style type=\"text/css\">\n",
       "</style>\n",
       "<table id=\"T_10c2d_\">\n",
       "  <thead>\n",
       "    <tr>\n",
       "      <th class=\"col_heading level0 col0\" >Country</th>\n",
       "      <th class=\"col_heading level0 col1\" >Age</th>\n",
       "      <th class=\"col_heading level0 col2\" >Book Title</th>\n",
       "    </tr>\n",
       "  </thead>\n",
       "  <tbody>\n",
       "    <tr>\n",
       "      <td id=\"T_10c2d_row0_col0\" class=\"data row0 col0\" >Usa</td>\n",
       "      <td id=\"T_10c2d_row0_col1\" class=\"data row0 col1\" >17</td>\n",
       "      <td id=\"T_10c2d_row0_col2\" class=\"data row0 col2\" >Coal: A Human History</td>\n",
       "    </tr>\n",
       "    <tr>\n",
       "      <td id=\"T_10c2d_row1_col0\" class=\"data row1 col0\" >Usa</td>\n",
       "      <td id=\"T_10c2d_row1_col1\" class=\"data row1 col1\" >18</td>\n",
       "      <td id=\"T_10c2d_row1_col2\" class=\"data row1 col2\" >Simisola</td>\n",
       "    </tr>\n",
       "    <tr>\n",
       "      <td id=\"T_10c2d_row2_col0\" class=\"data row2 col0\" >Usa</td>\n",
       "      <td id=\"T_10c2d_row2_col1\" class=\"data row2 col1\" >19</td>\n",
       "      <td id=\"T_10c2d_row2_col2\" class=\"data row2 col2\" >The Catcher in the Rye</td>\n",
       "    </tr>\n",
       "    <tr>\n",
       "      <td id=\"T_10c2d_row3_col0\" class=\"data row3 col0\" >Usa</td>\n",
       "      <td id=\"T_10c2d_row3_col1\" class=\"data row3 col1\" >23</td>\n",
       "      <td id=\"T_10c2d_row3_col2\" class=\"data row3 col2\" >Harry Potter and the Sorcerer's Stone (Harry Potter (Paperback))</td>\n",
       "    </tr>\n",
       "    <tr>\n",
       "      <td id=\"T_10c2d_row4_col0\" class=\"data row4 col0\" >Usa</td>\n",
       "      <td id=\"T_10c2d_row4_col1\" class=\"data row4 col1\" >24</td>\n",
       "      <td id=\"T_10c2d_row4_col2\" class=\"data row4 col2\" >Harry Potter and the Chamber of Secrets (Book 2)</td>\n",
       "    </tr>\n",
       "    <tr>\n",
       "      <td id=\"T_10c2d_row5_col0\" class=\"data row5 col0\" >Usa</td>\n",
       "      <td id=\"T_10c2d_row5_col1\" class=\"data row5 col1\" >25</td>\n",
       "      <td id=\"T_10c2d_row5_col2\" class=\"data row5 col2\" >The Lovely Bones: A Novel</td>\n",
       "    </tr>\n",
       "    <tr>\n",
       "      <td id=\"T_10c2d_row6_col0\" class=\"data row6 col0\" >Usa</td>\n",
       "      <td id=\"T_10c2d_row6_col1\" class=\"data row6 col1\" >26</td>\n",
       "      <td id=\"T_10c2d_row6_col2\" class=\"data row6 col2\" >The Da Vinci Code</td>\n",
       "    </tr>\n",
       "    <tr>\n",
       "      <td id=\"T_10c2d_row7_col0\" class=\"data row7 col0\" >Usa</td>\n",
       "      <td id=\"T_10c2d_row7_col1\" class=\"data row7 col1\" >27</td>\n",
       "      <td id=\"T_10c2d_row7_col2\" class=\"data row7 col2\" >Harry Potter and the Sorcerer's Stone (Harry Potter (Paperback))</td>\n",
       "    </tr>\n",
       "    <tr>\n",
       "      <td id=\"T_10c2d_row8_col0\" class=\"data row8 col0\" >Usa</td>\n",
       "      <td id=\"T_10c2d_row8_col1\" class=\"data row8 col1\" >28</td>\n",
       "      <td id=\"T_10c2d_row8_col2\" class=\"data row8 col2\" >The Lovely Bones: A Novel</td>\n",
       "    </tr>\n",
       "    <tr>\n",
       "      <td id=\"T_10c2d_row9_col0\" class=\"data row9 col0\" >Usa</td>\n",
       "      <td id=\"T_10c2d_row9_col1\" class=\"data row9 col1\" >29</td>\n",
       "      <td id=\"T_10c2d_row9_col2\" class=\"data row9 col2\" >The Da Vinci Code</td>\n",
       "    </tr>\n",
       "    <tr>\n",
       "      <td id=\"T_10c2d_row10_col0\" class=\"data row10 col0\" >Usa</td>\n",
       "      <td id=\"T_10c2d_row10_col1\" class=\"data row10 col1\" >30</td>\n",
       "      <td id=\"T_10c2d_row10_col2\" class=\"data row10 col2\" >The Lovely Bones: A Novel</td>\n",
       "    </tr>\n",
       "    <tr>\n",
       "      <td id=\"T_10c2d_row11_col0\" class=\"data row11 col0\" >Usa</td>\n",
       "      <td id=\"T_10c2d_row11_col1\" class=\"data row11 col1\" >31</td>\n",
       "      <td id=\"T_10c2d_row11_col2\" class=\"data row11 col2\" >She's Come Undone (Oprah's Book Club)</td>\n",
       "    </tr>\n",
       "    <tr>\n",
       "      <td id=\"T_10c2d_row12_col0\" class=\"data row12 col0\" >Usa</td>\n",
       "      <td id=\"T_10c2d_row12_col1\" class=\"data row12 col1\" >32</td>\n",
       "      <td id=\"T_10c2d_row12_col2\" class=\"data row12 col2\" >Angels & Demons</td>\n",
       "    </tr>\n",
       "    <tr>\n",
       "      <td id=\"T_10c2d_row13_col0\" class=\"data row13 col0\" >Usa</td>\n",
       "      <td id=\"T_10c2d_row13_col1\" class=\"data row13 col1\" >33</td>\n",
       "      <td id=\"T_10c2d_row13_col2\" class=\"data row13 col2\" >The Nanny Diaries: A Novel</td>\n",
       "    </tr>\n",
       "    <tr>\n",
       "      <td id=\"T_10c2d_row14_col0\" class=\"data row14 col0\" >Usa</td>\n",
       "      <td id=\"T_10c2d_row14_col1\" class=\"data row14 col1\" >34</td>\n",
       "      <td id=\"T_10c2d_row14_col2\" class=\"data row14 col2\" >The Lovely Bones: A Novel</td>\n",
       "    </tr>\n",
       "    <tr>\n",
       "      <td id=\"T_10c2d_row15_col0\" class=\"data row15 col0\" >Usa</td>\n",
       "      <td id=\"T_10c2d_row15_col1\" class=\"data row15 col1\" >35</td>\n",
       "      <td id=\"T_10c2d_row15_col2\" class=\"data row15 col2\" >The Lovely Bones: A Novel</td>\n",
       "    </tr>\n",
       "    <tr>\n",
       "      <td id=\"T_10c2d_row16_col0\" class=\"data row16 col0\" >Usa</td>\n",
       "      <td id=\"T_10c2d_row16_col1\" class=\"data row16 col1\" >36</td>\n",
       "      <td id=\"T_10c2d_row16_col2\" class=\"data row16 col2\" >The Secret Life of Bees</td>\n",
       "    </tr>\n",
       "    <tr>\n",
       "      <td id=\"T_10c2d_row17_col0\" class=\"data row17 col0\" >Usa</td>\n",
       "      <td id=\"T_10c2d_row17_col1\" class=\"data row17 col1\" >37</td>\n",
       "      <td id=\"T_10c2d_row17_col2\" class=\"data row17 col2\" >The Lovely Bones: A Novel</td>\n",
       "    </tr>\n",
       "    <tr>\n",
       "      <td id=\"T_10c2d_row18_col0\" class=\"data row18 col0\" >Usa</td>\n",
       "      <td id=\"T_10c2d_row18_col1\" class=\"data row18 col1\" >40</td>\n",
       "      <td id=\"T_10c2d_row18_col2\" class=\"data row18 col2\" >The Lovely Bones: A Novel</td>\n",
       "    </tr>\n",
       "    <tr>\n",
       "      <td id=\"T_10c2d_row19_col0\" class=\"data row19 col0\" >Usa</td>\n",
       "      <td id=\"T_10c2d_row19_col1\" class=\"data row19 col1\" >42</td>\n",
       "      <td id=\"T_10c2d_row19_col2\" class=\"data row19 col2\" >The Lovely Bones: A Novel</td>\n",
       "    </tr>\n",
       "    <tr>\n",
       "      <td id=\"T_10c2d_row20_col0\" class=\"data row20 col0\" >Usa</td>\n",
       "      <td id=\"T_10c2d_row20_col1\" class=\"data row20 col1\" >43</td>\n",
       "      <td id=\"T_10c2d_row20_col2\" class=\"data row20 col2\" >The Lovely Bones: A Novel</td>\n",
       "    </tr>\n",
       "    <tr>\n",
       "      <td id=\"T_10c2d_row21_col0\" class=\"data row21 col0\" >Usa</td>\n",
       "      <td id=\"T_10c2d_row21_col1\" class=\"data row21 col1\" >44</td>\n",
       "      <td id=\"T_10c2d_row21_col2\" class=\"data row21 col2\" >The Nanny Diaries: A Novel</td>\n",
       "    </tr>\n",
       "    <tr>\n",
       "      <td id=\"T_10c2d_row22_col0\" class=\"data row22 col0\" >Usa</td>\n",
       "      <td id=\"T_10c2d_row22_col1\" class=\"data row22 col1\" >46</td>\n",
       "      <td id=\"T_10c2d_row22_col2\" class=\"data row22 col2\" >The Da Vinci Code</td>\n",
       "    </tr>\n",
       "    <tr>\n",
       "      <td id=\"T_10c2d_row23_col0\" class=\"data row23 col0\" >Usa</td>\n",
       "      <td id=\"T_10c2d_row23_col1\" class=\"data row23 col1\" >49</td>\n",
       "      <td id=\"T_10c2d_row23_col2\" class=\"data row23 col2\" >The Secret Life of Bees</td>\n",
       "    </tr>\n",
       "    <tr>\n",
       "      <td id=\"T_10c2d_row24_col0\" class=\"data row24 col0\" >Usa</td>\n",
       "      <td id=\"T_10c2d_row24_col1\" class=\"data row24 col1\" >53</td>\n",
       "      <td id=\"T_10c2d_row24_col2\" class=\"data row24 col2\" >The Da Vinci Code</td>\n",
       "    </tr>\n",
       "  </tbody>\n",
       "</table>\n"
      ],
      "text/plain": [
       "<pandas.io.formats.style.Styler at 0x7f9c8df25510>"
      ]
     },
     "execution_count": 14,
     "metadata": {},
     "output_type": "execute_result"
    }
   ],
   "source": [
    "country_book_age_count_list = books_with_reviews_and_users.value_counts(['Country', 'Age', 'Book Title', 'Average Rating']).to_frame().reset_index().rename(columns = {0: 'Book Read by Country Frequency'})\n",
    "country_book_age_count_list = country_book_age_count_list.sort_values(['Book Read by Country Frequency', 'Average Rating'], ascending=False)\n",
    "top_book_per_country_per_age = country_book_age_count_list.groupby(['Country', 'Age']).head(1)\n",
    "country_book_list_per_age = top_book_per_country_per_age[['Country', 'Age', 'Book Title']].head(25)\n",
    "country_book_list_per_age.Age = country_book_list_per_age.Age.astype(int)\n",
    "country_book_list_per_age.sort_values('Age', ascending=True).style.hide_index()"
   ]
  },
  {
   "cell_type": "markdown",
   "id": "f258938f",
   "metadata": {
    "papermill": {
     "duration": 0.032398,
     "end_time": "2021-11-17T23:17:17.857078",
     "exception": false,
     "start_time": "2021-11-17T23:17:17.824680",
     "status": "completed"
    },
    "tags": []
   },
   "source": [
    "<a id=\"section-four\"></a>\n",
    "# Conclusion"
   ]
  },
  {
   "cell_type": "markdown",
   "id": "478dc84b",
   "metadata": {
    "papermill": {
     "duration": 0.032294,
     "end_time": "2021-11-17T23:17:17.922157",
     "exception": false,
     "start_time": "2021-11-17T23:17:17.889863",
     "status": "completed"
    },
    "tags": []
   },
   "source": [
    "There are many ways to recommend a book to another reader - whether it is by personal preference or using a data analysis.  I was only able to make an initial dive into the data by providing what you would recommend to someone looking for the most popular book overall in the data set, most popular book by their country, most popular book by their age, and most popular book by their age and country.\n",
    "\n",
    "For example, if you were to recommend a book to me - I am 25 from the USA.  Here are my results:\n",
    "1. By Overall High Ranking and Popularity of Books: The Two Towers (Lord of the Rings)\n",
    "2. By Overall Ranking and Popularity of Authors: J.K. Rowling\n",
    "3. By Country Most Popular Book: The Secret Life of Bees\n",
    "4. By Age Most Popular Book for 25 Year Olds: The Lovely Bones: A Novel\n",
    "5. By Age and Country Most Popular: The Lovely Bones: A Novel\n",
    "\n",
    "\n",
    "It is clear that this data set is dynamic, ever updating, and not complete.  More analysis would be required to truly give a proper recommendation system.  But it is a start.  It was interesting to explore this data set and what it could do bringing the 3 csvs together.  Also basing my analysis off of popularity, I was able to be some preliminary validation in that Lord of the Rings and Harry Potter series books were the most popular.  Moving forward more validation would need to be completed to use this data.  But it was certainly an interesting start!\n",
    "\n",
    "## Going Forward\n",
    "My next steps would be to create a functionality to the analysis where a user could input their data, and it would give back recommendations based on the five lists I created."
   ]
  }
 ],
 "metadata": {
  "kernelspec": {
   "display_name": "Python 3",
   "language": "python",
   "name": "python3"
  },
  "language_info": {
   "codemirror_mode": {
    "name": "ipython",
    "version": 3
   },
   "file_extension": ".py",
   "mimetype": "text/x-python",
   "name": "python",
   "nbconvert_exporter": "python",
   "pygments_lexer": "ipython3",
   "version": "3.7.10"
  },
  "papermill": {
   "default_parameters": {},
   "duration": 26.06168,
   "end_time": "2021-11-17T23:17:18.766372",
   "environment_variables": {},
   "exception": null,
   "input_path": "__notebook__.ipynb",
   "output_path": "__notebook__.ipynb",
   "parameters": {},
   "start_time": "2021-11-17T23:16:52.704692",
   "version": "2.3.3"
  }
 },
 "nbformat": 4,
 "nbformat_minor": 5
}
