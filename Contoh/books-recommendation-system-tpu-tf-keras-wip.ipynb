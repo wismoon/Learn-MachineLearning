{
 "cells": [
  {
   "cell_type": "markdown",
   "metadata": {
    "papermill": {
     "duration": 0.048666,
     "end_time": "2020-09-11T23:47:23.467517",
     "exception": false,
     "start_time": "2020-09-11T23:47:23.418851",
     "status": "completed"
    },
    "tags": []
   },
   "source": [
    "## RNN books recommendation system with TPU training"
   ]
  },
  {
   "cell_type": "markdown",
   "metadata": {
    "papermill": {
     "duration": 0.044888,
     "end_time": "2020-09-11T23:47:23.558448",
     "exception": false,
     "start_time": "2020-09-11T23:47:23.513560",
     "status": "completed"
    },
    "tags": []
   },
   "source": [
    "Welcome to this notebook\n",
    "\n",
    "We assume that there is an interaction between an item (book) if there is a rating on the BX-Book-Ratings.csv file. We don't take into account the rate the user gives to the book.\n",
    "\n",
    "Note: \"items\" in this notebook will refer to books\n",
    "\n",
    "You want to improve your knowledge in recommendation systems (and the possible application for ecommerce)? You can check it out this [Medium blog post](https://medium.com/decathlondevelopers/personalization-strategy-and-recommendation-systems-at-d%C3%A9cathlon-canada-d9cb3d37f675) from [Décathlon Canada](https://www.decathlon.ca/en/) (world's largest sporting good retailer)\n",
    "\n",
    "Note2: this notebook is in progress, if you like it or you would like the analysis to be deeper, please upvote it!"
   ]
  },
  {
   "cell_type": "markdown",
   "metadata": {
    "papermill": {
     "duration": 0.045094,
     "end_time": "2020-09-11T23:47:23.650941",
     "exception": false,
     "start_time": "2020-09-11T23:47:23.605847",
     "status": "completed"
    },
    "tags": []
   },
   "source": [
    "# 1. Notebook setup"
   ]
  },
  {
   "cell_type": "markdown",
   "metadata": {
    "papermill": {
     "duration": 0.045441,
     "end_time": "2020-09-11T23:47:23.741920",
     "exception": false,
     "start_time": "2020-09-11T23:47:23.696479",
     "status": "completed"
    },
    "tags": []
   },
   "source": [
    "## Libraries importation and setup"
   ]
  },
  {
   "cell_type": "code",
   "execution_count": 1,
   "metadata": {
    "_cell_guid": "b1076dfc-b9ad-4769-8c92-a6c4dae69d19",
    "_uuid": "8f2839f25d086af736a60e9eeb907d3b93b6e0e5",
    "execution": {
     "iopub.execute_input": "2020-09-11T23:47:23.847398Z",
     "iopub.status.busy": "2020-09-11T23:47:23.842175Z",
     "iopub.status.idle": "2020-09-11T23:47:43.239946Z",
     "shell.execute_reply": "2020-09-11T23:47:43.239133Z"
    },
    "papermill": {
     "duration": 19.452412,
     "end_time": "2020-09-11T23:47:43.240073",
     "exception": false,
     "start_time": "2020-09-11T23:47:23.787661",
     "status": "completed"
    },
    "tags": []
   },
   "outputs": [
    {
     "name": "stdout",
     "output_type": "stream",
     "text": [
      "Collecting keras-self-attention\r\n",
      "  Downloading keras-self-attention-0.47.0.tar.gz (10 kB)\r\n",
      "Requirement already satisfied: numpy in /opt/conda/lib/python3.7/site-packages (from keras-self-attention) (1.18.5)\r\n",
      "Requirement already satisfied: Keras in /opt/conda/lib/python3.7/site-packages (from keras-self-attention) (2.4.3)\r\n",
      "Requirement already satisfied: pyyaml in /opt/conda/lib/python3.7/site-packages (from Keras->keras-self-attention) (5.3.1)\r\n",
      "Requirement already satisfied: h5py in /opt/conda/lib/python3.7/site-packages (from Keras->keras-self-attention) (2.10.0)\r\n",
      "Requirement already satisfied: scipy>=0.14 in /opt/conda/lib/python3.7/site-packages (from Keras->keras-self-attention) (1.4.1)\r\n",
      "Requirement already satisfied: six in /opt/conda/lib/python3.7/site-packages (from h5py->Keras->keras-self-attention) (1.14.0)\r\n",
      "Building wheels for collected packages: keras-self-attention\r\n",
      "  Building wheel for keras-self-attention (setup.py) ... \u001b[?25l-\b \b\\\b \bdone\r\n",
      "\u001b[?25h  Created wheel for keras-self-attention: filename=keras_self_attention-0.47.0-py3-none-any.whl size=17289 sha256=4acede3f5dc9875304ae4d02934e2d3cf1b43e49c8305a99cf8b4931481225e9\r\n",
      "  Stored in directory: /root/.cache/pip/wheels/8d/30/e9/99546260fabd5f3a6faf320c9ed14aae34169efc514dad5bda\r\n",
      "Successfully built keras-self-attention\r\n",
      "Installing collected packages: keras-self-attention\r\n",
      "Successfully installed keras-self-attention-0.47.0\r\n",
      "\u001b[33mWARNING: You are using pip version 20.1.1; however, version 20.2.3 is available.\r\n",
      "You should consider upgrading via the '/opt/conda/bin/python3.7 -m pip install --upgrade pip' command.\u001b[0m\r\n"
     ]
    }
   ],
   "source": [
    "# installation of keras self attention layer\n",
    "!pip install keras-self-attention\n",
    "\n",
    "import os\n",
    "from collections import Counter\n",
    "from random import choice\n",
    "import time\n",
    "\n",
    "import numpy as np\n",
    "import pandas as pd\n",
    "import requests\n",
    "\n",
    "from IPython.display import Image\n",
    "\n",
    "import keras\n",
    "from keras_self_attention import SeqSelfAttention\n",
    "\n",
    "import tensorflow as tf\n",
    "from tensorflow.keras.layers import Embedding, LSTM, Dense\n",
    "from tensorflow.keras.models import Sequential\n",
    "from tensorflow.keras.optimizers import Adam\n",
    "from tensorflow.keras import backend as K\n",
    "from tensorflow.keras import models\n",
    "\n",
    "from skopt import gp_minimize\n",
    "from skopt.space import Real, Categorical, Integer\n",
    "from skopt.plots import plot_convergence\n",
    "from skopt.utils import use_named_args"
   ]
  },
  {
   "cell_type": "code",
   "execution_count": 2,
   "metadata": {
    "execution": {
     "iopub.execute_input": "2020-09-11T23:47:43.344882Z",
     "iopub.status.busy": "2020-09-11T23:47:43.343885Z",
     "iopub.status.idle": "2020-09-11T23:47:43.347546Z",
     "shell.execute_reply": "2020-09-11T23:47:43.348255Z"
    },
    "papermill": {
     "duration": 0.058289,
     "end_time": "2020-09-11T23:47:43.348410",
     "exception": false,
     "start_time": "2020-09-11T23:47:43.290121",
     "status": "completed"
    },
    "tags": []
   },
   "outputs": [
    {
     "name": "stdout",
     "output_type": "stream",
     "text": [
      "Tensorflow version 2.2.0\n"
     ]
    }
   ],
   "source": [
    "# Tensorflow version checking\n",
    "print(\"Tensorflow version \" + tf.__version__)"
   ]
  },
  {
   "cell_type": "code",
   "execution_count": 3,
   "metadata": {
    "execution": {
     "iopub.execute_input": "2020-09-11T23:47:43.559884Z",
     "iopub.status.busy": "2020-09-11T23:47:43.463329Z",
     "iopub.status.idle": "2020-09-11T23:47:48.432543Z",
     "shell.execute_reply": "2020-09-11T23:47:48.431474Z"
    },
    "papermill": {
     "duration": 5.034982,
     "end_time": "2020-09-11T23:47:48.432682",
     "exception": false,
     "start_time": "2020-09-11T23:47:43.397700",
     "status": "completed"
    },
    "tags": []
   },
   "outputs": [
    {
     "name": "stdout",
     "output_type": "stream",
     "text": [
      "Running on TPU  grpc://10.0.0.2:8470\n",
      "REPLICAS:  8\n"
     ]
    }
   ],
   "source": [
    "# Detect hardware, return appropriate distribution strategy\n",
    "try:\n",
    "    tpu = tf.distribute.cluster_resolver.TPUClusterResolver()  # TPU detection. No parameters necessary if TPU_NAME environment variable is set. On Kaggle this is always the case.\n",
    "    print('Running on TPU ', tpu.master())\n",
    "except ValueError:\n",
    "    tpu = None\n",
    "\n",
    "if tpu:\n",
    "    tf.config.experimental_connect_to_cluster(tpu)\n",
    "    tf.tpu.experimental.initialize_tpu_system(tpu)\n",
    "    strategy = tf.distribute.experimental.TPUStrategy(tpu)\n",
    "else:\n",
    "    strategy = tf.distribute.get_strategy() # default distribution strategy in Tensorflow. Works on CPU and single GPU.\n",
    "\n",
    "print(\"REPLICAS: \", strategy.num_replicas_in_sync)"
   ]
  },
  {
   "cell_type": "code",
   "execution_count": 4,
   "metadata": {
    "execution": {
     "iopub.execute_input": "2020-09-11T23:47:48.546165Z",
     "iopub.status.busy": "2020-09-11T23:47:48.545344Z",
     "iopub.status.idle": "2020-09-11T23:47:48.548624Z",
     "shell.execute_reply": "2020-09-11T23:47:48.549139Z"
    },
    "papermill": {
     "duration": 0.063753,
     "end_time": "2020-09-11T23:47:48.549295",
     "exception": false,
     "start_time": "2020-09-11T23:47:48.485542",
     "status": "completed"
    },
    "tags": []
   },
   "outputs": [],
   "source": [
    "# define some parameters\n",
    "\n",
    "## size of the train set\n",
    "train_percent_split = 0.9\n",
    "\n",
    "# first hyperparameters of the RNN model\n",
    "epochs = 1\n",
    "dropout = 0\n",
    "embedding_size = 128\n",
    "hidden_size_lstm = 128\n",
    "learning_rate = 0.00276\n",
    "attention_width = 20\n",
    "add_dense_layer = True\n",
    "hidden_size_dense = 128\n",
    "\n",
    "validation_split = 0.1\n",
    "n_reco = 20\n",
    "n_min_interactions = 20\n",
    "max_length_seq = 20\n",
    "nb_last_item = 20\n",
    "max_users = 5000\n",
    "\n",
    "# iterations number for optimization with scikit-optimize lib\n",
    "n_random_starts = 2\n",
    "n_calls = 15"
   ]
  },
  {
   "cell_type": "markdown",
   "metadata": {
    "papermill": {
     "duration": 0.051549,
     "end_time": "2020-09-11T23:47:48.652771",
     "exception": false,
     "start_time": "2020-09-11T23:47:48.601222",
     "status": "completed"
    },
    "tags": []
   },
   "source": [
    "# 2. Data importation"
   ]
  },
  {
   "cell_type": "code",
   "execution_count": 5,
   "metadata": {
    "_cell_guid": "79c7e3d0-c299-4dcb-8224-4455121ee9b0",
    "_uuid": "d629ff2d2480ee46fbb7e2d37f6b5fab8052498a",
    "execution": {
     "iopub.execute_input": "2020-09-11T23:47:48.763991Z",
     "iopub.status.busy": "2020-09-11T23:47:48.763208Z",
     "iopub.status.idle": "2020-09-11T23:47:48.767138Z",
     "shell.execute_reply": "2020-09-11T23:47:48.766449Z"
    },
    "papermill": {
     "duration": 0.062037,
     "end_time": "2020-09-11T23:47:48.767258",
     "exception": false,
     "start_time": "2020-09-11T23:47:48.705221",
     "status": "completed"
    },
    "tags": []
   },
   "outputs": [],
   "source": [
    "# paths definition\n",
    "path = '/kaggle/input/bookcrossing-dataset/Book reviews/'\n",
    "book_fp = os.path.join(path, 'BX-Books.csv')\n",
    "user_fp = os.path.join(path, 'BX-Users.csv')\n",
    "rating_fp = os.path.join(path, 'BX-Book-Ratings.csv')"
   ]
  },
  {
   "cell_type": "code",
   "execution_count": 6,
   "metadata": {
    "execution": {
     "iopub.execute_input": "2020-09-11T23:47:48.881088Z",
     "iopub.status.busy": "2020-09-11T23:47:48.880263Z",
     "iopub.status.idle": "2020-09-11T23:47:52.308459Z",
     "shell.execute_reply": "2020-09-11T23:47:52.307630Z"
    },
    "papermill": {
     "duration": 3.488263,
     "end_time": "2020-09-11T23:47:52.308586",
     "exception": false,
     "start_time": "2020-09-11T23:47:48.820323",
     "status": "completed"
    },
    "tags": []
   },
   "outputs": [
    {
     "name": "stderr",
     "output_type": "stream",
     "text": [
      "b'Skipping line 6452: expected 8 fields, saw 9\\nSkipping line 43667: expected 8 fields, saw 10\\nSkipping line 51751: expected 8 fields, saw 9\\nSkipping line 92038: expected 8 fields, saw 9\\nSkipping line 104319: expected 8 fields, saw 9\\nSkipping line 121768: expected 8 fields, saw 9\\nSkipping line 144058: expected 8 fields, saw 9\\nSkipping line 150789: expected 8 fields, saw 9\\nSkipping line 157128: expected 8 fields, saw 9\\nSkipping line 180189: expected 8 fields, saw 9\\nSkipping line 185738: expected 8 fields, saw 9\\nSkipping line 209388: expected 8 fields, saw 9\\nSkipping line 220626: expected 8 fields, saw 9\\nSkipping line 227933: expected 8 fields, saw 11\\nSkipping line 228957: expected 8 fields, saw 10\\nSkipping line 245933: expected 8 fields, saw 9\\nSkipping line 251296: expected 8 fields, saw 9\\nSkipping line 259941: expected 8 fields, saw 9\\nSkipping line 261529: expected 8 fields, saw 9\\n'\n"
     ]
    }
   ],
   "source": [
    "# files reading\n",
    "def read_file(fp):\n",
    "    data = pd.read_csv(fp,\n",
    "                       sep=';',\n",
    "                       encoding='latin-1',\n",
    "                       low_memory=False,\n",
    "                       header=0,\n",
    "                       error_bad_lines=False)\n",
    "    return data\n",
    "    \n",
    "user_df = read_file(user_fp)\n",
    "item_df = read_file(book_fp)\n",
    "rating_df = read_file(rating_fp)"
   ]
  },
  {
   "cell_type": "markdown",
   "metadata": {
    "papermill": {
     "duration": 0.050963,
     "end_time": "2020-09-11T23:47:52.411355",
     "exception": false,
     "start_time": "2020-09-11T23:47:52.360392",
     "status": "completed"
    },
    "tags": []
   },
   "source": [
    "Datasets inspection"
   ]
  },
  {
   "cell_type": "code",
   "execution_count": 7,
   "metadata": {
    "execution": {
     "iopub.execute_input": "2020-09-11T23:47:52.528408Z",
     "iopub.status.busy": "2020-09-11T23:47:52.527700Z",
     "iopub.status.idle": "2020-09-11T23:47:52.532245Z",
     "shell.execute_reply": "2020-09-11T23:47:52.531619Z"
    },
    "papermill": {
     "duration": 0.06871,
     "end_time": "2020-09-11T23:47:52.532368",
     "exception": false,
     "start_time": "2020-09-11T23:47:52.463658",
     "status": "completed"
    },
    "tags": []
   },
   "outputs": [
    {
     "name": "stdout",
     "output_type": "stream",
     "text": [
      "(278858, 3)\n",
      "   User-ID                            Location   Age\n",
      "0        1                  nyc, new york, usa   NaN\n",
      "1        2           stockton, california, usa  18.0\n",
      "2        3     moscow, yukon territory, russia   NaN\n",
      "3        4           porto, v.n.gaia, portugal  17.0\n",
      "4        5  farnborough, hants, united kingdom   NaN\n"
     ]
    }
   ],
   "source": [
    "print(user_df.shape)\n",
    "print(user_df.head())"
   ]
  },
  {
   "cell_type": "code",
   "execution_count": 8,
   "metadata": {
    "execution": {
     "iopub.execute_input": "2020-09-11T23:47:52.653085Z",
     "iopub.status.busy": "2020-09-11T23:47:52.652056Z",
     "iopub.status.idle": "2020-09-11T23:47:52.656018Z",
     "shell.execute_reply": "2020-09-11T23:47:52.656789Z"
    },
    "papermill": {
     "duration": 0.066775,
     "end_time": "2020-09-11T23:47:52.657009",
     "exception": false,
     "start_time": "2020-09-11T23:47:52.590234",
     "status": "completed"
    },
    "tags": []
   },
   "outputs": [
    {
     "name": "stdout",
     "output_type": "stream",
     "text": [
      "(271360, 8)\n",
      "         ISBN                                         Book-Title  \\\n",
      "0  0195153448                                Classical Mythology   \n",
      "1  0002005018                                       Clara Callan   \n",
      "2  0060973129                               Decision in Normandy   \n",
      "3  0374157065  Flu: The Story of the Great Influenza Pandemic...   \n",
      "4  0393045218                             The Mummies of Urumchi   \n",
      "\n",
      "            Book-Author Year-Of-Publication                   Publisher  \\\n",
      "0    Mark P. O. Morford                2002     Oxford University Press   \n",
      "1  Richard Bruce Wright                2001       HarperFlamingo Canada   \n",
      "2          Carlo D'Este                1991             HarperPerennial   \n",
      "3      Gina Bari Kolata                1999        Farrar Straus Giroux   \n",
      "4       E. J. W. Barber                1999  W. W. Norton &amp; Company   \n",
      "\n",
      "                                         Image-URL-S  \\\n",
      "0  http://images.amazon.com/images/P/0195153448.0...   \n",
      "1  http://images.amazon.com/images/P/0002005018.0...   \n",
      "2  http://images.amazon.com/images/P/0060973129.0...   \n",
      "3  http://images.amazon.com/images/P/0374157065.0...   \n",
      "4  http://images.amazon.com/images/P/0393045218.0...   \n",
      "\n",
      "                                         Image-URL-M  \\\n",
      "0  http://images.amazon.com/images/P/0195153448.0...   \n",
      "1  http://images.amazon.com/images/P/0002005018.0...   \n",
      "2  http://images.amazon.com/images/P/0060973129.0...   \n",
      "3  http://images.amazon.com/images/P/0374157065.0...   \n",
      "4  http://images.amazon.com/images/P/0393045218.0...   \n",
      "\n",
      "                                         Image-URL-L  \n",
      "0  http://images.amazon.com/images/P/0195153448.0...  \n",
      "1  http://images.amazon.com/images/P/0002005018.0...  \n",
      "2  http://images.amazon.com/images/P/0060973129.0...  \n",
      "3  http://images.amazon.com/images/P/0374157065.0...  \n",
      "4  http://images.amazon.com/images/P/0393045218.0...  \n"
     ]
    }
   ],
   "source": [
    "print(item_df.shape)\n",
    "print(item_df.head())"
   ]
  },
  {
   "cell_type": "code",
   "execution_count": 9,
   "metadata": {
    "execution": {
     "iopub.execute_input": "2020-09-11T23:47:52.770153Z",
     "iopub.status.busy": "2020-09-11T23:47:52.769327Z",
     "iopub.status.idle": "2020-09-11T23:47:52.774276Z",
     "shell.execute_reply": "2020-09-11T23:47:52.773480Z"
    },
    "papermill": {
     "duration": 0.064225,
     "end_time": "2020-09-11T23:47:52.774439",
     "exception": false,
     "start_time": "2020-09-11T23:47:52.710214",
     "status": "completed"
    },
    "tags": []
   },
   "outputs": [
    {
     "name": "stdout",
     "output_type": "stream",
     "text": [
      "(1149780, 3)\n",
      "   User-ID        ISBN  Book-Rating\n",
      "0   276725  034545104X            0\n",
      "1   276726  0155061224            5\n",
      "2   276727  0446520802            0\n",
      "3   276729  052165615X            3\n",
      "4   276729  0521795028            6\n"
     ]
    }
   ],
   "source": [
    "print(rating_df.shape)\n",
    "print(rating_df.head())"
   ]
  },
  {
   "cell_type": "markdown",
   "metadata": {
    "papermill": {
     "duration": 0.053195,
     "end_time": "2020-09-11T23:47:52.881059",
     "exception": false,
     "start_time": "2020-09-11T23:47:52.827864",
     "status": "completed"
    },
    "tags": []
   },
   "source": [
    "Rows seem sorted by User-ID, let's shuffle the rows"
   ]
  },
  {
   "cell_type": "code",
   "execution_count": 10,
   "metadata": {
    "execution": {
     "iopub.execute_input": "2020-09-11T23:47:52.992614Z",
     "iopub.status.busy": "2020-09-11T23:47:52.991889Z",
     "iopub.status.idle": "2020-09-11T23:47:53.336885Z",
     "shell.execute_reply": "2020-09-11T23:47:53.336229Z"
    },
    "papermill": {
     "duration": 0.402681,
     "end_time": "2020-09-11T23:47:53.337018",
     "exception": false,
     "start_time": "2020-09-11T23:47:52.934337",
     "status": "completed"
    },
    "tags": []
   },
   "outputs": [],
   "source": [
    "rating_df = rating_df.sample(frac=1).reset_index(drop=True)"
   ]
  },
  {
   "cell_type": "code",
   "execution_count": 11,
   "metadata": {
    "execution": {
     "iopub.execute_input": "2020-09-11T23:47:53.621070Z",
     "iopub.status.busy": "2020-09-11T23:47:53.446961Z",
     "iopub.status.idle": "2020-09-11T23:47:53.635494Z",
     "shell.execute_reply": "2020-09-11T23:47:53.635991Z"
    },
    "papermill": {
     "duration": 0.246266,
     "end_time": "2020-09-11T23:47:53.636141",
     "exception": false,
     "start_time": "2020-09-11T23:47:53.389875",
     "status": "completed"
    },
    "tags": []
   },
   "outputs": [
    {
     "data": {
      "text/plain": [
       "User-ID        0\n",
       "ISBN           0\n",
       "Book-Rating    0\n",
       "dtype: int64"
      ]
     },
     "execution_count": 11,
     "metadata": {},
     "output_type": "execute_result"
    }
   ],
   "source": [
    "rating_df.isna().sum()"
   ]
  },
  {
   "cell_type": "markdown",
   "metadata": {
    "papermill": {
     "duration": 0.053843,
     "end_time": "2020-09-11T23:47:53.743355",
     "exception": false,
     "start_time": "2020-09-11T23:47:53.689512",
     "status": "completed"
    },
    "tags": []
   },
   "source": [
    "We don't have NA on rating_df! Good point.\n",
    "\n",
    "# 3. Data preparation\n",
    "\n",
    "Let's rename the columns for simplicity."
   ]
  },
  {
   "cell_type": "code",
   "execution_count": 12,
   "metadata": {
    "execution": {
     "iopub.execute_input": "2020-09-11T23:47:53.858167Z",
     "iopub.status.busy": "2020-09-11T23:47:53.857006Z",
     "iopub.status.idle": "2020-09-11T23:47:54.035619Z",
     "shell.execute_reply": "2020-09-11T23:47:54.035024Z"
    },
    "papermill": {
     "duration": 0.239486,
     "end_time": "2020-09-11T23:47:54.035735",
     "exception": false,
     "start_time": "2020-09-11T23:47:53.796249",
     "status": "completed"
    },
    "tags": []
   },
   "outputs": [],
   "source": [
    "colname_mapping = {\n",
    "    'ISBN': 'item',\n",
    "    'User-ID': 'user',\n",
    "    'Book-Rating': 'rating',\n",
    "    'Book-Title': 'name',\n",
    "    'Book-Author': 'author',\n",
    "    'Image-URL-M': 'image',\n",
    "    'Publisher': 'publisher',\n",
    "    'Year-Of-Publication': 'year'\n",
    "}\n",
    "rating_df = rating_df.rename(columns=colname_mapping)\n",
    "item_df = item_df.rename(columns=colname_mapping)\n",
    "user_df = user_df.rename(columns=colname_mapping)"
   ]
  },
  {
   "cell_type": "markdown",
   "metadata": {
    "papermill": {
     "duration": 0.052578,
     "end_time": "2020-09-11T23:47:54.141701",
     "exception": false,
     "start_time": "2020-09-11T23:47:54.089123",
     "status": "completed"
    },
    "tags": []
   },
   "source": [
    "Tokenization: converting books and users \"real\" ids to integer for efficiency of manipulation"
   ]
  },
  {
   "cell_type": "code",
   "execution_count": 13,
   "metadata": {
    "execution": {
     "iopub.execute_input": "2020-09-11T23:47:54.267594Z",
     "iopub.status.busy": "2020-09-11T23:47:54.266860Z",
     "iopub.status.idle": "2020-09-11T23:47:54.822786Z",
     "shell.execute_reply": "2020-09-11T23:47:54.822236Z"
    },
    "papermill": {
     "duration": 0.628047,
     "end_time": "2020-09-11T23:47:54.822939",
     "exception": false,
     "start_time": "2020-09-11T23:47:54.194892",
     "status": "completed"
    },
    "tags": []
   },
   "outputs": [
    {
     "name": "stdout",
     "output_type": "stream",
     "text": [
      "number of unique items: 341765\n",
      "number of unique users: 278858\n"
     ]
    }
   ],
   "source": [
    "items = list(set(item_df.item.unique().tolist() + rating_df.item.unique().tolist()))\n",
    "users = user_df.user.unique() \n",
    "print(f'number of unique items: {len(items)}\\nnumber of unique users: {len(users)}')"
   ]
  },
  {
   "cell_type": "code",
   "execution_count": 14,
   "metadata": {
    "execution": {
     "iopub.execute_input": "2020-09-11T23:47:54.948997Z",
     "iopub.status.busy": "2020-09-11T23:47:54.947993Z",
     "iopub.status.idle": "2020-09-11T23:47:55.971813Z",
     "shell.execute_reply": "2020-09-11T23:47:55.971301Z"
    },
    "papermill": {
     "duration": 1.094792,
     "end_time": "2020-09-11T23:47:55.971942",
     "exception": false,
     "start_time": "2020-09-11T23:47:54.877150",
     "status": "completed"
    },
    "tags": []
   },
   "outputs": [
    {
     "data": {
      "text/plain": [
       "((1149780, 3), (271360, 8))"
      ]
     },
     "execution_count": 14,
     "metadata": {},
     "output_type": "execute_result"
    }
   ],
   "source": [
    "rating_df = rating_df[rating_df.item.isin(items)]\n",
    "item_df = item_df[item_df.item.isin(items)]\n",
    "rating_df.shape, item_df.shape"
   ]
  },
  {
   "cell_type": "markdown",
   "metadata": {
    "papermill": {
     "duration": 0.053812,
     "end_time": "2020-09-11T23:47:56.080891",
     "exception": false,
     "start_time": "2020-09-11T23:47:56.027079",
     "status": "completed"
    },
    "tags": []
   },
   "source": [
    "There is a huge number of different books!"
   ]
  },
  {
   "cell_type": "code",
   "execution_count": 15,
   "metadata": {
    "execution": {
     "iopub.execute_input": "2020-09-11T23:47:56.242132Z",
     "iopub.status.busy": "2020-09-11T23:47:56.226677Z",
     "iopub.status.idle": "2020-09-11T23:48:00.966488Z",
     "shell.execute_reply": "2020-09-11T23:48:00.966998Z"
    },
    "papermill": {
     "duration": 4.831903,
     "end_time": "2020-09-11T23:48:00.967152",
     "exception": false,
     "start_time": "2020-09-11T23:47:56.135249",
     "status": "completed"
    },
    "tags": []
   },
   "outputs": [],
   "source": [
    "user_to_token = {user: int(token) for token, user in enumerate(users)}\n",
    "token_to_item = {token: user for user, token in user_to_token.items()}\n",
    "item_to_token = {item: int(token) for token, item in enumerate(items)}\n",
    "token_to_item = {token: item for item, token in item_to_token.items()}\n",
    "\n",
    "rating_df['user_id'] = rating_df['user'].map(user_to_token)\n",
    "rating_df['item_id'] = rating_df['item'].map(item_to_token).dropna().astype(int)\n",
    "\n",
    "item_df['item_id'] = item_df['item'].map(item_to_token)\n",
    "user_df['user_id'] = user_df['user'].map(user_to_token)"
   ]
  },
  {
   "cell_type": "code",
   "execution_count": 16,
   "metadata": {
    "execution": {
     "iopub.execute_input": "2020-09-11T23:48:01.082882Z",
     "iopub.status.busy": "2020-09-11T23:48:01.082167Z",
     "iopub.status.idle": "2020-09-11T23:48:01.085557Z",
     "shell.execute_reply": "2020-09-11T23:48:01.084916Z"
    },
    "papermill": {
     "duration": 0.062595,
     "end_time": "2020-09-11T23:48:01.085670",
     "exception": false,
     "start_time": "2020-09-11T23:48:01.023075",
     "status": "completed"
    },
    "tags": []
   },
   "outputs": [],
   "source": [
    "#%%timeit\n",
    "#diff = set(item_df.item_id).difference(set(rating_df.item_id))\n",
    "#len(diff), diff"
   ]
  },
  {
   "cell_type": "code",
   "execution_count": 17,
   "metadata": {
    "execution": {
     "iopub.execute_input": "2020-09-11T23:48:01.200902Z",
     "iopub.status.busy": "2020-09-11T23:48:01.200198Z",
     "iopub.status.idle": "2020-09-11T23:48:01.237738Z",
     "shell.execute_reply": "2020-09-11T23:48:01.237209Z"
    },
    "papermill": {
     "duration": 0.097498,
     "end_time": "2020-09-11T23:48:01.237907",
     "exception": false,
     "start_time": "2020-09-11T23:48:01.140409",
     "status": "completed"
    },
    "tags": []
   },
   "outputs": [
    {
     "data": {
      "text/plain": [
       "(271360, 340556)"
      ]
     },
     "execution_count": 17,
     "metadata": {},
     "output_type": "execute_result"
    }
   ],
   "source": [
    "item_df.item_id.nunique(), rating_df.item_id.nunique()"
   ]
  },
  {
   "cell_type": "code",
   "execution_count": 18,
   "metadata": {
    "execution": {
     "iopub.execute_input": "2020-09-11T23:48:01.359570Z",
     "iopub.status.busy": "2020-09-11T23:48:01.358665Z",
     "iopub.status.idle": "2020-09-11T23:48:01.371271Z",
     "shell.execute_reply": "2020-09-11T23:48:01.370628Z"
    },
    "papermill": {
     "duration": 0.07854,
     "end_time": "2020-09-11T23:48:01.371383",
     "exception": false,
     "start_time": "2020-09-11T23:48:01.292843",
     "status": "completed"
    },
    "tags": []
   },
   "outputs": [
    {
     "data": {
      "text/html": [
       "<div>\n",
       "<style scoped>\n",
       "    .dataframe tbody tr th:only-of-type {\n",
       "        vertical-align: middle;\n",
       "    }\n",
       "\n",
       "    .dataframe tbody tr th {\n",
       "        vertical-align: top;\n",
       "    }\n",
       "\n",
       "    .dataframe thead th {\n",
       "        text-align: right;\n",
       "    }\n",
       "</style>\n",
       "<table border=\"1\" class=\"dataframe\">\n",
       "  <thead>\n",
       "    <tr style=\"text-align: right;\">\n",
       "      <th></th>\n",
       "      <th>item</th>\n",
       "      <th>name</th>\n",
       "      <th>author</th>\n",
       "      <th>year</th>\n",
       "      <th>publisher</th>\n",
       "      <th>Image-URL-S</th>\n",
       "      <th>image</th>\n",
       "      <th>Image-URL-L</th>\n",
       "      <th>item_id</th>\n",
       "    </tr>\n",
       "  </thead>\n",
       "  <tbody>\n",
       "    <tr>\n",
       "      <th>0</th>\n",
       "      <td>0195153448</td>\n",
       "      <td>Classical Mythology</td>\n",
       "      <td>Mark P. O. Morford</td>\n",
       "      <td>2002</td>\n",
       "      <td>Oxford University Press</td>\n",
       "      <td>http://images.amazon.com/images/P/0195153448.0...</td>\n",
       "      <td>http://images.amazon.com/images/P/0195153448.0...</td>\n",
       "      <td>http://images.amazon.com/images/P/0195153448.0...</td>\n",
       "      <td>337081</td>\n",
       "    </tr>\n",
       "    <tr>\n",
       "      <th>1</th>\n",
       "      <td>0002005018</td>\n",
       "      <td>Clara Callan</td>\n",
       "      <td>Richard Bruce Wright</td>\n",
       "      <td>2001</td>\n",
       "      <td>HarperFlamingo Canada</td>\n",
       "      <td>http://images.amazon.com/images/P/0002005018.0...</td>\n",
       "      <td>http://images.amazon.com/images/P/0002005018.0...</td>\n",
       "      <td>http://images.amazon.com/images/P/0002005018.0...</td>\n",
       "      <td>268791</td>\n",
       "    </tr>\n",
       "    <tr>\n",
       "      <th>2</th>\n",
       "      <td>0060973129</td>\n",
       "      <td>Decision in Normandy</td>\n",
       "      <td>Carlo D'Este</td>\n",
       "      <td>1991</td>\n",
       "      <td>HarperPerennial</td>\n",
       "      <td>http://images.amazon.com/images/P/0060973129.0...</td>\n",
       "      <td>http://images.amazon.com/images/P/0060973129.0...</td>\n",
       "      <td>http://images.amazon.com/images/P/0060973129.0...</td>\n",
       "      <td>127767</td>\n",
       "    </tr>\n",
       "    <tr>\n",
       "      <th>3</th>\n",
       "      <td>0374157065</td>\n",
       "      <td>Flu: The Story of the Great Influenza Pandemic...</td>\n",
       "      <td>Gina Bari Kolata</td>\n",
       "      <td>1999</td>\n",
       "      <td>Farrar Straus Giroux</td>\n",
       "      <td>http://images.amazon.com/images/P/0374157065.0...</td>\n",
       "      <td>http://images.amazon.com/images/P/0374157065.0...</td>\n",
       "      <td>http://images.amazon.com/images/P/0374157065.0...</td>\n",
       "      <td>294916</td>\n",
       "    </tr>\n",
       "    <tr>\n",
       "      <th>4</th>\n",
       "      <td>0393045218</td>\n",
       "      <td>The Mummies of Urumchi</td>\n",
       "      <td>E. J. W. Barber</td>\n",
       "      <td>1999</td>\n",
       "      <td>W. W. Norton &amp;amp; Company</td>\n",
       "      <td>http://images.amazon.com/images/P/0393045218.0...</td>\n",
       "      <td>http://images.amazon.com/images/P/0393045218.0...</td>\n",
       "      <td>http://images.amazon.com/images/P/0393045218.0...</td>\n",
       "      <td>322098</td>\n",
       "    </tr>\n",
       "  </tbody>\n",
       "</table>\n",
       "</div>"
      ],
      "text/plain": [
       "         item                                               name  \\\n",
       "0  0195153448                                Classical Mythology   \n",
       "1  0002005018                                       Clara Callan   \n",
       "2  0060973129                               Decision in Normandy   \n",
       "3  0374157065  Flu: The Story of the Great Influenza Pandemic...   \n",
       "4  0393045218                             The Mummies of Urumchi   \n",
       "\n",
       "                 author  year                   publisher  \\\n",
       "0    Mark P. O. Morford  2002     Oxford University Press   \n",
       "1  Richard Bruce Wright  2001       HarperFlamingo Canada   \n",
       "2          Carlo D'Este  1991             HarperPerennial   \n",
       "3      Gina Bari Kolata  1999        Farrar Straus Giroux   \n",
       "4       E. J. W. Barber  1999  W. W. Norton &amp; Company   \n",
       "\n",
       "                                         Image-URL-S  \\\n",
       "0  http://images.amazon.com/images/P/0195153448.0...   \n",
       "1  http://images.amazon.com/images/P/0002005018.0...   \n",
       "2  http://images.amazon.com/images/P/0060973129.0...   \n",
       "3  http://images.amazon.com/images/P/0374157065.0...   \n",
       "4  http://images.amazon.com/images/P/0393045218.0...   \n",
       "\n",
       "                                               image  \\\n",
       "0  http://images.amazon.com/images/P/0195153448.0...   \n",
       "1  http://images.amazon.com/images/P/0002005018.0...   \n",
       "2  http://images.amazon.com/images/P/0060973129.0...   \n",
       "3  http://images.amazon.com/images/P/0374157065.0...   \n",
       "4  http://images.amazon.com/images/P/0393045218.0...   \n",
       "\n",
       "                                         Image-URL-L  item_id  \n",
       "0  http://images.amazon.com/images/P/0195153448.0...   337081  \n",
       "1  http://images.amazon.com/images/P/0002005018.0...   268791  \n",
       "2  http://images.amazon.com/images/P/0060973129.0...   127767  \n",
       "3  http://images.amazon.com/images/P/0374157065.0...   294916  \n",
       "4  http://images.amazon.com/images/P/0393045218.0...   322098  "
      ]
     },
     "execution_count": 18,
     "metadata": {},
     "output_type": "execute_result"
    }
   ],
   "source": [
    "item_df.head()"
   ]
  },
  {
   "cell_type": "markdown",
   "metadata": {
    "papermill": {
     "duration": 0.055209,
     "end_time": "2020-09-11T23:48:01.482325",
     "exception": false,
     "start_time": "2020-09-11T23:48:01.427116",
     "status": "completed"
    },
    "tags": []
   },
   "source": [
    "Defining functions to print books characteristics such as name, author, publisher, year of publication and display the cover image for vizualisation"
   ]
  },
  {
   "cell_type": "code",
   "execution_count": 19,
   "metadata": {
    "execution": {
     "iopub.execute_input": "2020-09-11T23:48:01.605754Z",
     "iopub.status.busy": "2020-09-11T23:48:01.604615Z",
     "iopub.status.idle": "2020-09-11T23:48:01.607662Z",
     "shell.execute_reply": "2020-09-11T23:48:01.607025Z"
    },
    "papermill": {
     "duration": 0.068432,
     "end_time": "2020-09-11T23:48:01.607781",
     "exception": false,
     "start_time": "2020-09-11T23:48:01.539349",
     "status": "completed"
    },
    "tags": []
   },
   "outputs": [],
   "source": [
    "def print_single_item_characteristics(item_id=None, item_df=item_df):\n",
    "    if not item_id:\n",
    "        item_id = choice(item_df.item_id)\n",
    "    if item_id not in set(item_df.item_id):\n",
    "        print(f'item_id {item_id} not in df')\n",
    "        return None\n",
    "\n",
    "    item_df = item_df[item_df['item_id'] == item_id]\n",
    "    url = item_df.image.values[0]\n",
    "    response = requests.get(url)\n",
    "\n",
    "    print(f'item_id: {item_id}; '\n",
    "          f'name: {item_df.name.values[0]}; '\n",
    "          f'author: {item_df.author.values[0]} '\n",
    "          f'publisher: {item_df.publisher.values[0]} '\n",
    "          f'year: {item_df.year.values[0]}')\n",
    "    return Image(url)\n",
    "\n",
    "def print_items_characteristics(item_id_list):\n",
    "    for item_id in item_id_list:\n",
    "        display(print_single_item_characteristics(item_id=item_id))"
   ]
  },
  {
   "cell_type": "code",
   "execution_count": 20,
   "metadata": {
    "execution": {
     "iopub.execute_input": "2020-09-11T23:48:01.725466Z",
     "iopub.status.busy": "2020-09-11T23:48:01.724722Z",
     "iopub.status.idle": "2020-09-11T23:48:01.772847Z",
     "shell.execute_reply": "2020-09-11T23:48:01.772129Z"
    },
    "papermill": {
     "duration": 0.1088,
     "end_time": "2020-09-11T23:48:01.772964",
     "exception": false,
     "start_time": "2020-09-11T23:48:01.664164",
     "status": "completed"
    },
    "tags": []
   },
   "outputs": [],
   "source": [
    "n_rating_by_user = rating_df.user_id.value_counts()"
   ]
  },
  {
   "cell_type": "code",
   "execution_count": 21,
   "metadata": {
    "execution": {
     "iopub.execute_input": "2020-09-11T23:48:01.891520Z",
     "iopub.status.busy": "2020-09-11T23:48:01.890773Z",
     "iopub.status.idle": "2020-09-11T23:48:01.905408Z",
     "shell.execute_reply": "2020-09-11T23:48:01.904726Z"
    },
    "papermill": {
     "duration": 0.076465,
     "end_time": "2020-09-11T23:48:01.905539",
     "exception": false,
     "start_time": "2020-09-11T23:48:01.829074",
     "status": "completed"
    },
    "tags": []
   },
   "outputs": [
    {
     "data": {
      "text/plain": [
       "count    105283.000000\n",
       "mean         10.920851\n",
       "std          90.562825\n",
       "min           1.000000\n",
       "25%           1.000000\n",
       "50%           1.000000\n",
       "75%           4.000000\n",
       "max       13602.000000\n",
       "Name: user_id, dtype: float64"
      ]
     },
     "execution_count": 21,
     "metadata": {},
     "output_type": "execute_result"
    }
   ],
   "source": [
    "n_rating_by_user.describe()"
   ]
  },
  {
   "cell_type": "markdown",
   "metadata": {
    "papermill": {
     "duration": 0.063875,
     "end_time": "2020-09-11T23:48:02.033240",
     "exception": false,
     "start_time": "2020-09-11T23:48:01.969365",
     "status": "completed"
    },
    "tags": []
   },
   "source": [
    "Let's display some popular books characteristics for testing"
   ]
  },
  {
   "cell_type": "code",
   "execution_count": 22,
   "metadata": {
    "execution": {
     "iopub.execute_input": "2020-09-11T23:48:02.166230Z",
     "iopub.status.busy": "2020-09-11T23:48:02.165468Z",
     "iopub.status.idle": "2020-09-11T23:48:02.241350Z",
     "shell.execute_reply": "2020-09-11T23:48:02.240778Z"
    },
    "papermill": {
     "duration": 0.144409,
     "end_time": "2020-09-11T23:48:02.241483",
     "exception": false,
     "start_time": "2020-09-11T23:48:02.097074",
     "status": "completed"
    },
    "tags": []
   },
   "outputs": [],
   "source": [
    "top3_item_id = list(rating_df.item_id.value_counts().index.values[:3])"
   ]
  },
  {
   "cell_type": "code",
   "execution_count": 23,
   "metadata": {
    "execution": {
     "iopub.execute_input": "2020-09-11T23:48:02.364333Z",
     "iopub.status.busy": "2020-09-11T23:48:02.363466Z",
     "iopub.status.idle": "2020-09-11T23:48:02.367872Z",
     "shell.execute_reply": "2020-09-11T23:48:02.367224Z"
    },
    "papermill": {
     "duration": 0.066057,
     "end_time": "2020-09-11T23:48:02.367986",
     "exception": false,
     "start_time": "2020-09-11T23:48:02.301929",
     "status": "completed"
    },
    "tags": []
   },
   "outputs": [
    {
     "data": {
      "text/plain": [
       "[9042, 120082, 247990]"
      ]
     },
     "execution_count": 23,
     "metadata": {},
     "output_type": "execute_result"
    }
   ],
   "source": [
    "top3_item_id"
   ]
  },
  {
   "cell_type": "code",
   "execution_count": 24,
   "metadata": {
    "execution": {
     "iopub.execute_input": "2020-09-11T23:48:02.569303Z",
     "iopub.status.busy": "2020-09-11T23:48:02.568577Z",
     "iopub.status.idle": "2020-09-11T23:48:04.248747Z",
     "shell.execute_reply": "2020-09-11T23:48:04.248166Z"
    },
    "papermill": {
     "duration": 1.8235,
     "end_time": "2020-09-11T23:48:04.248904",
     "exception": false,
     "start_time": "2020-09-11T23:48:02.425404",
     "status": "completed"
    },
    "tags": []
   },
   "outputs": [
    {
     "name": "stdout",
     "output_type": "stream",
     "text": [
      "item_id: 9042; name: Wild Animus; author: Rich Shapero publisher: Too Far year: 2004\n"
     ]
    },
    {
     "data": {
      "image/jpeg": "[encoded data removed]",
      "text/plain": [
       "<IPython.core.display.Image object>"
      ]
     },
     "metadata": {},
     "output_type": "display_data"
    },
    {
     "name": "stdout",
     "output_type": "stream",
     "text": [
      "item_id: 120082; name: The Lovely Bones: A Novel; author: Alice Sebold publisher: Little, Brown year: 2002\n"
     ]
    },
    {
     "data": {
      "image/jpeg": "[encoded data removed]",
      "text/plain": [
       "<IPython.core.display.Image object>"
      ]
     },
     "metadata": {},
     "output_type": "display_data"
    },
    {
     "name": "stdout",
     "output_type": "stream",
     "text": [
      "item_id: 247990; name: The Da Vinci Code; author: Dan Brown publisher: Doubleday year: 2003\n"
     ]
    },
    {
     "data": {
      "image/jpeg": "[encoded data removed]",
      "text/plain": [
       "<IPython.core.display.Image object>"
      ]
     },
     "metadata": {},
     "output_type": "display_data"
    }
   ],
   "source": [
    "print_items_characteristics(item_id_list=top3_item_id)"
   ]
  },
  {
   "cell_type": "markdown",
   "metadata": {
    "papermill": {
     "duration": 0.060508,
     "end_time": "2020-09-11T23:48:04.370349",
     "exception": false,
     "start_time": "2020-09-11T23:48:04.309841",
     "status": "completed"
    },
    "tags": []
   },
   "source": [
    "Count the number of \"interactions\" per user (i.e. ratings per user)"
   ]
  },
  {
   "cell_type": "code",
   "execution_count": 25,
   "metadata": {
    "execution": {
     "iopub.execute_input": "2020-09-11T23:48:04.932539Z",
     "iopub.status.busy": "2020-09-11T23:48:04.931684Z",
     "iopub.status.idle": "2020-09-11T23:48:04.935457Z",
     "shell.execute_reply": "2020-09-11T23:48:04.936209Z"
    },
    "papermill": {
     "duration": 0.457515,
     "end_time": "2020-09-11T23:48:04.936399",
     "exception": false,
     "start_time": "2020-09-11T23:48:04.478884",
     "status": "completed"
    },
    "tags": []
   },
   "outputs": [
    {
     "name": "stdout",
     "output_type": "stream",
     "text": [
      "[(11676, 13602), (198711, 7550), (153662, 6109), (98391, 5891), (35859, 5850), (212898, 4785), (278418, 4533), (76352, 3367), (110973, 3100), (235105, 3067), (230522, 2991), (16795, 2948), (234623, 2674), (36836, 2529), (52584, 2512), (245963, 2507), (204864, 2504), (55492, 2459), (185233, 2448), (171118, 2421)]\n"
     ]
    }
   ],
   "source": [
    "user_occurence = Counter(rating_df.user).most_common()\n",
    "print(user_occurence[:20])"
   ]
  },
  {
   "cell_type": "markdown",
   "metadata": {
    "papermill": {
     "duration": 0.060401,
     "end_time": "2020-09-11T23:48:05.058714",
     "exception": false,
     "start_time": "2020-09-11T23:48:04.998313",
     "status": "completed"
    },
    "tags": []
   },
   "source": [
    "Keep users with at least n interactions, to reduce the data size and probably expect better \"qualitative users\""
   ]
  },
  {
   "cell_type": "code",
   "execution_count": 26,
   "metadata": {
    "execution": {
     "iopub.execute_input": "2020-09-11T23:48:05.549622Z",
     "iopub.status.busy": "2020-09-11T23:48:05.548801Z",
     "iopub.status.idle": "2020-09-11T23:48:05.852235Z",
     "shell.execute_reply": "2020-09-11T23:48:05.851423Z"
    },
    "papermill": {
     "duration": 0.732517,
     "end_time": "2020-09-11T23:48:05.852391",
     "exception": false,
     "start_time": "2020-09-11T23:48:05.119874",
     "status": "completed"
    },
    "tags": []
   },
   "outputs": [
    {
     "name": "stdout",
     "output_type": "stream",
     "text": [
      "length before filtering: 1149780.\n",
      "length after filtering: 888884.\n"
     ]
    }
   ],
   "source": [
    "def user_with_n_interaction(data, n):\n",
    "    print(f'length before filtering: {len(data)}.')\n",
    "    user_occurence = Counter(data.user)\n",
    "\n",
    "    user_to_keep = [\n",
    "        user\n",
    "        for user, occ in user_occurence.items()\n",
    "        if occ >= n\n",
    "    ]\n",
    "\n",
    "    data_filtered = data[data['user'].isin(user_to_keep)]\n",
    "    print(f'length after filtering: {len(data_filtered)}.')\n",
    "    return data_filtered\n",
    "\n",
    "rating_df = user_with_n_interaction(data=rating_df, n=n_min_interactions)"
   ]
  },
  {
   "cell_type": "code",
   "execution_count": 27,
   "metadata": {
    "execution": {
     "iopub.execute_input": "2020-09-11T23:48:05.984138Z",
     "iopub.status.busy": "2020-09-11T23:48:05.983426Z",
     "iopub.status.idle": "2020-09-11T23:48:05.987076Z",
     "shell.execute_reply": "2020-09-11T23:48:05.987620Z"
    },
    "papermill": {
     "duration": 0.072548,
     "end_time": "2020-09-11T23:48:05.987763",
     "exception": false,
     "start_time": "2020-09-11T23:48:05.915215",
     "status": "completed"
    },
    "tags": []
   },
   "outputs": [
    {
     "name": "stdout",
     "output_type": "stream",
     "text": [
      "shape of train: (799995, 5)\n",
      "shape of test: (88889, 5)\n"
     ]
    }
   ],
   "source": [
    "split_ind = int(len(rating_df) * train_percent_split)\n",
    "train, test = rating_df[:split_ind], rating_df[split_ind:]\n",
    "print(f'shape of train: {train.shape}\\nshape of test: {test.shape}')"
   ]
  },
  {
   "cell_type": "markdown",
   "metadata": {
    "papermill": {
     "duration": 0.062927,
     "end_time": "2020-09-11T23:48:06.113656",
     "exception": false,
     "start_time": "2020-09-11T23:48:06.050729",
     "status": "completed"
    },
    "tags": []
   },
   "source": [
    "# 4. Sequences preparation for the RNN model"
   ]
  },
  {
   "cell_type": "code",
   "execution_count": 28,
   "metadata": {
    "execution": {
     "iopub.execute_input": "2020-09-11T23:48:06.251880Z",
     "iopub.status.busy": "2020-09-11T23:48:06.250784Z",
     "iopub.status.idle": "2020-09-11T23:48:06.254206Z",
     "shell.execute_reply": "2020-09-11T23:48:06.253528Z"
    },
    "papermill": {
     "duration": 0.078736,
     "end_time": "2020-09-11T23:48:06.254331",
     "exception": false,
     "start_time": "2020-09-11T23:48:06.175595",
     "status": "completed"
    },
    "tags": []
   },
   "outputs": [],
   "source": [
    "#function to prepare sequence data\n",
    "def prepare_sequences(data, users, item_to_token, max_length=20, \n",
    "                      one_hot_encoding=False):\n",
    "    \n",
    "    print('preparing sequences')\n",
    "    \n",
    "    #generate sequences - see https://stackoverflow.com/questions/36864699/pandas-pivot-dataframe-with-unequal-columns        \n",
    "    data = pd.concat([\n",
    "        pd.DataFrame(\n",
    "            {\n",
    "                g:[0] * (max_length+1-len(d['item_id'].tolist()[-max_length-1:])) + d['item_id'].tolist()[-max_length-1:]\n",
    "            }\n",
    "        )\n",
    "        for g,d in data.groupby('user_id')], axis=1)\n",
    " \n",
    "    \n",
    "    #from pandas dataframe to numpy array\n",
    "    data = data.transpose().values\n",
    "        \n",
    "    #transpose and build the arrays\n",
    "    x = np.array([i[:-1] for i in data])\n",
    "    y = np.array([i[1:] for i in data])\n",
    "            \n",
    "    #build the one-hot encoding, if we want\n",
    "    if one_hot_encoding:\n",
    "        y = np_utils.to_categorical(y, len(item_to_token)+1)\n",
    "    else:\n",
    "        y = np.expand_dims(y, -1)\n",
    "    \n",
    "    print('sequences prepared')\n",
    "        \n",
    "    return (x, y)\n",
    "\n",
    "#function to extract prediction from keras model at last timestep\n",
    "def predict_last_timestep(model, data):\n",
    "    #calculate the model output\n",
    "    prediction = model.predict(data)\n",
    "    #keep only the prediction at the final timestep\n",
    "    return prediction[-1]"
   ]
  },
  {
   "cell_type": "code",
   "execution_count": 29,
   "metadata": {
    "execution": {
     "iopub.execute_input": "2020-09-11T23:48:06.385171Z",
     "iopub.status.busy": "2020-09-11T23:48:06.384379Z",
     "iopub.status.idle": "2020-09-11T23:48:13.779688Z",
     "shell.execute_reply": "2020-09-11T23:48:13.778919Z"
    },
    "papermill": {
     "duration": 7.463122,
     "end_time": "2020-09-11T23:48:13.779871",
     "exception": false,
     "start_time": "2020-09-11T23:48:06.316749",
     "status": "completed"
    },
    "tags": []
   },
   "outputs": [
    {
     "name": "stdout",
     "output_type": "stream",
     "text": [
      "preparing sequences\n",
      "sequences prepared\n"
     ]
    }
   ],
   "source": [
    "x, y = prepare_sequences(data=train, users=users, item_to_token=item_to_token, max_length=max_length_seq)"
   ]
  },
  {
   "cell_type": "markdown",
   "metadata": {
    "papermill": {
     "duration": 0.062505,
     "end_time": "2020-09-11T23:48:13.906546",
     "exception": false,
     "start_time": "2020-09-11T23:48:13.844041",
     "status": "completed"
    },
    "tags": []
   },
   "source": [
    "# 5. Keras model definition"
   ]
  },
  {
   "cell_type": "code",
   "execution_count": 30,
   "metadata": {
    "execution": {
     "iopub.execute_input": "2020-09-11T23:48:14.045649Z",
     "iopub.status.busy": "2020-09-11T23:48:14.041567Z",
     "iopub.status.idle": "2020-09-11T23:48:14.048488Z",
     "shell.execute_reply": "2020-09-11T23:48:14.049133Z"
    },
    "papermill": {
     "duration": 0.079964,
     "end_time": "2020-09-11T23:48:14.049294",
     "exception": false,
     "start_time": "2020-09-11T23:48:13.969330",
     "status": "completed"
    },
    "tags": []
   },
   "outputs": [],
   "source": [
    "def keras_model(hidden_size_lstm=hidden_size_lstm, \n",
    "                learning_rate=learning_rate, \n",
    "                dropout=dropout,\n",
    "                attention_width=attention_width,\n",
    "                embedding_size=embedding_size,\n",
    "                add_dense_layer=add_dense_layer,\n",
    "                hidden_size_dense=hidden_size_dense,\n",
    "                embedding_matrix=None,\n",
    "                item_to_token=item_to_token):\n",
    "    \n",
    "    with strategy.scope():\n",
    "        embedding_layer = Embedding(len(item_to_token)+1,\n",
    "                                    embedding_size,\n",
    "                                    weights=embedding_matrix,\n",
    "                                    mask_zero=True)\n",
    "\n",
    "        model = Sequential()\n",
    "        model.add(embedding_layer)\n",
    "        model.add(LSTM(units=hidden_size_lstm,\n",
    "                       activation='tanh', dropout=dropout,\n",
    "                       return_sequences=True))\n",
    "        model.add(SeqSelfAttention(attention_activation='sigmoid',\n",
    "                                   attention_width=attention_width,\n",
    "                                   history_only=True))\n",
    "        if add_dense_layer:\n",
    "            model.add(Dense(units=hidden_size_dense, activation='relu'))\n",
    "        model.add(Dense(units=len(item_to_token)+1, activation='softmax'))\n",
    "        optimizer = Adam(lr=learning_rate)\n",
    "    # Compile model\n",
    "    model.compile(loss='sparse_categorical_crossentropy', optimizer=optimizer,\n",
    "                  metrics=['sparse_categorical_accuracy'])\n",
    "\n",
    "    return model"
   ]
  },
  {
   "cell_type": "markdown",
   "metadata": {
    "papermill": {
     "duration": 0.063304,
     "end_time": "2020-09-11T23:48:14.175756",
     "exception": false,
     "start_time": "2020-09-11T23:48:14.112452",
     "status": "completed"
    },
    "tags": []
   },
   "source": [
    "# 6. Model training"
   ]
  },
  {
   "cell_type": "code",
   "execution_count": 31,
   "metadata": {
    "execution": {
     "iopub.execute_input": "2020-09-11T23:48:14.309243Z",
     "iopub.status.busy": "2020-09-11T23:48:14.308504Z",
     "iopub.status.idle": "2020-09-11T23:48:58.183154Z",
     "shell.execute_reply": "2020-09-11T23:48:58.182569Z"
    },
    "papermill": {
     "duration": 43.944653,
     "end_time": "2020-09-11T23:48:58.183267",
     "exception": false,
     "start_time": "2020-09-11T23:48:14.238614",
     "status": "completed"
    },
    "tags": []
   },
   "outputs": [
    {
     "name": "stdout",
     "output_type": "stream",
     "text": [
      "104/104 [==============================] - 26s 249ms/step - sparse_categorical_accuracy: 0.0019 - loss: 12.0682 - val_sparse_categorical_accuracy: 0.0022 - val_loss: 11.8146\n",
      "0.0021709634456783533\n"
     ]
    }
   ],
   "source": [
    "#prepare the model\n",
    "model = keras_model(hidden_size_lstm=hidden_size_lstm, \n",
    "                    learning_rate=learning_rate, \n",
    "                    dropout=dropout, \n",
    "                    embedding_size=embedding_size)  \n",
    "\n",
    "history = model.fit(x, y,\n",
    "                    epochs=epochs,\n",
    "                    validation_split=validation_split,\n",
    "                    batch_size=64,\n",
    "                    verbose=1)\n",
    "\n",
    "print(history.history['val_sparse_categorical_accuracy'][-1])\n"
   ]
  },
  {
   "cell_type": "markdown",
   "metadata": {
    "papermill": {
     "duration": 0.08079,
     "end_time": "2020-09-11T23:48:58.345193",
     "exception": false,
     "start_time": "2020-09-11T23:48:58.264403",
     "status": "completed"
    },
    "tags": []
   },
   "source": [
    "# 7. Recommendations prediction"
   ]
  },
  {
   "cell_type": "markdown",
   "metadata": {
    "papermill": {
     "duration": 0.080733,
     "end_time": "2020-09-11T23:48:58.506947",
     "exception": false,
     "start_time": "2020-09-11T23:48:58.426214",
     "status": "completed"
    },
    "tags": []
   },
   "source": [
    "We make a list of users which are both present in train and test set. We will use these users to compute the performance metrics of our model."
   ]
  },
  {
   "cell_type": "code",
   "execution_count": 32,
   "metadata": {
    "execution": {
     "iopub.execute_input": "2020-09-11T23:48:58.834870Z",
     "iopub.status.busy": "2020-09-11T23:48:58.833249Z",
     "iopub.status.idle": "2020-09-11T23:48:58.839648Z",
     "shell.execute_reply": "2020-09-11T23:48:58.838979Z"
    },
    "papermill": {
     "duration": 0.250273,
     "end_time": "2020-09-11T23:48:58.839764",
     "exception": false,
     "start_time": "2020-09-11T23:48:58.589491",
     "status": "completed"
    },
    "tags": []
   },
   "outputs": [
    {
     "data": {
      "text/plain": [
       "[32772, 262150, 163850, 196620, 98321, 32792, 131098, 229408, 32801, 163874]"
      ]
     },
     "execution_count": 32,
     "metadata": {},
     "output_type": "execute_result"
    }
   ],
   "source": [
    "common_user = list(set(train.user_id).intersection(test.user_id))\n",
    "common_user[:10]"
   ]
  },
  {
   "cell_type": "code",
   "execution_count": 33,
   "metadata": {
    "execution": {
     "iopub.execute_input": "2020-09-11T23:48:59.008204Z",
     "iopub.status.busy": "2020-09-11T23:48:59.007499Z",
     "iopub.status.idle": "2020-09-11T23:48:59.012241Z",
     "shell.execute_reply": "2020-09-11T23:48:59.011198Z"
    },
    "papermill": {
     "duration": 0.091133,
     "end_time": "2020-09-11T23:48:59.012363",
     "exception": false,
     "start_time": "2020-09-11T23:48:58.921230",
     "status": "completed"
    },
    "tags": []
   },
   "outputs": [
    {
     "name": "stdout",
     "output_type": "stream",
     "text": [
      "There are 7173 common users between the train and test set\n"
     ]
    }
   ],
   "source": [
    "print(f'There are {len(common_user)} common users between the train and test set')"
   ]
  },
  {
   "cell_type": "code",
   "execution_count": 34,
   "metadata": {
    "execution": {
     "iopub.execute_input": "2020-09-11T23:48:59.189077Z",
     "iopub.status.busy": "2020-09-11T23:48:59.188232Z",
     "iopub.status.idle": "2020-09-11T23:48:59.191426Z",
     "shell.execute_reply": "2020-09-11T23:48:59.190853Z"
    },
    "papermill": {
     "duration": 0.094398,
     "end_time": "2020-09-11T23:48:59.191542",
     "exception": false,
     "start_time": "2020-09-11T23:48:59.097144",
     "status": "completed"
    },
    "tags": []
   },
   "outputs": [],
   "source": [
    "def reco_from_item_id_interacted(item_id_interacted, model=model, n_reco=10):\n",
    "    predictions = predict_last_timestep(model=model,\n",
    "                                        data=[item_id_interacted]).argsort()[0][:n_reco]\n",
    "    return list(predictions)\n",
    "\n",
    "def build_user_to_interacted(user_id, train=train):\n",
    "    return train[train['user_id'] == user_id]['item_id'].dropna().unique().tolist()\n",
    "\n",
    "#item_id_interacted = build_user_to_interacted(user_id=choice(user_train))\n",
    "#len(item_id_interacted)"
   ]
  },
  {
   "cell_type": "code",
   "execution_count": 35,
   "metadata": {
    "execution": {
     "iopub.execute_input": "2020-09-11T23:48:59.366275Z",
     "iopub.status.busy": "2020-09-11T23:48:59.365105Z",
     "iopub.status.idle": "2020-09-11T23:49:00.157260Z",
     "shell.execute_reply": "2020-09-11T23:49:00.157756Z"
    },
    "papermill": {
     "duration": 0.883743,
     "end_time": "2020-09-11T23:49:00.157940",
     "exception": false,
     "start_time": "2020-09-11T23:48:59.274197",
     "status": "completed"
    },
    "tags": []
   },
   "outputs": [],
   "source": [
    "def user_to_last_visited_item_id_dict(train: pd.DataFrame,\n",
    "                                      user_list: list,\n",
    "                                      nb_last_item: int=None) -> dict:\n",
    "    \"\"\"\n",
    "    Return a dictionary mapping user to last visited items id.\n",
    "    input:\n",
    "            :train: pd.DataFrame, training set\n",
    "            :user_list: list, head_visitor_id\n",
    "            :nb_last_item: int, number of last interacted items\n",
    "                           to use to predict recommendation\n",
    "    output:\n",
    "            :: dict, mapping the user (head_visitor_id) to the last\n",
    "               visited items\n",
    "    \"\"\"\n",
    "    if nb_last_item:\n",
    "        return train.groupby('user_id')['item_id'].apply(lambda g: g.values\n",
    "                                                      .tolist()[-nb_last_item:]).to_dict()\n",
    "    else:\n",
    "        return train.groupby('user_id')['item_id'].apply(lambda g: g.values\n",
    "                                                      .tolist()).to_dict()\n",
    "\n",
    "user_to_last_visited_item_id_dict = user_to_last_visited_item_id_dict(train=train,\n",
    "                                                                      user_list=train.user_id.unique().tolist(),\n",
    "                                                                      nb_last_item=nb_last_item)"
   ]
  },
  {
   "cell_type": "code",
   "execution_count": 36,
   "metadata": {
    "execution": {
     "iopub.execute_input": "2020-09-11T23:49:00.336366Z",
     "iopub.status.busy": "2020-09-11T23:49:00.335559Z",
     "iopub.status.idle": "2020-09-11T23:49:00.340105Z",
     "shell.execute_reply": "2020-09-11T23:49:00.339572Z"
    },
    "papermill": {
     "duration": 0.098565,
     "end_time": "2020-09-11T23:49:00.340227",
     "exception": false,
     "start_time": "2020-09-11T23:49:00.241662",
     "status": "completed"
    },
    "tags": []
   },
   "outputs": [
    {
     "data": {
      "text/plain": [
       "[(182,\n",
       "  [235757,\n",
       "   268658,\n",
       "   327568,\n",
       "   221093,\n",
       "   308464,\n",
       "   229507,\n",
       "   193093,\n",
       "   262991,\n",
       "   298148,\n",
       "   320570,\n",
       "   69270,\n",
       "   336524,\n",
       "   294902,\n",
       "   168472,\n",
       "   121636,\n",
       "   176447,\n",
       "   192618,\n",
       "   197456,\n",
       "   250762,\n",
       "   26561]),\n",
       " (241,\n",
       "  [168767,\n",
       "   253685,\n",
       "   243224,\n",
       "   312043,\n",
       "   20753,\n",
       "   76091,\n",
       "   218462,\n",
       "   252810,\n",
       "   244822,\n",
       "   258808,\n",
       "   135874,\n",
       "   145802,\n",
       "   336802,\n",
       "   147551,\n",
       "   58146,\n",
       "   149140,\n",
       "   211446,\n",
       "   184101,\n",
       "   228132,\n",
       "   12224]),\n",
       " (242,\n",
       "  [41207,\n",
       "   195673,\n",
       "   115620,\n",
       "   171268,\n",
       "   219769,\n",
       "   164880,\n",
       "   316411,\n",
       "   81599,\n",
       "   192721,\n",
       "   45680,\n",
       "   276102,\n",
       "   157097,\n",
       "   85409,\n",
       "   329184,\n",
       "   216278,\n",
       "   291309,\n",
       "   73602,\n",
       "   115298,\n",
       "   227303,\n",
       "   2630]),\n",
       " (253,\n",
       "  [96170,\n",
       "   66014,\n",
       "   86110,\n",
       "   110631,\n",
       "   274723,\n",
       "   313491,\n",
       "   108417,\n",
       "   259531,\n",
       "   301404,\n",
       "   105332,\n",
       "   54541,\n",
       "   225971,\n",
       "   288719,\n",
       "   334933,\n",
       "   257652,\n",
       "   330983,\n",
       "   292889,\n",
       "   34055,\n",
       "   207792,\n",
       "   95301]),\n",
       " (382,\n",
       "  [273055,\n",
       "   150044,\n",
       "   166229,\n",
       "   255991,\n",
       "   31286,\n",
       "   149484,\n",
       "   83077,\n",
       "   296217,\n",
       "   25414,\n",
       "   70512,\n",
       "   295372,\n",
       "   126422,\n",
       "   163807,\n",
       "   244274,\n",
       "   71952,\n",
       "   198365,\n",
       "   4812,\n",
       "   176382,\n",
       "   306119,\n",
       "   166231])]"
      ]
     },
     "execution_count": 36,
     "metadata": {},
     "output_type": "execute_result"
    }
   ],
   "source": [
    "list(user_to_last_visited_item_id_dict.items())[:5]"
   ]
  },
  {
   "cell_type": "code",
   "execution_count": 37,
   "metadata": {
    "execution": {
     "iopub.execute_input": "2020-09-11T23:49:00.512410Z",
     "iopub.status.busy": "2020-09-11T23:49:00.511744Z",
     "iopub.status.idle": "2020-09-11T23:49:00.514526Z",
     "shell.execute_reply": "2020-09-11T23:49:00.515046Z"
    },
    "papermill": {
     "duration": 0.091757,
     "end_time": "2020-09-11T23:49:00.515188",
     "exception": false,
     "start_time": "2020-09-11T23:49:00.423431",
     "status": "completed"
    },
    "tags": []
   },
   "outputs": [],
   "source": [
    "def predict_for_one(\n",
    "    model,\n",
    "    user_id,\n",
    "    n_reco,\n",
    "    user_to_last_visited_item_id_dict=user_to_last_visited_item_id_dict\n",
    "):\n",
    "    item_id_interacted = user_to_last_visited_item_id_dict[user_id]\n",
    "    reco_id = reco_from_item_id_interacted(item_id_interacted,\n",
    "                                           model=model,\n",
    "                                           n_reco=n_reco)\n",
    "    return reco_id"
   ]
  },
  {
   "cell_type": "code",
   "execution_count": 38,
   "metadata": {
    "execution": {
     "iopub.execute_input": "2020-09-11T23:49:00.694218Z",
     "iopub.status.busy": "2020-09-11T23:49:00.693403Z",
     "iopub.status.idle": "2020-09-12T01:52:58.744456Z",
     "shell.execute_reply": "2020-09-12T01:52:58.745078Z"
    },
    "papermill": {
     "duration": 7438.145871,
     "end_time": "2020-09-12T01:52:58.745261",
     "exception": false,
     "start_time": "2020-09-11T23:49:00.599390",
     "status": "completed"
    },
    "tags": []
   },
   "outputs": [
    {
     "name": "stdout",
     "output_type": "stream",
     "text": [
      "recommendation computation for 5000 users.\n",
      "n_reco=20\n",
      "predict for 5000 spent 7437.96 s.\n"
     ]
    }
   ],
   "source": [
    "def predict(\n",
    "    model,\n",
    "    user_id_list,\n",
    "    n_reco,\n",
    "    user_to_last_visited_item_id_dict=user_to_last_visited_item_id_dict,\n",
    "    max_users=None, # reduce computation time\n",
    "):\n",
    "    start = time.time()\n",
    "    print(f'recommendation computation for {len(user_id_list[:max_users])} users.')\n",
    "    print(f'n_reco={n_reco}')\n",
    "    reco_dict = {\n",
    "        user_id: predict_for_one(\n",
    "            model=model,\n",
    "            user_id=user_id,\n",
    "            n_reco=n_reco,\n",
    "            user_to_last_visited_item_id_dict=user_to_last_visited_item_id_dict\n",
    "        )\n",
    "        for user_id in user_id_list[:max_users]\n",
    "    }\n",
    "    print(f'predict for {len(user_id_list[:max_users])} spent {round(time.time()-start, 2)} s.')\n",
    "    return reco_dict\n",
    "#max_users=100\n",
    "#n_reco=50\n",
    "reco_dict = predict(\n",
    "    model=model,\n",
    "    user_id_list=common_user,\n",
    "    user_to_last_visited_item_id_dict=user_to_last_visited_item_id_dict,\n",
    "    max_users=max_users,\n",
    "    n_reco=n_reco)"
   ]
  },
  {
   "cell_type": "code",
   "execution_count": 39,
   "metadata": {
    "execution": {
     "iopub.execute_input": "2020-09-12T01:52:58.922569Z",
     "iopub.status.busy": "2020-09-12T01:52:58.921920Z",
     "iopub.status.idle": "2020-09-12T01:52:58.932172Z",
     "shell.execute_reply": "2020-09-12T01:52:58.932658Z"
    },
    "papermill": {
     "duration": 0.103407,
     "end_time": "2020-09-12T01:52:58.932798",
     "exception": false,
     "start_time": "2020-09-12T01:52:58.829391",
     "status": "completed"
    },
    "tags": []
   },
   "outputs": [
    {
     "data": {
      "text/plain": [
       "[(32772,\n",
       "  [260757,\n",
       "   119037,\n",
       "   44061,\n",
       "   281872,\n",
       "   73734,\n",
       "   268697,\n",
       "   203668,\n",
       "   107511,\n",
       "   319145,\n",
       "   5011,\n",
       "   49592,\n",
       "   258912,\n",
       "   93350,\n",
       "   217133,\n",
       "   188079,\n",
       "   56511,\n",
       "   283411,\n",
       "   184625,\n",
       "   66618,\n",
       "   335883]),\n",
       " (262150,\n",
       "  [203668,\n",
       "   188079,\n",
       "   260757,\n",
       "   119037,\n",
       "   44061,\n",
       "   268697,\n",
       "   281872,\n",
       "   56511,\n",
       "   283411,\n",
       "   49592,\n",
       "   73734,\n",
       "   157866,\n",
       "   66618,\n",
       "   157504,\n",
       "   5011,\n",
       "   12654,\n",
       "   335883,\n",
       "   14022,\n",
       "   184625,\n",
       "   319145]),\n",
       " (163850,\n",
       "  [260757,\n",
       "   119037,\n",
       "   44061,\n",
       "   281872,\n",
       "   73734,\n",
       "   217133,\n",
       "   107511,\n",
       "   319145,\n",
       "   268697,\n",
       "   5011,\n",
       "   258912,\n",
       "   93350,\n",
       "   49592,\n",
       "   211876,\n",
       "   243858,\n",
       "   184625,\n",
       "   17885,\n",
       "   335883,\n",
       "   56511,\n",
       "   66618])]"
      ]
     },
     "execution_count": 39,
     "metadata": {},
     "output_type": "execute_result"
    }
   ],
   "source": [
    "list(reco_dict.items())[:3]"
   ]
  },
  {
   "cell_type": "markdown",
   "metadata": {
    "papermill": {
     "duration": 0.083658,
     "end_time": "2020-09-12T01:52:59.100861",
     "exception": false,
     "start_time": "2020-09-12T01:52:59.017203",
     "status": "completed"
    },
    "tags": []
   },
   "source": [
    "# 8. Performance metrics computation"
   ]
  },
  {
   "cell_type": "code",
   "execution_count": 40,
   "metadata": {
    "execution": {
     "iopub.execute_input": "2020-09-12T01:52:59.285479Z",
     "iopub.status.busy": "2020-09-12T01:52:59.278206Z",
     "iopub.status.idle": "2020-09-12T01:52:59.288983Z",
     "shell.execute_reply": "2020-09-12T01:52:59.288246Z"
    },
    "papermill": {
     "duration": 0.103959,
     "end_time": "2020-09-12T01:52:59.289119",
     "exception": false,
     "start_time": "2020-09-12T01:52:59.185160",
     "status": "completed"
    },
    "tags": []
   },
   "outputs": [],
   "source": [
    "#Function to calculate, precision, recall and coverage\n",
    "def statistics_at_k(reco_dict,\n",
    "                    test_df,\n",
    "                    train_df,\n",
    "                    calculate_precision=True,\n",
    "                    calculate_recall=True, \n",
    "                    calculate_coverage=True): \n",
    "    '''\n",
    "    reco_dict: dictionary with the uid as key, list of items recommended as attribute\n",
    "    test_df: dataframe of user-item interactions\n",
    "    '''     \n",
    "    #calculate precision\n",
    "    if calculate_precision:\n",
    "        k_relevant = 0\n",
    "        k_total = 0\n",
    "        for uid, iid in reco_dict.items():\n",
    "            iid_test = set(test_df[test_df['user_id'] == uid]['item_id'])\n",
    "            for j in iid:\n",
    "                k_total += 1\n",
    "                if j in iid_test:\n",
    "                    k_relevant += 1\n",
    "        if not k_total:\n",
    "            precision = 0\n",
    "        else:\n",
    "            precision = k_relevant/k_total\n",
    "        print(f'precision={precision}')    \n",
    "    else:\n",
    "        precision = None\n",
    "        \n",
    "    #calculate precision\n",
    "    if calculate_recall:\n",
    "        k_relevant = 0\n",
    "        k_total = 0\n",
    "        for uid, iid in reco_dict.items():\n",
    "            for j in list(test_df[test_df['user_id'] == uid]['item_id']):\n",
    "                k_total += 1\n",
    "                if j in set(iid):\n",
    "                    k_relevant += 1\n",
    "        \n",
    "        if not k_total:\n",
    "            recall = 0\n",
    "        else:\n",
    "            recall = k_relevant/k_total\n",
    "        print(f'recall={recall}')\n",
    "    else:\n",
    "        recall = None\n",
    "        \n",
    "    #calculate coverage\n",
    "    if calculate_coverage:\n",
    "        nb_recommended = len(set(sum(reco_dict.values(), [])))\n",
    "        nb_total = len(train_df['item_id'].unique())\n",
    "        coverage = nb_recommended/nb_total\n",
    "        print(f'coverage={coverage}')\n",
    "    else:\n",
    "        coverage = None\n",
    "    \n",
    "    return precision, recall, coverage"
   ]
  },
  {
   "cell_type": "code",
   "execution_count": 41,
   "metadata": {
    "execution": {
     "iopub.execute_input": "2020-09-12T01:52:59.463756Z",
     "iopub.status.busy": "2020-09-12T01:52:59.462532Z",
     "iopub.status.idle": "2020-09-12T01:53:08.156701Z",
     "shell.execute_reply": "2020-09-12T01:53:08.157359Z"
    },
    "papermill": {
     "duration": 8.784253,
     "end_time": "2020-09-12T01:53:08.157501",
     "exception": false,
     "start_time": "2020-09-12T01:52:59.373248",
     "status": "completed"
    },
    "tags": []
   },
   "outputs": [
    {
     "name": "stdout",
     "output_type": "stream",
     "text": [
      "precision=1e-05\n",
      "recall=1.611291933872579e-05\n",
      "coverage=0.000310649806300709\n"
     ]
    },
    {
     "data": {
      "text/plain": [
       "(1e-05, 1.611291933872579e-05, 0.000310649806300709)"
      ]
     },
     "execution_count": 41,
     "metadata": {},
     "output_type": "execute_result"
    }
   ],
   "source": [
    "# statistics with RNN recommendation\n",
    "statistics_at_k(reco_dict=reco_dict,\n",
    "                test_df=test,\n",
    "                train_df=train,\n",
    "                calculate_precision=True,\n",
    "                calculate_recall=True, \n",
    "                calculate_coverage=True)"
   ]
  },
  {
   "cell_type": "code",
   "execution_count": 42,
   "metadata": {
    "execution": {
     "iopub.execute_input": "2020-09-12T01:53:08.333114Z",
     "iopub.status.busy": "2020-09-12T01:53:08.332339Z",
     "iopub.status.idle": "2020-09-12T01:53:08.370675Z",
     "shell.execute_reply": "2020-09-12T01:53:08.370010Z"
    },
    "papermill": {
     "duration": 0.127906,
     "end_time": "2020-09-12T01:53:08.370834",
     "exception": false,
     "start_time": "2020-09-12T01:53:08.242928",
     "status": "completed"
    },
    "tags": []
   },
   "outputs": [
    {
     "data": {
      "text/plain": [
       "[9042,\n",
       " 120082,\n",
       " 247990,\n",
       " 285552,\n",
       " 325639,\n",
       " 123735,\n",
       " 149484,\n",
       " 66014,\n",
       " 15398,\n",
       " 311879,\n",
       " 249318,\n",
       " 212295,\n",
       " 243036,\n",
       " 168549,\n",
       " 258430,\n",
       " 157097,\n",
       " 159057,\n",
       " 172364,\n",
       " 90496,\n",
       " 89098]"
      ]
     },
     "execution_count": 42,
     "metadata": {},
     "output_type": "execute_result"
    }
   ],
   "source": [
    "topn = list(train.item_id.value_counts().index.values[:n_reco])\n",
    "topn"
   ]
  },
  {
   "cell_type": "code",
   "execution_count": 43,
   "metadata": {
    "execution": {
     "iopub.execute_input": "2020-09-12T01:53:08.550505Z",
     "iopub.status.busy": "2020-09-12T01:53:08.549537Z",
     "iopub.status.idle": "2020-09-12T01:53:08.552620Z",
     "shell.execute_reply": "2020-09-12T01:53:08.553222Z"
    },
    "papermill": {
     "duration": 0.095084,
     "end_time": "2020-09-12T01:53:08.553388",
     "exception": false,
     "start_time": "2020-09-12T01:53:08.458304",
     "status": "completed"
    },
    "tags": []
   },
   "outputs": [],
   "source": [
    "reco_topn_dict = {\n",
    "    user_id: topn\n",
    "    for user_id in reco_dict.keys() \n",
    "}"
   ]
  },
  {
   "cell_type": "code",
   "execution_count": 44,
   "metadata": {
    "execution": {
     "iopub.execute_input": "2020-09-12T01:53:08.735690Z",
     "iopub.status.busy": "2020-09-12T01:53:08.734965Z",
     "iopub.status.idle": "2020-09-12T01:53:08.739431Z",
     "shell.execute_reply": "2020-09-12T01:53:08.738866Z"
    },
    "papermill": {
     "duration": 0.099401,
     "end_time": "2020-09-12T01:53:08.739545",
     "exception": false,
     "start_time": "2020-09-12T01:53:08.640144",
     "status": "completed"
    },
    "tags": []
   },
   "outputs": [
    {
     "data": {
      "text/plain": [
       "[(32772,\n",
       "  [9042,\n",
       "   120082,\n",
       "   247990,\n",
       "   285552,\n",
       "   325639,\n",
       "   123735,\n",
       "   149484,\n",
       "   66014,\n",
       "   15398,\n",
       "   311879,\n",
       "   249318,\n",
       "   212295,\n",
       "   243036,\n",
       "   168549,\n",
       "   258430,\n",
       "   157097,\n",
       "   159057,\n",
       "   172364,\n",
       "   90496,\n",
       "   89098]),\n",
       " (262150,\n",
       "  [9042,\n",
       "   120082,\n",
       "   247990,\n",
       "   285552,\n",
       "   325639,\n",
       "   123735,\n",
       "   149484,\n",
       "   66014,\n",
       "   15398,\n",
       "   311879,\n",
       "   249318,\n",
       "   212295,\n",
       "   243036,\n",
       "   168549,\n",
       "   258430,\n",
       "   157097,\n",
       "   159057,\n",
       "   172364,\n",
       "   90496,\n",
       "   89098]),\n",
       " (163850,\n",
       "  [9042,\n",
       "   120082,\n",
       "   247990,\n",
       "   285552,\n",
       "   325639,\n",
       "   123735,\n",
       "   149484,\n",
       "   66014,\n",
       "   15398,\n",
       "   311879,\n",
       "   249318,\n",
       "   212295,\n",
       "   243036,\n",
       "   168549,\n",
       "   258430,\n",
       "   157097,\n",
       "   159057,\n",
       "   172364,\n",
       "   90496,\n",
       "   89098])]"
      ]
     },
     "execution_count": 44,
     "metadata": {},
     "output_type": "execute_result"
    }
   ],
   "source": [
    "list(reco_topn_dict.items())[:3]"
   ]
  },
  {
   "cell_type": "code",
   "execution_count": 45,
   "metadata": {
    "execution": {
     "iopub.execute_input": "2020-09-12T01:53:08.968271Z",
     "iopub.status.busy": "2020-09-12T01:53:08.967169Z",
     "iopub.status.idle": "2020-09-12T01:53:16.914732Z",
     "shell.execute_reply": "2020-09-12T01:53:16.913795Z"
    },
    "papermill": {
     "duration": 8.03985,
     "end_time": "2020-09-12T01:53:16.914894",
     "exception": false,
     "start_time": "2020-09-12T01:53:08.875044",
     "status": "completed"
    },
    "tags": []
   },
   "outputs": [
    {
     "name": "stdout",
     "output_type": "stream",
     "text": [
      "precision=0.00651\n",
      "recall=0.01048951048951049\n",
      "coverage=7.309407207075506e-05\n"
     ]
    },
    {
     "data": {
      "text/plain": [
       "(0.00651, 0.01048951048951049, 7.309407207075506e-05)"
      ]
     },
     "execution_count": 45,
     "metadata": {},
     "output_type": "execute_result"
    }
   ],
   "source": [
    "# statistics with top n recommendation\n",
    "statistics_at_k(reco_dict=reco_topn_dict,\n",
    "                test_df=test,\n",
    "                train_df=train,\n",
    "                calculate_precision=True,\n",
    "                calculate_recall=True, \n",
    "                calculate_coverage=True)"
   ]
  },
  {
   "cell_type": "markdown",
   "metadata": {
    "papermill": {
     "duration": 0.087479,
     "end_time": "2020-09-12T01:53:17.089492",
     "exception": false,
     "start_time": "2020-09-12T01:53:17.002013",
     "status": "completed"
    },
    "tags": []
   },
   "source": [
    "# 9. Visualization example"
   ]
  },
  {
   "cell_type": "code",
   "execution_count": 46,
   "metadata": {
    "execution": {
     "iopub.execute_input": "2020-09-12T01:53:17.270989Z",
     "iopub.status.busy": "2020-09-12T01:53:17.270263Z",
     "iopub.status.idle": "2020-09-12T01:53:20.682983Z",
     "shell.execute_reply": "2020-09-12T01:53:20.683634Z"
    },
    "papermill": {
     "duration": 3.50664,
     "end_time": "2020-09-12T01:53:20.683800",
     "exception": false,
     "start_time": "2020-09-12T01:53:17.177160",
     "status": "completed"
    },
    "tags": []
   },
   "outputs": [],
   "source": [
    "item_id_interacted = [197383]\n",
    "item_id_pred = predict_last_timestep(\n",
    "    model=model,data=[item_id_interacted]\n",
    ").argsort()[0][:20]"
   ]
  },
  {
   "cell_type": "code",
   "execution_count": 47,
   "metadata": {
    "execution": {
     "iopub.execute_input": "2020-09-12T01:53:20.863667Z",
     "iopub.status.busy": "2020-09-12T01:53:20.863033Z",
     "iopub.status.idle": "2020-09-12T01:53:20.878320Z",
     "shell.execute_reply": "2020-09-12T01:53:20.877743Z"
    },
    "papermill": {
     "duration": 0.107309,
     "end_time": "2020-09-12T01:53:20.878437",
     "exception": false,
     "start_time": "2020-09-12T01:53:20.771128",
     "status": "completed"
    },
    "tags": []
   },
   "outputs": [
    {
     "data": {
      "text/html": [
       "<div>\n",
       "<style scoped>\n",
       "    .dataframe tbody tr th:only-of-type {\n",
       "        vertical-align: middle;\n",
       "    }\n",
       "\n",
       "    .dataframe tbody tr th {\n",
       "        vertical-align: top;\n",
       "    }\n",
       "\n",
       "    .dataframe thead th {\n",
       "        text-align: right;\n",
       "    }\n",
       "</style>\n",
       "<table border=\"1\" class=\"dataframe\">\n",
       "  <thead>\n",
       "    <tr style=\"text-align: right;\">\n",
       "      <th></th>\n",
       "      <th>item</th>\n",
       "      <th>name</th>\n",
       "      <th>author</th>\n",
       "      <th>year</th>\n",
       "      <th>publisher</th>\n",
       "      <th>Image-URL-S</th>\n",
       "      <th>image</th>\n",
       "      <th>Image-URL-L</th>\n",
       "      <th>item_id</th>\n",
       "    </tr>\n",
       "  </thead>\n",
       "  <tbody>\n",
       "    <tr>\n",
       "      <th>40684</th>\n",
       "      <td>0517703939</td>\n",
       "      <td>Dinosaur in a Haystack: Reflections in Natural...</td>\n",
       "      <td>Stephen Jay Gould</td>\n",
       "      <td>1996</td>\n",
       "      <td>Harmony Books</td>\n",
       "      <td>http://images.amazon.com/images/P/0517703939.0...</td>\n",
       "      <td>http://images.amazon.com/images/P/0517703939.0...</td>\n",
       "      <td>http://images.amazon.com/images/P/0517703939.0...</td>\n",
       "      <td>197383</td>\n",
       "    </tr>\n",
       "  </tbody>\n",
       "</table>\n",
       "</div>"
      ],
      "text/plain": [
       "             item                                               name  \\\n",
       "40684  0517703939  Dinosaur in a Haystack: Reflections in Natural...   \n",
       "\n",
       "                  author  year      publisher  \\\n",
       "40684  Stephen Jay Gould  1996  Harmony Books   \n",
       "\n",
       "                                             Image-URL-S  \\\n",
       "40684  http://images.amazon.com/images/P/0517703939.0...   \n",
       "\n",
       "                                                   image  \\\n",
       "40684  http://images.amazon.com/images/P/0517703939.0...   \n",
       "\n",
       "                                             Image-URL-L  item_id  \n",
       "40684  http://images.amazon.com/images/P/0517703939.0...   197383  "
      ]
     },
     "execution_count": 47,
     "metadata": {},
     "output_type": "execute_result"
    }
   ],
   "source": [
    "# past interactions\n",
    "item_df[item_df['item_id'].isin(item_id_interacted)]"
   ]
  },
  {
   "cell_type": "code",
   "execution_count": 48,
   "metadata": {
    "execution": {
     "iopub.execute_input": "2020-09-12T01:53:21.126172Z",
     "iopub.status.busy": "2020-09-12T01:53:21.125423Z",
     "iopub.status.idle": "2020-09-12T01:53:21.811947Z",
     "shell.execute_reply": "2020-09-12T01:53:21.812452Z"
    },
    "papermill": {
     "duration": 0.844279,
     "end_time": "2020-09-12T01:53:21.812585",
     "exception": false,
     "start_time": "2020-09-12T01:53:20.968306",
     "status": "completed"
    },
    "tags": []
   },
   "outputs": [
    {
     "name": "stdout",
     "output_type": "stream",
     "text": [
      "item_id: 197383; name: Dinosaur in a Haystack: Reflections in Natural History; author: Stephen Jay Gould publisher: Harmony Books year: 1996\n"
     ]
    },
    {
     "data": {
      "image/jpeg": "[encoded data removed]",
      "text/plain": [
       "<IPython.core.display.Image object>"
      ]
     },
     "metadata": {},
     "output_type": "display_data"
    }
   ],
   "source": [
    "# visualization of the pas\n",
    "print_items_characteristics(item_id_list=item_id_interacted)"
   ]
  },
  {
   "cell_type": "code",
   "execution_count": 49,
   "metadata": {
    "execution": {
     "iopub.execute_input": "2020-09-12T01:53:22.029226Z",
     "iopub.status.busy": "2020-09-12T01:53:22.028243Z",
     "iopub.status.idle": "2020-09-12T01:53:22.063190Z",
     "shell.execute_reply": "2020-09-12T01:53:22.063904Z"
    },
    "papermill": {
     "duration": 0.160356,
     "end_time": "2020-09-12T01:53:22.064084",
     "exception": false,
     "start_time": "2020-09-12T01:53:21.903728",
     "status": "completed"
    },
    "tags": []
   },
   "outputs": [
    {
     "data": {
      "text/html": [
       "<div>\n",
       "<style scoped>\n",
       "    .dataframe tbody tr th:only-of-type {\n",
       "        vertical-align: middle;\n",
       "    }\n",
       "\n",
       "    .dataframe tbody tr th {\n",
       "        vertical-align: top;\n",
       "    }\n",
       "\n",
       "    .dataframe thead th {\n",
       "        text-align: right;\n",
       "    }\n",
       "</style>\n",
       "<table border=\"1\" class=\"dataframe\">\n",
       "  <thead>\n",
       "    <tr style=\"text-align: right;\">\n",
       "      <th></th>\n",
       "      <th>item</th>\n",
       "      <th>name</th>\n",
       "      <th>author</th>\n",
       "      <th>year</th>\n",
       "      <th>publisher</th>\n",
       "      <th>Image-URL-S</th>\n",
       "      <th>image</th>\n",
       "      <th>Image-URL-L</th>\n",
       "      <th>item_id</th>\n",
       "    </tr>\n",
       "  </thead>\n",
       "  <tbody>\n",
       "    <tr>\n",
       "      <th>1758</th>\n",
       "      <td>157566559X</td>\n",
       "      <td>The Biograph Girl</td>\n",
       "      <td>William J. Mann</td>\n",
       "      <td>2000</td>\n",
       "      <td>Kensington Publishing Corp.</td>\n",
       "      <td>http://images.amazon.com/images/P/157566559X.0...</td>\n",
       "      <td>http://images.amazon.com/images/P/157566559X.0...</td>\n",
       "      <td>http://images.amazon.com/images/P/157566559X.0...</td>\n",
       "      <td>93350</td>\n",
       "    </tr>\n",
       "    <tr>\n",
       "      <th>19557</th>\n",
       "      <td>0801855578</td>\n",
       "      <td>The Friday Book: Essays and Other Nonfiction (...</td>\n",
       "      <td>John Barth</td>\n",
       "      <td>1997</td>\n",
       "      <td>Johns Hopkins University Press</td>\n",
       "      <td>http://images.amazon.com/images/P/0801855578.0...</td>\n",
       "      <td>http://images.amazon.com/images/P/0801855578.0...</td>\n",
       "      <td>http://images.amazon.com/images/P/0801855578.0...</td>\n",
       "      <td>281872</td>\n",
       "    </tr>\n",
       "    <tr>\n",
       "      <th>47133</th>\n",
       "      <td>037331194X</td>\n",
       "      <td>Sweet Sacrifice (Harlequin Regency Romance, No...</td>\n",
       "      <td>Elizabeth Bailey</td>\n",
       "      <td>1993</td>\n",
       "      <td>Harlequin</td>\n",
       "      <td>http://images.amazon.com/images/P/037331194X.0...</td>\n",
       "      <td>http://images.amazon.com/images/P/037331194X.0...</td>\n",
       "      <td>http://images.amazon.com/images/P/037331194X.0...</td>\n",
       "      <td>119037</td>\n",
       "    </tr>\n",
       "    <tr>\n",
       "      <th>72967</th>\n",
       "      <td>0671015354</td>\n",
       "      <td>Hunter</td>\n",
       "      <td>James Byron Huggins</td>\n",
       "      <td>1999</td>\n",
       "      <td>Pocket</td>\n",
       "      <td>http://images.amazon.com/images/P/0671015354.0...</td>\n",
       "      <td>http://images.amazon.com/images/P/0671015354.0...</td>\n",
       "      <td>http://images.amazon.com/images/P/0671015354.0...</td>\n",
       "      <td>335883</td>\n",
       "    </tr>\n",
       "    <tr>\n",
       "      <th>86092</th>\n",
       "      <td>0192839691</td>\n",
       "      <td>The Mark on the Wall and Other Short Fiction (...</td>\n",
       "      <td>Virginia Woolf</td>\n",
       "      <td>2001</td>\n",
       "      <td>Oxford University Press</td>\n",
       "      <td>http://images.amazon.com/images/P/0192839691.0...</td>\n",
       "      <td>http://images.amazon.com/images/P/0192839691.0...</td>\n",
       "      <td>http://images.amazon.com/images/P/0192839691.0...</td>\n",
       "      <td>188079</td>\n",
       "    </tr>\n",
       "    <tr>\n",
       "      <th>108084</th>\n",
       "      <td>0697085775</td>\n",
       "      <td>Finite Mathematics</td>\n",
       "      <td>Howard L. Rolf</td>\n",
       "      <td>1991</td>\n",
       "      <td>William C. Brown</td>\n",
       "      <td>http://images.amazon.com/images/P/0697085775.0...</td>\n",
       "      <td>http://images.amazon.com/images/P/0697085775.0...</td>\n",
       "      <td>http://images.amazon.com/images/P/0697085775.0...</td>\n",
       "      <td>184625</td>\n",
       "    </tr>\n",
       "    <tr>\n",
       "      <th>120608</th>\n",
       "      <td>0373711174</td>\n",
       "      <td>Hidden Treasures</td>\n",
       "      <td>Judith Arnold</td>\n",
       "      <td>2003</td>\n",
       "      <td>Harlequin</td>\n",
       "      <td>http://images.amazon.com/images/P/0373711174.0...</td>\n",
       "      <td>http://images.amazon.com/images/P/0373711174.0...</td>\n",
       "      <td>http://images.amazon.com/images/P/0373711174.0...</td>\n",
       "      <td>66618</td>\n",
       "    </tr>\n",
       "    <tr>\n",
       "      <th>132542</th>\n",
       "      <td>0573606064</td>\n",
       "      <td>Skywalking: The Life and Films of George Lucas</td>\n",
       "      <td>Dale. Pollock</td>\n",
       "      <td>1990</td>\n",
       "      <td>Samuel French</td>\n",
       "      <td>http://images.amazon.com/images/P/0573606064.0...</td>\n",
       "      <td>http://images.amazon.com/images/P/0573606064.0...</td>\n",
       "      <td>http://images.amazon.com/images/P/0573606064.0...</td>\n",
       "      <td>283411</td>\n",
       "    </tr>\n",
       "    <tr>\n",
       "      <th>134218</th>\n",
       "      <td>0553378597</td>\n",
       "      <td>The Orchard: A Memoir</td>\n",
       "      <td>Adele Crockett Robertson</td>\n",
       "      <td>1997</td>\n",
       "      <td>Bantam</td>\n",
       "      <td>http://images.amazon.com/images/P/0553378597.0...</td>\n",
       "      <td>http://images.amazon.com/images/P/0553378597.0...</td>\n",
       "      <td>http://images.amazon.com/images/P/0553378597.0...</td>\n",
       "      <td>157504</td>\n",
       "    </tr>\n",
       "    <tr>\n",
       "      <th>141955</th>\n",
       "      <td>0300070853</td>\n",
       "      <td>Marihuana, the Forbidden Medicine</td>\n",
       "      <td>Lester Grinspoon</td>\n",
       "      <td>1997</td>\n",
       "      <td>Yale University Press</td>\n",
       "      <td>http://images.amazon.com/images/P/0300070853.0...</td>\n",
       "      <td>http://images.amazon.com/images/P/0300070853.0...</td>\n",
       "      <td>http://images.amazon.com/images/P/0300070853.0...</td>\n",
       "      <td>157866</td>\n",
       "    </tr>\n",
       "    <tr>\n",
       "      <th>159746</th>\n",
       "      <td>0523417330</td>\n",
       "      <td>Raker, No. 2: Tijuana Traffic (Raker)</td>\n",
       "      <td>Don Scott</td>\n",
       "      <td>1982</td>\n",
       "      <td>Pinnacle Books</td>\n",
       "      <td>http://images.amazon.com/images/P/0523417330.0...</td>\n",
       "      <td>http://images.amazon.com/images/P/0523417330.0...</td>\n",
       "      <td>http://images.amazon.com/images/P/0523417330.0...</td>\n",
       "      <td>73734</td>\n",
       "    </tr>\n",
       "    <tr>\n",
       "      <th>213893</th>\n",
       "      <td>1564783219</td>\n",
       "      <td>The Human Country: New and Collected Stories (...</td>\n",
       "      <td>Harry Mathews</td>\n",
       "      <td>2002</td>\n",
       "      <td>Dalkey Archive Press</td>\n",
       "      <td>http://images.amazon.com/images/P/1564783219.0...</td>\n",
       "      <td>http://images.amazon.com/images/P/1564783219.0...</td>\n",
       "      <td>http://images.amazon.com/images/P/1564783219.0...</td>\n",
       "      <td>107511</td>\n",
       "    </tr>\n",
       "    <tr>\n",
       "      <th>241176</th>\n",
       "      <td>0850304318</td>\n",
       "      <td>How to Read Hands</td>\n",
       "      <td>Lori Reid</td>\n",
       "      <td>1985</td>\n",
       "      <td>Harpercollins</td>\n",
       "      <td>http://images.amazon.com/images/P/0850304318.0...</td>\n",
       "      <td>http://images.amazon.com/images/P/0850304318.0...</td>\n",
       "      <td>http://images.amazon.com/images/P/0850304318.0...</td>\n",
       "      <td>56511</td>\n",
       "    </tr>\n",
       "    <tr>\n",
       "      <th>247344</th>\n",
       "      <td>1889613010</td>\n",
       "      <td>Organon of the Medical Art</td>\n",
       "      <td>Samuel Hahnemann</td>\n",
       "      <td>2000</td>\n",
       "      <td>Birdcage Books</td>\n",
       "      <td>http://images.amazon.com/images/P/1889613010.0...</td>\n",
       "      <td>http://images.amazon.com/images/P/1889613010.0...</td>\n",
       "      <td>http://images.amazon.com/images/P/1889613010.0...</td>\n",
       "      <td>260757</td>\n",
       "    </tr>\n",
       "  </tbody>\n",
       "</table>\n",
       "</div>"
      ],
      "text/plain": [
       "              item                                               name  \\\n",
       "1758    157566559X                                  The Biograph Girl   \n",
       "19557   0801855578  The Friday Book: Essays and Other Nonfiction (...   \n",
       "47133   037331194X  Sweet Sacrifice (Harlequin Regency Romance, No...   \n",
       "72967   0671015354                                             Hunter   \n",
       "86092   0192839691  The Mark on the Wall and Other Short Fiction (...   \n",
       "108084  0697085775                                 Finite Mathematics   \n",
       "120608  0373711174                                   Hidden Treasures   \n",
       "132542  0573606064     Skywalking: The Life and Films of George Lucas   \n",
       "134218  0553378597                              The Orchard: A Memoir   \n",
       "141955  0300070853                  Marihuana, the Forbidden Medicine   \n",
       "159746  0523417330              Raker, No. 2: Tijuana Traffic (Raker)   \n",
       "213893  1564783219  The Human Country: New and Collected Stories (...   \n",
       "241176  0850304318                                  How to Read Hands   \n",
       "247344  1889613010                         Organon of the Medical Art   \n",
       "\n",
       "                          author  year                       publisher  \\\n",
       "1758             William J. Mann  2000     Kensington Publishing Corp.   \n",
       "19557                 John Barth  1997  Johns Hopkins University Press   \n",
       "47133           Elizabeth Bailey  1993                       Harlequin   \n",
       "72967        James Byron Huggins  1999                          Pocket   \n",
       "86092             Virginia Woolf  2001         Oxford University Press   \n",
       "108084            Howard L. Rolf  1991                William C. Brown   \n",
       "120608             Judith Arnold  2003                       Harlequin   \n",
       "132542             Dale. Pollock  1990                   Samuel French   \n",
       "134218  Adele Crockett Robertson  1997                          Bantam   \n",
       "141955          Lester Grinspoon  1997           Yale University Press   \n",
       "159746                 Don Scott  1982                  Pinnacle Books   \n",
       "213893             Harry Mathews  2002            Dalkey Archive Press   \n",
       "241176                 Lori Reid  1985                   Harpercollins   \n",
       "247344          Samuel Hahnemann  2000                  Birdcage Books   \n",
       "\n",
       "                                              Image-URL-S  \\\n",
       "1758    http://images.amazon.com/images/P/157566559X.0...   \n",
       "19557   http://images.amazon.com/images/P/0801855578.0...   \n",
       "47133   http://images.amazon.com/images/P/037331194X.0...   \n",
       "72967   http://images.amazon.com/images/P/0671015354.0...   \n",
       "86092   http://images.amazon.com/images/P/0192839691.0...   \n",
       "108084  http://images.amazon.com/images/P/0697085775.0...   \n",
       "120608  http://images.amazon.com/images/P/0373711174.0...   \n",
       "132542  http://images.amazon.com/images/P/0573606064.0...   \n",
       "134218  http://images.amazon.com/images/P/0553378597.0...   \n",
       "141955  http://images.amazon.com/images/P/0300070853.0...   \n",
       "159746  http://images.amazon.com/images/P/0523417330.0...   \n",
       "213893  http://images.amazon.com/images/P/1564783219.0...   \n",
       "241176  http://images.amazon.com/images/P/0850304318.0...   \n",
       "247344  http://images.amazon.com/images/P/1889613010.0...   \n",
       "\n",
       "                                                    image  \\\n",
       "1758    http://images.amazon.com/images/P/157566559X.0...   \n",
       "19557   http://images.amazon.com/images/P/0801855578.0...   \n",
       "47133   http://images.amazon.com/images/P/037331194X.0...   \n",
       "72967   http://images.amazon.com/images/P/0671015354.0...   \n",
       "86092   http://images.amazon.com/images/P/0192839691.0...   \n",
       "108084  http://images.amazon.com/images/P/0697085775.0...   \n",
       "120608  http://images.amazon.com/images/P/0373711174.0...   \n",
       "132542  http://images.amazon.com/images/P/0573606064.0...   \n",
       "134218  http://images.amazon.com/images/P/0553378597.0...   \n",
       "141955  http://images.amazon.com/images/P/0300070853.0...   \n",
       "159746  http://images.amazon.com/images/P/0523417330.0...   \n",
       "213893  http://images.amazon.com/images/P/1564783219.0...   \n",
       "241176  http://images.amazon.com/images/P/0850304318.0...   \n",
       "247344  http://images.amazon.com/images/P/1889613010.0...   \n",
       "\n",
       "                                              Image-URL-L  item_id  \n",
       "1758    http://images.amazon.com/images/P/157566559X.0...    93350  \n",
       "19557   http://images.amazon.com/images/P/0801855578.0...   281872  \n",
       "47133   http://images.amazon.com/images/P/037331194X.0...   119037  \n",
       "72967   http://images.amazon.com/images/P/0671015354.0...   335883  \n",
       "86092   http://images.amazon.com/images/P/0192839691.0...   188079  \n",
       "108084  http://images.amazon.com/images/P/0697085775.0...   184625  \n",
       "120608  http://images.amazon.com/images/P/0373711174.0...    66618  \n",
       "132542  http://images.amazon.com/images/P/0573606064.0...   283411  \n",
       "134218  http://images.amazon.com/images/P/0553378597.0...   157504  \n",
       "141955  http://images.amazon.com/images/P/0300070853.0...   157866  \n",
       "159746  http://images.amazon.com/images/P/0523417330.0...    73734  \n",
       "213893  http://images.amazon.com/images/P/1564783219.0...   107511  \n",
       "241176  http://images.amazon.com/images/P/0850304318.0...    56511  \n",
       "247344  http://images.amazon.com/images/P/1889613010.0...   260757  "
      ]
     },
     "execution_count": 49,
     "metadata": {},
     "output_type": "execute_result"
    }
   ],
   "source": [
    "# predictions\n",
    "item_df[item_df['item_id'].isin(item_id_pred)]"
   ]
  },
  {
   "cell_type": "code",
   "execution_count": 50,
   "metadata": {
    "execution": {
     "iopub.execute_input": "2020-09-12T01:53:22.304545Z",
     "iopub.status.busy": "2020-09-12T01:53:22.303458Z",
     "iopub.status.idle": "2020-09-12T01:53:22.309390Z",
     "shell.execute_reply": "2020-09-12T01:53:22.310149Z"
    },
    "papermill": {
     "duration": 0.128775,
     "end_time": "2020-09-12T01:53:22.310323",
     "exception": false,
     "start_time": "2020-09-12T01:53:22.181548",
     "status": "completed"
    },
    "tags": []
   },
   "outputs": [
    {
     "data": {
      "text/plain": [
       "array([260757, 203668, 119037,  44061, 281872, 188079, 268697,  73734,\n",
       "        49592, 283411,   5011,  56511, 335883,  66618, 157504, 184625,\n",
       "       319145, 107511,  93350, 157866])"
      ]
     },
     "execution_count": 50,
     "metadata": {},
     "output_type": "execute_result"
    }
   ],
   "source": [
    "item_id_pred"
   ]
  },
  {
   "cell_type": "code",
   "execution_count": 51,
   "metadata": {
    "execution": {
     "iopub.execute_input": "2020-09-12T01:53:22.608920Z",
     "iopub.status.busy": "2020-09-12T01:53:22.607864Z",
     "iopub.status.idle": "2020-09-12T01:53:32.105858Z",
     "shell.execute_reply": "2020-09-12T01:53:32.104763Z"
    },
    "papermill": {
     "duration": 9.682549,
     "end_time": "2020-09-12T01:53:32.106037",
     "exception": false,
     "start_time": "2020-09-12T01:53:22.423488",
     "status": "completed"
    },
    "tags": []
   },
   "outputs": [
    {
     "name": "stdout",
     "output_type": "stream",
     "text": [
      "item_id: 260757; name: Organon of the Medical Art; author: Samuel Hahnemann publisher: Birdcage Books year: 2000\n"
     ]
    },
    {
     "data": {
      "image/jpeg": "[encoded data removed]",
      "text/plain": [
       "<IPython.core.display.Image object>"
      ]
     },
     "metadata": {},
     "output_type": "display_data"
    },
    {
     "name": "stdout",
     "output_type": "stream",
     "text": [
      "item_id 203668 not in df\n"
     ]
    },
    {
     "data": {
      "text/plain": [
       "None"
      ]
     },
     "metadata": {},
     "output_type": "display_data"
    },
    {
     "name": "stdout",
     "output_type": "stream",
     "text": [
      "item_id: 119037; name: Sweet Sacrifice (Harlequin Regency Romance, No 31194); author: Elizabeth Bailey publisher: Harlequin year: 1993\n"
     ]
    },
    {
     "data": {
      "image/jpeg": "[encoded data removed]",
      "text/plain": [
       "<IPython.core.display.Image object>"
      ]
     },
     "metadata": {},
     "output_type": "display_data"
    },
    {
     "name": "stdout",
     "output_type": "stream",
     "text": [
      "item_id 44061 not in df\n"
     ]
    },
    {
     "data": {
      "text/plain": [
       "None"
      ]
     },
     "metadata": {},
     "output_type": "display_data"
    },
    {
     "name": "stdout",
     "output_type": "stream",
     "text": [
      "item_id: 281872; name: The Friday Book: Essays and Other Nonfiction (Maryland Paperback Bookshelf); author: John Barth publisher: Johns Hopkins University Press year: 1997\n"
     ]
    },
    {
     "data": {
      "image/jpeg": "[encoded data removed]",
      "text/plain": [
       "<IPython.core.display.Image object>"
      ]
     },
     "metadata": {},
     "output_type": "display_data"
    },
    {
     "name": "stdout",
     "output_type": "stream",
     "text": [
      "item_id: 188079; name: The Mark on the Wall and Other Short Fiction (Oxford World's Classics); author: Virginia Woolf publisher: Oxford University Press year: 2001\n"
     ]
    },
    {
     "data": {
      "image/jpeg": "[encoded data removed]",
      "text/plain": [
       "<IPython.core.display.Image object>"
      ]
     },
     "metadata": {},
     "output_type": "display_data"
    },
    {
     "name": "stdout",
     "output_type": "stream",
     "text": [
      "item_id 268697 not in df\n"
     ]
    },
    {
     "data": {
      "text/plain": [
       "None"
      ]
     },
     "metadata": {},
     "output_type": "display_data"
    },
    {
     "name": "stdout",
     "output_type": "stream",
     "text": [
      "item_id: 73734; name: Raker, No. 2: Tijuana Traffic (Raker); author: Don Scott publisher: Pinnacle Books year: 1982\n"
     ]
    },
    {
     "data": {
      "image/jpeg": "[encoded data removed]",
      "text/plain": [
       "<IPython.core.display.Image object>"
      ]
     },
     "metadata": {},
     "output_type": "display_data"
    },
    {
     "name": "stdout",
     "output_type": "stream",
     "text": [
      "item_id 49592 not in df\n"
     ]
    },
    {
     "data": {
      "text/plain": [
       "None"
      ]
     },
     "metadata": {},
     "output_type": "display_data"
    },
    {
     "name": "stdout",
     "output_type": "stream",
     "text": [
      "item_id: 283411; name: Skywalking: The Life and Films of George Lucas; author: Dale. Pollock publisher: Samuel French year: 1990\n"
     ]
    },
    {
     "data": {
      "image/jpeg": "[encoded data removed]",
      "text/plain": [
       "<IPython.core.display.Image object>"
      ]
     },
     "metadata": {},
     "output_type": "display_data"
    },
    {
     "name": "stdout",
     "output_type": "stream",
     "text": [
      "item_id 5011 not in df\n"
     ]
    },
    {
     "data": {
      "text/plain": [
       "None"
      ]
     },
     "metadata": {},
     "output_type": "display_data"
    },
    {
     "name": "stdout",
     "output_type": "stream",
     "text": [
      "item_id: 56511; name: How to Read Hands; author: Lori Reid publisher: Harpercollins year: 1985\n"
     ]
    },
    {
     "data": {
      "image/jpeg": "[encoded data removed]",
      "text/plain": [
       "<IPython.core.display.Image object>"
      ]
     },
     "metadata": {},
     "output_type": "display_data"
    },
    {
     "name": "stdout",
     "output_type": "stream",
     "text": [
      "item_id: 335883; name: Hunter; author: James Byron Huggins publisher: Pocket year: 1999\n"
     ]
    },
    {
     "data": {
      "image/jpeg": "[encoded data removed]",
      "text/plain": [
       "<IPython.core.display.Image object>"
      ]
     },
     "metadata": {},
     "output_type": "display_data"
    },
    {
     "name": "stdout",
     "output_type": "stream",
     "text": [
      "item_id: 66618; name: Hidden Treasures; author: Judith Arnold publisher: Harlequin year: 2003\n"
     ]
    },
    {
     "data": {
      "image/jpeg": "[encoded data removed]",
      "text/plain": [
       "<IPython.core.display.Image object>"
      ]
     },
     "metadata": {},
     "output_type": "display_data"
    },
    {
     "name": "stdout",
     "output_type": "stream",
     "text": [
      "item_id: 157504; name: The Orchard: A Memoir; author: Adele Crockett Robertson publisher: Bantam year: 1997\n"
     ]
    },
    {
     "data": {
      "image/jpeg": "[encoded data removed]",
      "text/plain": [
       "<IPython.core.display.Image object>"
      ]
     },
     "metadata": {},
     "output_type": "display_data"
    },
    {
     "name": "stdout",
     "output_type": "stream",
     "text": [
      "item_id: 184625; name: Finite Mathematics; author: Howard L. Rolf publisher: William C. Brown year: 1991\n"
     ]
    },
    {
     "data": {
      "image/jpeg": "[encoded data removed]",
      "text/plain": [
       "<IPython.core.display.Image object>"
      ]
     },
     "metadata": {},
     "output_type": "display_data"
    },
    {
     "name": "stdout",
     "output_type": "stream",
     "text": [
      "item_id 319145 not in df\n"
     ]
    },
    {
     "data": {
      "text/plain": [
       "None"
      ]
     },
     "metadata": {},
     "output_type": "display_data"
    },
    {
     "name": "stdout",
     "output_type": "stream",
     "text": [
      "item_id: 107511; name: The Human Country: New and Collected Stories (American Literature (Dalkey Archive)); author: Harry Mathews publisher: Dalkey Archive Press year: 2002\n"
     ]
    },
    {
     "data": {
      "image/jpeg": "[encoded data removed]",
      "text/plain": [
       "<IPython.core.display.Image object>"
      ]
     },
     "metadata": {},
     "output_type": "display_data"
    },
    {
     "name": "stdout",
     "output_type": "stream",
     "text": [
      "item_id: 93350; name: The Biograph Girl; author: William J. Mann publisher: Kensington Publishing Corp. year: 2000\n"
     ]
    },
    {
     "data": {
      "image/jpeg": "[encoded data removed]",
      "text/plain": [
       "<IPython.core.display.Image object>"
      ]
     },
     "metadata": {},
     "output_type": "display_data"
    },
    {
     "name": "stdout",
     "output_type": "stream",
     "text": [
      "item_id: 157866; name: Marihuana, the Forbidden Medicine; author: Lester Grinspoon publisher: Yale University Press year: 1997\n"
     ]
    },
    {
     "data": {
      "image/jpeg": "[encoded data removed]",
      "text/plain": [
       "<IPython.core.display.Image object>"
      ]
     },
     "metadata": {},
     "output_type": "display_data"
    }
   ],
   "source": [
    "print_items_characteristics(item_id_list=item_id_pred)"
   ]
  },
  {
   "cell_type": "code",
   "execution_count": 52,
   "metadata": {
    "execution": {
     "iopub.execute_input": "2020-09-12T01:53:32.356711Z",
     "iopub.status.busy": "2020-09-12T01:53:32.355876Z",
     "iopub.status.idle": "2020-09-12T01:53:32.358359Z",
     "shell.execute_reply": "2020-09-12T01:53:32.358847Z"
    },
    "papermill": {
     "duration": 0.121942,
     "end_time": "2020-09-12T01:53:32.359003",
     "exception": false,
     "start_time": "2020-09-12T01:53:32.237061",
     "status": "completed"
    },
    "tags": []
   },
   "outputs": [],
   "source": [
    "del history\n",
    "del model"
   ]
  },
  {
   "cell_type": "markdown",
   "metadata": {
    "papermill": {
     "duration": 0.109234,
     "end_time": "2020-09-12T01:53:32.577748",
     "exception": false,
     "start_time": "2020-09-12T01:53:32.468514",
     "status": "completed"
    },
    "tags": []
   },
   "source": [
    "# 10. RNN model hyperparameters optimization"
   ]
  },
  {
   "cell_type": "code",
   "execution_count": 53,
   "metadata": {
    "execution": {
     "iopub.execute_input": "2020-09-12T01:53:32.818713Z",
     "iopub.status.busy": "2020-09-12T01:53:32.817377Z",
     "iopub.status.idle": "2020-09-12T01:53:32.820329Z",
     "shell.execute_reply": "2020-09-12T01:53:32.819616Z"
    },
    "papermill": {
     "duration": 0.132925,
     "end_time": "2020-09-12T01:53:32.820446",
     "exception": false,
     "start_time": "2020-09-12T01:53:32.687521",
     "status": "completed"
    },
    "tags": []
   },
   "outputs": [],
   "source": [
    "# define the dimension to search\n",
    "dim_epochs = Integer(low=1, high=15, name='epochs')\n",
    "dim_hidden_size_lstm = Categorical(categories=[32, 64, 128, 256], name='hidden_size_lstm')\n",
    "dim_learning_rate = Real(low=1e-4, high=5e-1, prior='log-uniform',\n",
    "                         name='learning_rate')\n",
    "dim_attention_width = Integer(low=1, high=50, name='attention_width')\n",
    "dim_dropout = Real(low=0, high=0.9, name='dropout')\n",
    "dim_embedding_size = Categorical(categories=[64, 128, 256, 512], name='embedding_size')\n",
    "dim_add_dense_layer = Categorical(categories=[True, False], name='add_dense_layer')\n",
    "dim_hidden_size_dense = Categorical(categories=[32, 64, 128, 256], name='hidden_size_dense')\n",
    "\n",
    "dimensions = [dim_epochs,\n",
    "              dim_hidden_size_lstm,\n",
    "              dim_learning_rate,\n",
    "              dim_attention_width,\n",
    "              dim_dropout,\n",
    "              dim_embedding_size,\n",
    "              dim_add_dense_layer,\n",
    "              dim_hidden_size_dense]\n",
    "\n",
    "epochs = 3\n",
    "dropout = 0\n",
    "embedding_size = 256\n",
    "hidden_size_lstm = 64\n",
    "learning_rate = 0.00276"
   ]
  },
  {
   "cell_type": "code",
   "execution_count": 54,
   "metadata": {
    "execution": {
     "iopub.execute_input": "2020-09-12T01:53:33.078869Z",
     "iopub.status.busy": "2020-09-12T01:53:33.077831Z",
     "iopub.status.idle": "2020-09-12T01:53:33.095167Z",
     "shell.execute_reply": "2020-09-12T01:53:33.094536Z"
    },
    "papermill": {
     "duration": 0.165525,
     "end_time": "2020-09-12T01:53:33.095286",
     "exception": false,
     "start_time": "2020-09-12T01:53:32.929761",
     "status": "completed"
    },
    "tags": []
   },
   "outputs": [],
   "source": [
    "def optimize(dimensions=dimensions, n_calls=15, n_random_starts=3, verbose=1, x0=None):\n",
    "    print(dimensions)\n",
    "    @use_named_args(dimensions=dimensions)\n",
    "    def fitness(**params):\n",
    "        print(f'params={params}')\n",
    "        model = keras_model(hidden_size_lstm=params['hidden_size_lstm'],\n",
    "                            learning_rate=params['learning_rate'],\n",
    "                            attention_width=params['attention_width'],\n",
    "                            dropout=params['dropout'],\n",
    "                            embedding_size=params['embedding_size'],\n",
    "                            add_dense_layer=params['add_dense_layer'],\n",
    "                            hidden_size_dense=params['hidden_size_dense'])  \n",
    "\n",
    "        history = model.fit(x, y,\n",
    "                            epochs=params['epochs'],\n",
    "                            validation_split=validation_split,\n",
    "                            batch_size=64,\n",
    "                            verbose=verbose)\n",
    "        sca = history.history['val_sparse_categorical_accuracy'][-1]\n",
    "        print(f'##sca={sca}## with params={params}')\n",
    "        del history\n",
    "        del model\n",
    "        return -1.0 * sca\n",
    "    \n",
    "    res = gp_minimize(func=fitness,\n",
    "                      dimensions=dimensions,\n",
    "                      acq_func='EI', # Expected Improvement.\n",
    "                      n_calls=n_calls,\n",
    "                      n_random_starts=n_random_starts,\n",
    "                      x0=x0)\n",
    "    print(f'best accuracy={-1.0 * res.fun} with {res.x}')\n",
    "    return res"
   ]
  },
  {
   "cell_type": "code",
   "execution_count": 55,
   "metadata": {
    "execution": {
     "iopub.execute_input": "2020-09-12T01:53:33.355451Z",
     "iopub.status.busy": "2020-09-12T01:53:33.354687Z",
     "iopub.status.idle": "2020-09-12T01:56:33.752215Z",
     "shell.execute_reply": "2020-09-12T01:56:33.753195Z"
    },
    "papermill": {
     "duration": 180.529637,
     "end_time": "2020-09-12T01:56:33.753375",
     "exception": false,
     "start_time": "2020-09-12T01:53:33.223738",
     "status": "completed"
    },
    "tags": []
   },
   "outputs": [
    {
     "name": "stdout",
     "output_type": "stream",
     "text": [
      "[Integer(low=1, high=15, prior='uniform', transform='identity'), Categorical(categories=(32, 64, 128, 256), prior=None), Real(low=0.0001, high=0.5, prior='log-uniform', transform='identity'), Integer(low=1, high=50, prior='uniform', transform='identity'), Real(low=0, high=0.9, prior='uniform', transform='identity'), Categorical(categories=(64, 128, 256, 512), prior=None), Categorical(categories=(True, False), prior=None), Categorical(categories=(32, 64, 128, 256), prior=None)]\n",
      "params={'epochs': 3, 'hidden_size_lstm': 256, 'learning_rate': 0.001, 'attention_width': 40, 'dropout': 0, 'embedding_size': 512, 'add_dense_layer': True, 'hidden_size_dense': 128}\n",
      "Epoch 1/3\n"
     ]
    },
    {
     "name": "stderr",
     "output_type": "stream",
     "text": [
      "/opt/conda/lib/python3.7/site-packages/tensorflow/python/framework/indexed_slices.py:431: UserWarning: Converting sparse IndexedSlices to a dense Tensor with 174984192 elements. This may consume a large amount of memory.\n",
      "  num_elements)\n"
     ]
    },
    {
     "name": "stdout",
     "output_type": "stream",
     "text": [
      "104/104 [==============================] - 29s 283ms/step - sparse_categorical_accuracy: 0.0017 - loss: 12.1619 - val_sparse_categorical_accuracy: 0.0019 - val_loss: 11.8916\n",
      "Epoch 2/3\n",
      "104/104 [==============================] - 7s 70ms/step - sparse_categorical_accuracy: 0.0025 - loss: 11.0636 - val_sparse_categorical_accuracy: 0.0022 - val_loss: 12.1585\n",
      "Epoch 3/3\n",
      "104/104 [==============================] - 7s 71ms/step - sparse_categorical_accuracy: 0.0026 - loss: 10.7443 - val_sparse_categorical_accuracy: 0.0022 - val_loss: 12.3583\n",
      "##sca=0.002238806104287505## with params={'epochs': 3, 'hidden_size_lstm': 256, 'learning_rate': 0.001, 'attention_width': 40, 'dropout': 0, 'embedding_size': 512, 'add_dense_layer': True, 'hidden_size_dense': 128}\n",
      "params={'epochs': 4, 'hidden_size_lstm': 256, 'learning_rate': 0.00020841236213634833, 'attention_width': 4, 'dropout': 0.47914401001992796, 'embedding_size': 256, 'add_dense_layer': False, 'hidden_size_dense': 64}\n",
      "Epoch 1/4\n",
      "104/104 [==============================] - 28s 269ms/step - sparse_categorical_accuracy: 0.0023 - loss: 12.5102 - val_sparse_categorical_accuracy: 0.0022 - val_loss: 12.1609\n",
      "Epoch 2/4\n",
      "104/104 [==============================] - 7s 63ms/step - sparse_categorical_accuracy: 0.0026 - loss: 11.7006 - val_sparse_categorical_accuracy: 0.0022 - val_loss: 12.3411\n",
      "Epoch 3/4\n",
      "104/104 [==============================] - 7s 63ms/step - sparse_categorical_accuracy: 0.0026 - loss: 11.1308 - val_sparse_categorical_accuracy: 0.0022 - val_loss: 12.4607\n",
      "Epoch 4/4\n",
      "104/104 [==============================] - 7s 63ms/step - sparse_categorical_accuracy: 0.0026 - loss: 10.9597 - val_sparse_categorical_accuracy: 0.0022 - val_loss: 12.6266\n",
      "##sca=0.002238806104287505## with params={'epochs': 4, 'hidden_size_lstm': 256, 'learning_rate': 0.00020841236213634833, 'attention_width': 4, 'dropout': 0.47914401001992796, 'embedding_size': 256, 'add_dense_layer': False, 'hidden_size_dense': 64}\n",
      "params={'epochs': 3, 'hidden_size_lstm': 32, 'learning_rate': 0.005684576103718925, 'attention_width': 25, 'dropout': 0.19996000314027923, 'embedding_size': 256, 'add_dense_layer': True, 'hidden_size_dense': 64}\n",
      "Epoch 1/3\n",
      "104/104 [==============================] - 27s 258ms/step - sparse_categorical_accuracy: 0.0016 - loss: 12.0458 - val_sparse_categorical_accuracy: 0.0022 - val_loss: 11.8116\n",
      "Epoch 2/3\n",
      "104/104 [==============================] - 5s 50ms/step - sparse_categorical_accuracy: 0.0026 - loss: 10.8724 - val_sparse_categorical_accuracy: 0.0022 - val_loss: 12.1254\n",
      "Epoch 3/3\n",
      "104/104 [==============================] - 5s 51ms/step - sparse_categorical_accuracy: 0.0026 - loss: 10.3969 - val_sparse_categorical_accuracy: 0.0022 - val_loss: 12.3621\n",
      "##sca=0.002238806104287505## with params={'epochs': 3, 'hidden_size_lstm': 32, 'learning_rate': 0.005684576103718925, 'attention_width': 25, 'dropout': 0.19996000314027923, 'embedding_size': 256, 'add_dense_layer': True, 'hidden_size_dense': 64}\n"
     ]
    },
    {
     "ename": "ValueError",
     "evalue": "array must not contain infs or NaNs",
     "output_type": "error",
     "traceback": [
      "\u001b[0;31m---------------------------------------------------------------------------\u001b[0m",
      "\u001b[0;31mValueError\u001b[0m                                Traceback (most recent call last)",
      "\u001b[0;32m<ipython-input-55-6e793fc15453>\u001b[0m in \u001b[0;36m<module>\u001b[0;34m\u001b[0m\n\u001b[1;32m      2\u001b[0m                \u001b[0mn_calls\u001b[0m\u001b[0;34m=\u001b[0m\u001b[0mn_calls\u001b[0m\u001b[0;34m,\u001b[0m\u001b[0;34m\u001b[0m\u001b[0;34m\u001b[0m\u001b[0m\n\u001b[1;32m      3\u001b[0m                \u001b[0mn_random_starts\u001b[0m\u001b[0;34m=\u001b[0m\u001b[0mn_random_starts\u001b[0m\u001b[0;34m,\u001b[0m\u001b[0;34m\u001b[0m\u001b[0;34m\u001b[0m\u001b[0m\n\u001b[0;32m----> 4\u001b[0;31m                x0=[3, 256, 0.001, 40, 0, 512, True, 128])\n\u001b[0m",
      "\u001b[0;32m<ipython-input-54-ca0e79845f3d>\u001b[0m in \u001b[0;36moptimize\u001b[0;34m(dimensions, n_calls, n_random_starts, verbose, x0)\u001b[0m\n\u001b[1;32m     28\u001b[0m                       \u001b[0mn_calls\u001b[0m\u001b[0;34m=\u001b[0m\u001b[0mn_calls\u001b[0m\u001b[0;34m,\u001b[0m\u001b[0;34m\u001b[0m\u001b[0;34m\u001b[0m\u001b[0m\n\u001b[1;32m     29\u001b[0m                       \u001b[0mn_random_starts\u001b[0m\u001b[0;34m=\u001b[0m\u001b[0mn_random_starts\u001b[0m\u001b[0;34m,\u001b[0m\u001b[0;34m\u001b[0m\u001b[0;34m\u001b[0m\u001b[0m\n\u001b[0;32m---> 30\u001b[0;31m                       x0=x0)\n\u001b[0m\u001b[1;32m     31\u001b[0m     \u001b[0mprint\u001b[0m\u001b[0;34m(\u001b[0m\u001b[0;34mf'best accuracy={-1.0 * res.fun} with {res.x}'\u001b[0m\u001b[0;34m)\u001b[0m\u001b[0;34m\u001b[0m\u001b[0;34m\u001b[0m\u001b[0m\n\u001b[1;32m     32\u001b[0m     \u001b[0;32mreturn\u001b[0m \u001b[0mres\u001b[0m\u001b[0;34m\u001b[0m\u001b[0;34m\u001b[0m\u001b[0m\n",
      "\u001b[0;32m/opt/conda/lib/python3.7/site-packages/skopt/optimizer/gp.py\u001b[0m in \u001b[0;36mgp_minimize\u001b[0;34m(func, dimensions, base_estimator, n_calls, n_random_starts, acq_func, acq_optimizer, x0, y0, random_state, verbose, callback, n_points, n_restarts_optimizer, xi, kappa, noise, n_jobs, model_queue_size)\u001b[0m\n\u001b[1;32m    269\u001b[0m         \u001b[0mn_restarts_optimizer\u001b[0m\u001b[0;34m=\u001b[0m\u001b[0mn_restarts_optimizer\u001b[0m\u001b[0;34m,\u001b[0m\u001b[0;34m\u001b[0m\u001b[0;34m\u001b[0m\u001b[0m\n\u001b[1;32m    270\u001b[0m         \u001b[0mx0\u001b[0m\u001b[0;34m=\u001b[0m\u001b[0mx0\u001b[0m\u001b[0;34m,\u001b[0m \u001b[0my0\u001b[0m\u001b[0;34m=\u001b[0m\u001b[0my0\u001b[0m\u001b[0;34m,\u001b[0m \u001b[0mrandom_state\u001b[0m\u001b[0;34m=\u001b[0m\u001b[0mrng\u001b[0m\u001b[0;34m,\u001b[0m \u001b[0mverbose\u001b[0m\u001b[0;34m=\u001b[0m\u001b[0mverbose\u001b[0m\u001b[0;34m,\u001b[0m\u001b[0;34m\u001b[0m\u001b[0;34m\u001b[0m\u001b[0m\n\u001b[0;32m--> 271\u001b[0;31m         callback=callback, n_jobs=n_jobs, model_queue_size=model_queue_size)\n\u001b[0m",
      "\u001b[0;32m/opt/conda/lib/python3.7/site-packages/skopt/optimizer/base.py\u001b[0m in \u001b[0;36mbase_minimize\u001b[0;34m(func, dimensions, base_estimator, n_calls, n_random_starts, acq_func, acq_optimizer, x0, y0, random_state, verbose, callback, n_points, n_restarts_optimizer, xi, kappa, n_jobs, model_queue_size)\u001b[0m\n\u001b[1;32m    271\u001b[0m         \u001b[0mnext_x\u001b[0m \u001b[0;34m=\u001b[0m \u001b[0moptimizer\u001b[0m\u001b[0;34m.\u001b[0m\u001b[0mask\u001b[0m\u001b[0;34m(\u001b[0m\u001b[0;34m)\u001b[0m\u001b[0;34m\u001b[0m\u001b[0;34m\u001b[0m\u001b[0m\n\u001b[1;32m    272\u001b[0m         \u001b[0mnext_y\u001b[0m \u001b[0;34m=\u001b[0m \u001b[0mfunc\u001b[0m\u001b[0;34m(\u001b[0m\u001b[0mnext_x\u001b[0m\u001b[0;34m)\u001b[0m\u001b[0;34m\u001b[0m\u001b[0;34m\u001b[0m\u001b[0m\n\u001b[0;32m--> 273\u001b[0;31m         \u001b[0mresult\u001b[0m \u001b[0;34m=\u001b[0m \u001b[0moptimizer\u001b[0m\u001b[0;34m.\u001b[0m\u001b[0mtell\u001b[0m\u001b[0;34m(\u001b[0m\u001b[0mnext_x\u001b[0m\u001b[0;34m,\u001b[0m \u001b[0mnext_y\u001b[0m\u001b[0;34m)\u001b[0m\u001b[0;34m\u001b[0m\u001b[0;34m\u001b[0m\u001b[0m\n\u001b[0m\u001b[1;32m    274\u001b[0m         \u001b[0mresult\u001b[0m\u001b[0;34m.\u001b[0m\u001b[0mspecs\u001b[0m \u001b[0;34m=\u001b[0m \u001b[0mspecs\u001b[0m\u001b[0;34m\u001b[0m\u001b[0;34m\u001b[0m\u001b[0m\n\u001b[1;32m    275\u001b[0m         \u001b[0;32mif\u001b[0m \u001b[0meval_callbacks\u001b[0m\u001b[0;34m(\u001b[0m\u001b[0mcallbacks\u001b[0m\u001b[0;34m,\u001b[0m \u001b[0mresult\u001b[0m\u001b[0;34m)\u001b[0m\u001b[0;34m:\u001b[0m\u001b[0;34m\u001b[0m\u001b[0;34m\u001b[0m\u001b[0m\n",
      "\u001b[0;32m/opt/conda/lib/python3.7/site-packages/skopt/optimizer/optimizer.py\u001b[0m in \u001b[0;36mtell\u001b[0;34m(self, x, y, fit)\u001b[0m\n\u001b[1;32m    451\u001b[0m                 \u001b[0my\u001b[0m\u001b[0;34m[\u001b[0m\u001b[0;36m1\u001b[0m\u001b[0;34m]\u001b[0m \u001b[0;34m=\u001b[0m \u001b[0mlog\u001b[0m\u001b[0;34m(\u001b[0m\u001b[0my\u001b[0m\u001b[0;34m[\u001b[0m\u001b[0;36m1\u001b[0m\u001b[0;34m]\u001b[0m\u001b[0;34m)\u001b[0m\u001b[0;34m\u001b[0m\u001b[0;34m\u001b[0m\u001b[0m\n\u001b[1;32m    452\u001b[0m \u001b[0;34m\u001b[0m\u001b[0m\n\u001b[0;32m--> 453\u001b[0;31m         \u001b[0;32mreturn\u001b[0m \u001b[0mself\u001b[0m\u001b[0;34m.\u001b[0m\u001b[0m_tell\u001b[0m\u001b[0;34m(\u001b[0m\u001b[0mx\u001b[0m\u001b[0;34m,\u001b[0m \u001b[0my\u001b[0m\u001b[0;34m,\u001b[0m \u001b[0mfit\u001b[0m\u001b[0;34m=\u001b[0m\u001b[0mfit\u001b[0m\u001b[0;34m)\u001b[0m\u001b[0;34m\u001b[0m\u001b[0;34m\u001b[0m\u001b[0m\n\u001b[0m\u001b[1;32m    454\u001b[0m \u001b[0;34m\u001b[0m\u001b[0m\n\u001b[1;32m    455\u001b[0m     \u001b[0;32mdef\u001b[0m \u001b[0m_tell\u001b[0m\u001b[0;34m(\u001b[0m\u001b[0mself\u001b[0m\u001b[0;34m,\u001b[0m \u001b[0mx\u001b[0m\u001b[0;34m,\u001b[0m \u001b[0my\u001b[0m\u001b[0;34m,\u001b[0m \u001b[0mfit\u001b[0m\u001b[0;34m=\u001b[0m\u001b[0;32mTrue\u001b[0m\u001b[0;34m)\u001b[0m\u001b[0;34m:\u001b[0m\u001b[0;34m\u001b[0m\u001b[0;34m\u001b[0m\u001b[0m\n",
      "\u001b[0;32m/opt/conda/lib/python3.7/site-packages/skopt/optimizer/optimizer.py\u001b[0m in \u001b[0;36m_tell\u001b[0;34m(self, x, y, fit)\u001b[0m\n\u001b[1;32m    494\u001b[0m             \u001b[0;32mwith\u001b[0m \u001b[0mwarnings\u001b[0m\u001b[0;34m.\u001b[0m\u001b[0mcatch_warnings\u001b[0m\u001b[0;34m(\u001b[0m\u001b[0;34m)\u001b[0m\u001b[0;34m:\u001b[0m\u001b[0;34m\u001b[0m\u001b[0;34m\u001b[0m\u001b[0m\n\u001b[1;32m    495\u001b[0m                 \u001b[0mwarnings\u001b[0m\u001b[0;34m.\u001b[0m\u001b[0msimplefilter\u001b[0m\u001b[0;34m(\u001b[0m\u001b[0;34m\"ignore\"\u001b[0m\u001b[0;34m)\u001b[0m\u001b[0;34m\u001b[0m\u001b[0;34m\u001b[0m\u001b[0m\n\u001b[0;32m--> 496\u001b[0;31m                 \u001b[0mest\u001b[0m\u001b[0;34m.\u001b[0m\u001b[0mfit\u001b[0m\u001b[0;34m(\u001b[0m\u001b[0mself\u001b[0m\u001b[0;34m.\u001b[0m\u001b[0mspace\u001b[0m\u001b[0;34m.\u001b[0m\u001b[0mtransform\u001b[0m\u001b[0;34m(\u001b[0m\u001b[0mself\u001b[0m\u001b[0;34m.\u001b[0m\u001b[0mXi\u001b[0m\u001b[0;34m)\u001b[0m\u001b[0;34m,\u001b[0m \u001b[0mself\u001b[0m\u001b[0;34m.\u001b[0m\u001b[0myi\u001b[0m\u001b[0;34m)\u001b[0m\u001b[0;34m\u001b[0m\u001b[0;34m\u001b[0m\u001b[0m\n\u001b[0m\u001b[1;32m    497\u001b[0m \u001b[0;34m\u001b[0m\u001b[0m\n\u001b[1;32m    498\u001b[0m             \u001b[0;32mif\u001b[0m \u001b[0mhasattr\u001b[0m\u001b[0;34m(\u001b[0m\u001b[0mself\u001b[0m\u001b[0;34m,\u001b[0m \u001b[0;34m\"next_xs_\"\u001b[0m\u001b[0;34m)\u001b[0m \u001b[0;32mand\u001b[0m \u001b[0mself\u001b[0m\u001b[0;34m.\u001b[0m\u001b[0macq_func\u001b[0m \u001b[0;34m==\u001b[0m \u001b[0;34m\"gp_hedge\"\u001b[0m\u001b[0;34m:\u001b[0m\u001b[0;34m\u001b[0m\u001b[0;34m\u001b[0m\u001b[0m\n",
      "\u001b[0;32m/opt/conda/lib/python3.7/site-packages/skopt/learning/gaussian_process/gpr.py\u001b[0m in \u001b[0;36mfit\u001b[0;34m(self, X, y)\u001b[0m\n\u001b[1;32m    193\u001b[0m                 \u001b[0mnoise_level\u001b[0m\u001b[0;34m=\u001b[0m\u001b[0mself\u001b[0m\u001b[0;34m.\u001b[0m\u001b[0mnoise\u001b[0m\u001b[0;34m,\u001b[0m \u001b[0mnoise_level_bounds\u001b[0m\u001b[0;34m=\u001b[0m\u001b[0;34m\"fixed\"\u001b[0m\u001b[0;34m\u001b[0m\u001b[0;34m\u001b[0m\u001b[0m\n\u001b[1;32m    194\u001b[0m             )\n\u001b[0;32m--> 195\u001b[0;31m         \u001b[0msuper\u001b[0m\u001b[0;34m(\u001b[0m\u001b[0mGaussianProcessRegressor\u001b[0m\u001b[0;34m,\u001b[0m \u001b[0mself\u001b[0m\u001b[0;34m)\u001b[0m\u001b[0;34m.\u001b[0m\u001b[0mfit\u001b[0m\u001b[0;34m(\u001b[0m\u001b[0mX\u001b[0m\u001b[0;34m,\u001b[0m \u001b[0my\u001b[0m\u001b[0;34m)\u001b[0m\u001b[0;34m\u001b[0m\u001b[0;34m\u001b[0m\u001b[0m\n\u001b[0m\u001b[1;32m    196\u001b[0m \u001b[0;34m\u001b[0m\u001b[0m\n\u001b[1;32m    197\u001b[0m         \u001b[0mself\u001b[0m\u001b[0;34m.\u001b[0m\u001b[0mnoise_\u001b[0m \u001b[0;34m=\u001b[0m \u001b[0;32mNone\u001b[0m\u001b[0;34m\u001b[0m\u001b[0;34m\u001b[0m\u001b[0m\n",
      "\u001b[0;32m/opt/conda/lib/python3.7/site-packages/sklearn/gaussian_process/_gpr.py\u001b[0m in \u001b[0;36mfit\u001b[0;34m(self, X, y)\u001b[0m\n\u001b[1;32m    232\u001b[0m             optima = [(self._constrained_optimization(obj_func,\n\u001b[1;32m    233\u001b[0m                                                       \u001b[0mself\u001b[0m\u001b[0;34m.\u001b[0m\u001b[0mkernel_\u001b[0m\u001b[0;34m.\u001b[0m\u001b[0mtheta\u001b[0m\u001b[0;34m,\u001b[0m\u001b[0;34m\u001b[0m\u001b[0;34m\u001b[0m\u001b[0m\n\u001b[0;32m--> 234\u001b[0;31m                                                       self.kernel_.bounds))]\n\u001b[0m\u001b[1;32m    235\u001b[0m \u001b[0;34m\u001b[0m\u001b[0m\n\u001b[1;32m    236\u001b[0m             \u001b[0;31m# Additional runs are performed from log-uniform chosen initial\u001b[0m\u001b[0;34m\u001b[0m\u001b[0;34m\u001b[0m\u001b[0;34m\u001b[0m\u001b[0m\n",
      "\u001b[0;32m/opt/conda/lib/python3.7/site-packages/sklearn/gaussian_process/_gpr.py\u001b[0m in \u001b[0;36m_constrained_optimization\u001b[0;34m(self, obj_func, initial_theta, bounds)\u001b[0m\n\u001b[1;32m    501\u001b[0m             opt_res = scipy.optimize.minimize(\n\u001b[1;32m    502\u001b[0m                 \u001b[0mobj_func\u001b[0m\u001b[0;34m,\u001b[0m \u001b[0minitial_theta\u001b[0m\u001b[0;34m,\u001b[0m \u001b[0mmethod\u001b[0m\u001b[0;34m=\u001b[0m\u001b[0;34m\"L-BFGS-B\"\u001b[0m\u001b[0;34m,\u001b[0m \u001b[0mjac\u001b[0m\u001b[0;34m=\u001b[0m\u001b[0;32mTrue\u001b[0m\u001b[0;34m,\u001b[0m\u001b[0;34m\u001b[0m\u001b[0;34m\u001b[0m\u001b[0m\n\u001b[0;32m--> 503\u001b[0;31m                 bounds=bounds)\n\u001b[0m\u001b[1;32m    504\u001b[0m             \u001b[0m_check_optimize_result\u001b[0m\u001b[0;34m(\u001b[0m\u001b[0;34m\"lbfgs\"\u001b[0m\u001b[0;34m,\u001b[0m \u001b[0mopt_res\u001b[0m\u001b[0;34m)\u001b[0m\u001b[0;34m\u001b[0m\u001b[0;34m\u001b[0m\u001b[0m\n\u001b[1;32m    505\u001b[0m             \u001b[0mtheta_opt\u001b[0m\u001b[0;34m,\u001b[0m \u001b[0mfunc_min\u001b[0m \u001b[0;34m=\u001b[0m \u001b[0mopt_res\u001b[0m\u001b[0;34m.\u001b[0m\u001b[0mx\u001b[0m\u001b[0;34m,\u001b[0m \u001b[0mopt_res\u001b[0m\u001b[0;34m.\u001b[0m\u001b[0mfun\u001b[0m\u001b[0;34m\u001b[0m\u001b[0;34m\u001b[0m\u001b[0m\n",
      "\u001b[0;32m/opt/conda/lib/python3.7/site-packages/scipy/optimize/_minimize.py\u001b[0m in \u001b[0;36mminimize\u001b[0;34m(fun, x0, args, method, jac, hess, hessp, bounds, constraints, tol, callback, options)\u001b[0m\n\u001b[1;32m    608\u001b[0m     \u001b[0;32melif\u001b[0m \u001b[0mmeth\u001b[0m \u001b[0;34m==\u001b[0m \u001b[0;34m'l-bfgs-b'\u001b[0m\u001b[0;34m:\u001b[0m\u001b[0;34m\u001b[0m\u001b[0;34m\u001b[0m\u001b[0m\n\u001b[1;32m    609\u001b[0m         return _minimize_lbfgsb(fun, x0, args, jac, bounds,\n\u001b[0;32m--> 610\u001b[0;31m                                 callback=callback, **options)\n\u001b[0m\u001b[1;32m    611\u001b[0m     \u001b[0;32melif\u001b[0m \u001b[0mmeth\u001b[0m \u001b[0;34m==\u001b[0m \u001b[0;34m'tnc'\u001b[0m\u001b[0;34m:\u001b[0m\u001b[0;34m\u001b[0m\u001b[0;34m\u001b[0m\u001b[0m\n\u001b[1;32m    612\u001b[0m         return _minimize_tnc(fun, x0, args, jac, bounds, callback=callback,\n",
      "\u001b[0;32m/opt/conda/lib/python3.7/site-packages/scipy/optimize/lbfgsb.py\u001b[0m in \u001b[0;36m_minimize_lbfgsb\u001b[0;34m(fun, x0, args, jac, bounds, disp, maxcor, ftol, gtol, eps, maxfun, maxiter, iprint, callback, maxls, **unknown_options)\u001b[0m\n\u001b[1;32m    343\u001b[0m             \u001b[0;31m# until the completion of the current minimization iteration.\u001b[0m\u001b[0;34m\u001b[0m\u001b[0;34m\u001b[0m\u001b[0;34m\u001b[0m\u001b[0m\n\u001b[1;32m    344\u001b[0m             \u001b[0;31m# Overwrite f and g:\u001b[0m\u001b[0;34m\u001b[0m\u001b[0;34m\u001b[0m\u001b[0;34m\u001b[0m\u001b[0m\n\u001b[0;32m--> 345\u001b[0;31m             \u001b[0mf\u001b[0m\u001b[0;34m,\u001b[0m \u001b[0mg\u001b[0m \u001b[0;34m=\u001b[0m \u001b[0mfunc_and_grad\u001b[0m\u001b[0;34m(\u001b[0m\u001b[0mx\u001b[0m\u001b[0;34m)\u001b[0m\u001b[0;34m\u001b[0m\u001b[0;34m\u001b[0m\u001b[0m\n\u001b[0m\u001b[1;32m    346\u001b[0m         \u001b[0;32melif\u001b[0m \u001b[0mtask_str\u001b[0m\u001b[0;34m.\u001b[0m\u001b[0mstartswith\u001b[0m\u001b[0;34m(\u001b[0m\u001b[0;34mb'NEW_X'\u001b[0m\u001b[0;34m)\u001b[0m\u001b[0;34m:\u001b[0m\u001b[0;34m\u001b[0m\u001b[0;34m\u001b[0m\u001b[0m\n\u001b[1;32m    347\u001b[0m             \u001b[0;31m# new iteration\u001b[0m\u001b[0;34m\u001b[0m\u001b[0;34m\u001b[0m\u001b[0;34m\u001b[0m\u001b[0m\n",
      "\u001b[0;32m/opt/conda/lib/python3.7/site-packages/scipy/optimize/lbfgsb.py\u001b[0m in \u001b[0;36mfunc_and_grad\u001b[0;34m(x)\u001b[0m\n\u001b[1;32m    293\u001b[0m     \u001b[0;32melse\u001b[0m\u001b[0;34m:\u001b[0m\u001b[0;34m\u001b[0m\u001b[0;34m\u001b[0m\u001b[0m\n\u001b[1;32m    294\u001b[0m         \u001b[0;32mdef\u001b[0m \u001b[0mfunc_and_grad\u001b[0m\u001b[0;34m(\u001b[0m\u001b[0mx\u001b[0m\u001b[0;34m)\u001b[0m\u001b[0;34m:\u001b[0m\u001b[0;34m\u001b[0m\u001b[0;34m\u001b[0m\u001b[0m\n\u001b[0;32m--> 295\u001b[0;31m             \u001b[0mf\u001b[0m \u001b[0;34m=\u001b[0m \u001b[0mfun\u001b[0m\u001b[0;34m(\u001b[0m\u001b[0mx\u001b[0m\u001b[0;34m,\u001b[0m \u001b[0;34m*\u001b[0m\u001b[0margs\u001b[0m\u001b[0;34m)\u001b[0m\u001b[0;34m\u001b[0m\u001b[0;34m\u001b[0m\u001b[0m\n\u001b[0m\u001b[1;32m    296\u001b[0m             \u001b[0mg\u001b[0m \u001b[0;34m=\u001b[0m \u001b[0mjac\u001b[0m\u001b[0;34m(\u001b[0m\u001b[0mx\u001b[0m\u001b[0;34m,\u001b[0m \u001b[0;34m*\u001b[0m\u001b[0margs\u001b[0m\u001b[0;34m)\u001b[0m\u001b[0;34m\u001b[0m\u001b[0;34m\u001b[0m\u001b[0m\n\u001b[1;32m    297\u001b[0m             \u001b[0;32mreturn\u001b[0m \u001b[0mf\u001b[0m\u001b[0;34m,\u001b[0m \u001b[0mg\u001b[0m\u001b[0;34m\u001b[0m\u001b[0;34m\u001b[0m\u001b[0m\n",
      "\u001b[0;32m/opt/conda/lib/python3.7/site-packages/scipy/optimize/optimize.py\u001b[0m in \u001b[0;36mfunction_wrapper\u001b[0;34m(*wrapper_args)\u001b[0m\n\u001b[1;32m    325\u001b[0m     \u001b[0;32mdef\u001b[0m \u001b[0mfunction_wrapper\u001b[0m\u001b[0;34m(\u001b[0m\u001b[0;34m*\u001b[0m\u001b[0mwrapper_args\u001b[0m\u001b[0;34m)\u001b[0m\u001b[0;34m:\u001b[0m\u001b[0;34m\u001b[0m\u001b[0;34m\u001b[0m\u001b[0m\n\u001b[1;32m    326\u001b[0m         \u001b[0mncalls\u001b[0m\u001b[0;34m[\u001b[0m\u001b[0;36m0\u001b[0m\u001b[0;34m]\u001b[0m \u001b[0;34m+=\u001b[0m \u001b[0;36m1\u001b[0m\u001b[0;34m\u001b[0m\u001b[0;34m\u001b[0m\u001b[0m\n\u001b[0;32m--> 327\u001b[0;31m         \u001b[0;32mreturn\u001b[0m \u001b[0mfunction\u001b[0m\u001b[0;34m(\u001b[0m\u001b[0;34m*\u001b[0m\u001b[0;34m(\u001b[0m\u001b[0mwrapper_args\u001b[0m \u001b[0;34m+\u001b[0m \u001b[0margs\u001b[0m\u001b[0;34m)\u001b[0m\u001b[0;34m)\u001b[0m\u001b[0;34m\u001b[0m\u001b[0;34m\u001b[0m\u001b[0m\n\u001b[0m\u001b[1;32m    328\u001b[0m \u001b[0;34m\u001b[0m\u001b[0m\n\u001b[1;32m    329\u001b[0m     \u001b[0;32mreturn\u001b[0m \u001b[0mncalls\u001b[0m\u001b[0;34m,\u001b[0m \u001b[0mfunction_wrapper\u001b[0m\u001b[0;34m\u001b[0m\u001b[0;34m\u001b[0m\u001b[0m\n",
      "\u001b[0;32m/opt/conda/lib/python3.7/site-packages/scipy/optimize/optimize.py\u001b[0m in \u001b[0;36m__call__\u001b[0;34m(self, x, *args)\u001b[0m\n\u001b[1;32m     63\u001b[0m     \u001b[0;32mdef\u001b[0m \u001b[0m__call__\u001b[0m\u001b[0;34m(\u001b[0m\u001b[0mself\u001b[0m\u001b[0;34m,\u001b[0m \u001b[0mx\u001b[0m\u001b[0;34m,\u001b[0m \u001b[0;34m*\u001b[0m\u001b[0margs\u001b[0m\u001b[0;34m)\u001b[0m\u001b[0;34m:\u001b[0m\u001b[0;34m\u001b[0m\u001b[0;34m\u001b[0m\u001b[0m\n\u001b[1;32m     64\u001b[0m         \u001b[0mself\u001b[0m\u001b[0;34m.\u001b[0m\u001b[0mx\u001b[0m \u001b[0;34m=\u001b[0m \u001b[0mnumpy\u001b[0m\u001b[0;34m.\u001b[0m\u001b[0masarray\u001b[0m\u001b[0;34m(\u001b[0m\u001b[0mx\u001b[0m\u001b[0;34m)\u001b[0m\u001b[0;34m.\u001b[0m\u001b[0mcopy\u001b[0m\u001b[0;34m(\u001b[0m\u001b[0;34m)\u001b[0m\u001b[0;34m\u001b[0m\u001b[0;34m\u001b[0m\u001b[0m\n\u001b[0;32m---> 65\u001b[0;31m         \u001b[0mfg\u001b[0m \u001b[0;34m=\u001b[0m \u001b[0mself\u001b[0m\u001b[0;34m.\u001b[0m\u001b[0mfun\u001b[0m\u001b[0;34m(\u001b[0m\u001b[0mx\u001b[0m\u001b[0;34m,\u001b[0m \u001b[0;34m*\u001b[0m\u001b[0margs\u001b[0m\u001b[0;34m)\u001b[0m\u001b[0;34m\u001b[0m\u001b[0;34m\u001b[0m\u001b[0m\n\u001b[0m\u001b[1;32m     66\u001b[0m         \u001b[0mself\u001b[0m\u001b[0;34m.\u001b[0m\u001b[0mjac\u001b[0m \u001b[0;34m=\u001b[0m \u001b[0mfg\u001b[0m\u001b[0;34m[\u001b[0m\u001b[0;36m1\u001b[0m\u001b[0;34m]\u001b[0m\u001b[0;34m\u001b[0m\u001b[0;34m\u001b[0m\u001b[0m\n\u001b[1;32m     67\u001b[0m         \u001b[0;32mreturn\u001b[0m \u001b[0mfg\u001b[0m\u001b[0;34m[\u001b[0m\u001b[0;36m0\u001b[0m\u001b[0;34m]\u001b[0m\u001b[0;34m\u001b[0m\u001b[0;34m\u001b[0m\u001b[0m\n",
      "\u001b[0;32m/opt/conda/lib/python3.7/site-packages/sklearn/gaussian_process/_gpr.py\u001b[0m in \u001b[0;36mobj_func\u001b[0;34m(theta, eval_gradient)\u001b[0m\n\u001b[1;32m    223\u001b[0m                 \u001b[0;32mif\u001b[0m \u001b[0meval_gradient\u001b[0m\u001b[0;34m:\u001b[0m\u001b[0;34m\u001b[0m\u001b[0;34m\u001b[0m\u001b[0m\n\u001b[1;32m    224\u001b[0m                     lml, grad = self.log_marginal_likelihood(\n\u001b[0;32m--> 225\u001b[0;31m                         theta, eval_gradient=True, clone_kernel=False)\n\u001b[0m\u001b[1;32m    226\u001b[0m                     \u001b[0;32mreturn\u001b[0m \u001b[0;34m-\u001b[0m\u001b[0mlml\u001b[0m\u001b[0;34m,\u001b[0m \u001b[0;34m-\u001b[0m\u001b[0mgrad\u001b[0m\u001b[0;34m\u001b[0m\u001b[0;34m\u001b[0m\u001b[0m\n\u001b[1;32m    227\u001b[0m                 \u001b[0;32melse\u001b[0m\u001b[0;34m:\u001b[0m\u001b[0;34m\u001b[0m\u001b[0;34m\u001b[0m\u001b[0m\n",
      "\u001b[0;32m/opt/conda/lib/python3.7/site-packages/sklearn/gaussian_process/_gpr.py\u001b[0m in \u001b[0;36mlog_marginal_likelihood\u001b[0;34m(self, theta, eval_gradient, clone_kernel)\u001b[0m\n\u001b[1;32m    474\u001b[0m             \u001b[0my_train\u001b[0m \u001b[0;34m=\u001b[0m \u001b[0my_train\u001b[0m\u001b[0;34m[\u001b[0m\u001b[0;34m:\u001b[0m\u001b[0;34m,\u001b[0m \u001b[0mnp\u001b[0m\u001b[0;34m.\u001b[0m\u001b[0mnewaxis\u001b[0m\u001b[0;34m]\u001b[0m\u001b[0;34m\u001b[0m\u001b[0;34m\u001b[0m\u001b[0m\n\u001b[1;32m    475\u001b[0m \u001b[0;34m\u001b[0m\u001b[0m\n\u001b[0;32m--> 476\u001b[0;31m         \u001b[0malpha\u001b[0m \u001b[0;34m=\u001b[0m \u001b[0mcho_solve\u001b[0m\u001b[0;34m(\u001b[0m\u001b[0;34m(\u001b[0m\u001b[0mL\u001b[0m\u001b[0;34m,\u001b[0m \u001b[0;32mTrue\u001b[0m\u001b[0;34m)\u001b[0m\u001b[0;34m,\u001b[0m \u001b[0my_train\u001b[0m\u001b[0;34m)\u001b[0m  \u001b[0;31m# Line 3\u001b[0m\u001b[0;34m\u001b[0m\u001b[0;34m\u001b[0m\u001b[0m\n\u001b[0m\u001b[1;32m    477\u001b[0m \u001b[0;34m\u001b[0m\u001b[0m\n\u001b[1;32m    478\u001b[0m         \u001b[0;31m# Compute log-likelihood (compare line 7)\u001b[0m\u001b[0;34m\u001b[0m\u001b[0;34m\u001b[0m\u001b[0;34m\u001b[0m\u001b[0m\n",
      "\u001b[0;32m/opt/conda/lib/python3.7/site-packages/scipy/linalg/decomp_cholesky.py\u001b[0m in \u001b[0;36mcho_solve\u001b[0;34m(c_and_lower, b, overwrite_b, check_finite)\u001b[0m\n\u001b[1;32m    194\u001b[0m     \u001b[0;34m(\u001b[0m\u001b[0mc\u001b[0m\u001b[0;34m,\u001b[0m \u001b[0mlower\u001b[0m\u001b[0;34m)\u001b[0m \u001b[0;34m=\u001b[0m \u001b[0mc_and_lower\u001b[0m\u001b[0;34m\u001b[0m\u001b[0;34m\u001b[0m\u001b[0m\n\u001b[1;32m    195\u001b[0m     \u001b[0;32mif\u001b[0m \u001b[0mcheck_finite\u001b[0m\u001b[0;34m:\u001b[0m\u001b[0;34m\u001b[0m\u001b[0;34m\u001b[0m\u001b[0m\n\u001b[0;32m--> 196\u001b[0;31m         \u001b[0mb1\u001b[0m \u001b[0;34m=\u001b[0m \u001b[0masarray_chkfinite\u001b[0m\u001b[0;34m(\u001b[0m\u001b[0mb\u001b[0m\u001b[0;34m)\u001b[0m\u001b[0;34m\u001b[0m\u001b[0;34m\u001b[0m\u001b[0m\n\u001b[0m\u001b[1;32m    197\u001b[0m         \u001b[0mc\u001b[0m \u001b[0;34m=\u001b[0m \u001b[0masarray_chkfinite\u001b[0m\u001b[0;34m(\u001b[0m\u001b[0mc\u001b[0m\u001b[0;34m)\u001b[0m\u001b[0;34m\u001b[0m\u001b[0;34m\u001b[0m\u001b[0m\n\u001b[1;32m    198\u001b[0m     \u001b[0;32melse\u001b[0m\u001b[0;34m:\u001b[0m\u001b[0;34m\u001b[0m\u001b[0;34m\u001b[0m\u001b[0m\n",
      "\u001b[0;32m/opt/conda/lib/python3.7/site-packages/numpy/lib/function_base.py\u001b[0m in \u001b[0;36masarray_chkfinite\u001b[0;34m(a, dtype, order)\u001b[0m\n\u001b[1;32m    497\u001b[0m     \u001b[0;32mif\u001b[0m \u001b[0ma\u001b[0m\u001b[0;34m.\u001b[0m\u001b[0mdtype\u001b[0m\u001b[0;34m.\u001b[0m\u001b[0mchar\u001b[0m \u001b[0;32min\u001b[0m \u001b[0mtypecodes\u001b[0m\u001b[0;34m[\u001b[0m\u001b[0;34m'AllFloat'\u001b[0m\u001b[0;34m]\u001b[0m \u001b[0;32mand\u001b[0m \u001b[0;32mnot\u001b[0m \u001b[0mnp\u001b[0m\u001b[0;34m.\u001b[0m\u001b[0misfinite\u001b[0m\u001b[0;34m(\u001b[0m\u001b[0ma\u001b[0m\u001b[0;34m)\u001b[0m\u001b[0;34m.\u001b[0m\u001b[0mall\u001b[0m\u001b[0;34m(\u001b[0m\u001b[0;34m)\u001b[0m\u001b[0;34m:\u001b[0m\u001b[0;34m\u001b[0m\u001b[0;34m\u001b[0m\u001b[0m\n\u001b[1;32m    498\u001b[0m         raise ValueError(\n\u001b[0;32m--> 499\u001b[0;31m             \"array must not contain infs or NaNs\")\n\u001b[0m\u001b[1;32m    500\u001b[0m     \u001b[0;32mreturn\u001b[0m \u001b[0ma\u001b[0m\u001b[0;34m\u001b[0m\u001b[0;34m\u001b[0m\u001b[0m\n\u001b[1;32m    501\u001b[0m \u001b[0;34m\u001b[0m\u001b[0m\n",
      "\u001b[0;31mValueError\u001b[0m: array must not contain infs or NaNs"
     ]
    }
   ],
   "source": [
    "res = optimize(dimensions=dimensions,\n",
    "               n_calls=n_calls,\n",
    "               n_random_starts=n_random_starts,\n",
    "               x0=[3, 256, 0.001, 40, 0, 512, True, 128])"
   ]
  },
  {
   "cell_type": "code",
   "execution_count": 56,
   "metadata": {
    "execution": {
     "iopub.execute_input": "2020-09-12T01:56:34.596359Z",
     "iopub.status.busy": "2020-09-12T01:56:34.591702Z",
     "iopub.status.idle": "2020-09-12T01:56:34.610630Z",
     "shell.execute_reply": "2020-09-12T01:56:34.610005Z"
    },
    "papermill": {
     "duration": 0.451546,
     "end_time": "2020-09-12T01:56:34.610740",
     "exception": false,
     "start_time": "2020-09-12T01:56:34.159194",
     "status": "completed"
    },
    "tags": []
   },
   "outputs": [
    {
     "ename": "NameError",
     "evalue": "name 'res' is not defined",
     "output_type": "error",
     "traceback": [
      "\u001b[0;31m---------------------------------------------------------------------------\u001b[0m",
      "\u001b[0;31mNameError\u001b[0m                                 Traceback (most recent call last)",
      "\u001b[0;32m<ipython-input-56-c08785e04264>\u001b[0m in \u001b[0;36m<module>\u001b[0;34m\u001b[0m\n\u001b[0;32m----> 1\u001b[0;31m \u001b[0mres\u001b[0m\u001b[0;34m\u001b[0m\u001b[0;34m\u001b[0m\u001b[0m\n\u001b[0m",
      "\u001b[0;31mNameError\u001b[0m: name 'res' is not defined"
     ]
    }
   ],
   "source": [
    "res"
   ]
  },
  {
   "cell_type": "code",
   "execution_count": 57,
   "metadata": {
    "execution": {
     "iopub.execute_input": "2020-09-12T01:56:35.428258Z",
     "iopub.status.busy": "2020-09-12T01:56:35.427420Z",
     "iopub.status.idle": "2020-09-12T01:56:35.431114Z",
     "shell.execute_reply": "2020-09-12T01:56:35.431648Z"
    },
    "papermill": {
     "duration": 0.416537,
     "end_time": "2020-09-12T01:56:35.431787",
     "exception": false,
     "start_time": "2020-09-12T01:56:35.015250",
     "status": "completed"
    },
    "tags": []
   },
   "outputs": [
    {
     "data": {
      "text/plain": [
       "array([[[235757],\n",
       "        [268658],\n",
       "        [327568],\n",
       "        ...,\n",
       "        [197456],\n",
       "        [250762],\n",
       "        [ 26561]],\n",
       "\n",
       "       [[168767],\n",
       "        [253685],\n",
       "        [243224],\n",
       "        ...,\n",
       "        [184101],\n",
       "        [228132],\n",
       "        [ 12224]],\n",
       "\n",
       "       [[ 41207],\n",
       "        [195673],\n",
       "        [115620],\n",
       "        ...,\n",
       "        [115298],\n",
       "        [227303],\n",
       "        [  2630]],\n",
       "\n",
       "       ...,\n",
       "\n",
       "       [[     0],\n",
       "        [     0],\n",
       "        [ 47647],\n",
       "        ...,\n",
       "        [322174],\n",
       "        [ 59225],\n",
       "        [321414]],\n",
       "\n",
       "       [[264379],\n",
       "        [285427],\n",
       "        [169566],\n",
       "        ...,\n",
       "        [151220],\n",
       "        [ 93843],\n",
       "        [144544]],\n",
       "\n",
       "       [[171520],\n",
       "        [255534],\n",
       "        [181980],\n",
       "        ...,\n",
       "        [257122],\n",
       "        [302710],\n",
       "        [ 99511]]])"
      ]
     },
     "execution_count": 57,
     "metadata": {},
     "output_type": "execute_result"
    }
   ],
   "source": [
    "y"
   ]
  },
  {
   "cell_type": "code",
   "execution_count": 58,
   "metadata": {
    "execution": {
     "iopub.execute_input": "2020-09-12T01:56:36.242805Z",
     "iopub.status.busy": "2020-09-12T01:56:36.241875Z",
     "iopub.status.idle": "2020-09-12T01:56:36.246594Z",
     "shell.execute_reply": "2020-09-12T01:56:36.245984Z"
    },
    "papermill": {
     "duration": 0.414301,
     "end_time": "2020-09-12T01:56:36.246727",
     "exception": false,
     "start_time": "2020-09-12T01:56:35.832426",
     "status": "completed"
    },
    "tags": []
   },
   "outputs": [
    {
     "data": {
      "text/plain": [
       "array([[278690, 235757, 268658, ..., 192618, 197456, 250762],\n",
       "       [128608, 168767, 253685, ..., 211446, 184101, 228132],\n",
       "       [176634,  41207, 195673, ...,  73602, 115298, 227303],\n",
       "       ...,\n",
       "       [     0,      0,      0, ..., 299624, 322174,  59225],\n",
       "       [ 12133, 264379, 285427, ...,  77638, 151220,  93843],\n",
       "       [  3972, 171520, 255534, ...,  67025, 257122, 302710]])"
      ]
     },
     "execution_count": 58,
     "metadata": {},
     "output_type": "execute_result"
    }
   ],
   "source": [
    "x"
   ]
  },
  {
   "cell_type": "code",
   "execution_count": null,
   "metadata": {
    "papermill": {
     "duration": 0.407759,
     "end_time": "2020-09-12T01:56:37.060470",
     "exception": false,
     "start_time": "2020-09-12T01:56:36.652711",
     "status": "completed"
    },
    "tags": []
   },
   "outputs": [],
   "source": []
  }
 ],
 "metadata": {
  "kernelspec": {
   "display_name": "Python 3",
   "language": "python",
   "name": "python3"
  },
  "language_info": {
   "codemirror_mode": {
    "name": "ipython",
    "version": 3
   },
   "file_extension": ".py",
   "mimetype": "text/x-python",
   "name": "python",
   "nbconvert_exporter": "python",
   "pygments_lexer": "ipython3",
   "version": "3.7.6"
  },
  "papermill": {
   "duration": 7759.219871,
   "end_time": "2020-09-12T01:56:37.572456",
   "environment_variables": {},
   "exception": null,
   "input_path": "__notebook__.ipynb",
   "output_path": "__notebook__.ipynb",
   "parameters": {},
   "start_time": "2020-09-11T23:47:18.352585",
   "version": "2.1.0"
  }
 },
 "nbformat": 4,
 "nbformat_minor": 4
}
