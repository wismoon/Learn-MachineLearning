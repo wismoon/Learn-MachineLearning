{
 "cells": [
  {
   "cell_type": "markdown",
   "id": "legitimate-independence",
   "metadata": {
    "_cell_guid": "b1076dfc-b9ad-4769-8c92-a6c4dae69d19",
    "_uuid": "8f2839f25d086af736a60e9eeb907d3b93b6e0e5",
    "papermill": {
     "duration": 0.031833,
     "end_time": "2021-07-13T21:05:30.143310",
     "exception": false,
     "start_time": "2021-07-13T21:05:30.111477",
     "status": "completed"
    },
    "tags": []
   },
   "source": [
    "<h1 style=\"font-family:times new roman;\"> <center>Content Based Book Recommender</center> </h1>\n",
    "\n",
    "<p><center style=\"color:#159364; font-family:times new roman; font-size:16px\">Simple book recommender system using Python. </center></p>\n",
    "\n",
    "***"
   ]
  },
  {
   "cell_type": "markdown",
   "id": "excited-shark",
   "metadata": {
    "papermill": {
     "duration": 0.029425,
     "end_time": "2021-07-13T21:05:30.202503",
     "exception": false,
     "start_time": "2021-07-13T21:05:30.173078",
     "status": "completed"
    },
    "tags": []
   },
   "source": [
    "<h2 style='font-family:times new roman'>Introduction</h2>"
   ]
  },
  {
   "cell_type": "markdown",
   "id": "sudden-layout",
   "metadata": {
    "papermill": {
     "duration": 0.029605,
     "end_time": "2021-07-13T21:05:30.261798",
     "exception": false,
     "start_time": "2021-07-13T21:05:30.232193",
     "status": "completed"
    },
    "tags": []
   },
   "source": [
    "<p style='font-size:16px;font-family:times new roman'>The ways in which we can access content is growing at a rapid pace. With all of the various streaming platforms available to us, it can be argued that what sets a streaming service over another is its ability to recommend content to viewers and keep them on their websites or apps longer. Content based recommenders suggest similar titles for viewers based on their history. Generally it makes sense to recommend a tv show or book to someone because it is similar to something they already like. Using a dataset containing thousands of rows of data about books such as title, author, user rating, and user demographics, a simple recommendation system will be created.</p>"
   ]
  },
  {
   "cell_type": "markdown",
   "id": "minimal-output",
   "metadata": {
    "papermill": {
     "duration": 0.029421,
     "end_time": "2021-07-13T21:05:30.321222",
     "exception": false,
     "start_time": "2021-07-13T21:05:30.291801",
     "status": "completed"
    },
    "tags": []
   },
   "source": [
    "<h2 style='font-family:times new roman'>Data</h2>"
   ]
  },
  {
   "cell_type": "markdown",
   "id": "convinced-workplace",
   "metadata": {
    "papermill": {
     "duration": 0.029498,
     "end_time": "2021-07-13T21:05:30.380865",
     "exception": false,
     "start_time": "2021-07-13T21:05:30.351367",
     "status": "completed"
    },
    "tags": []
   },
   "source": [
    "<p style='font-size:16px;font-family:times new roman'>The datasets in this analysis are publicly available through Kaggle [1]. The Goodreads dataset is comprised of information on books gathered with the use of Goodread’s Api. The user reviews dataset contains ratings and reviews about 270k books from 278,858 anonymized users.</p>"
   ]
  },
  {
   "cell_type": "markdown",
   "id": "designing-seller",
   "metadata": {
    "papermill": {
     "duration": 0.029748,
     "end_time": "2021-07-13T21:05:30.440911",
     "exception": false,
     "start_time": "2021-07-13T21:05:30.411163",
     "status": "completed"
    },
    "tags": []
   },
   "source": [
    "<h2 style='font-family:times new roman'>Setting Up Enviroment</h2>"
   ]
  },
  {
   "cell_type": "code",
   "execution_count": 1,
   "id": "rapid-desktop",
   "metadata": {
    "execution": {
     "iopub.execute_input": "2021-07-13T21:05:30.503696Z",
     "iopub.status.busy": "2021-07-13T21:05:30.502712Z",
     "iopub.status.idle": "2021-07-13T21:05:31.334626Z",
     "shell.execute_reply": "2021-07-13T21:05:31.335061Z",
     "shell.execute_reply.started": "2021-07-13T21:04:28.769911Z"
    },
    "papermill": {
     "duration": 0.864826,
     "end_time": "2021-07-13T21:05:31.335357",
     "exception": false,
     "start_time": "2021-07-13T21:05:30.470531",
     "status": "completed"
    },
    "tags": []
   },
   "outputs": [],
   "source": [
    "import pandas as pd\n",
    "from matplotlib import pyplot as plt\n",
    "import numpy as np\n",
    "from sklearn.feature_extraction.text import TfidfVectorizer\n",
    "from sklearn.metrics.pairwise import linear_kernel\n",
    "import warnings  \n",
    "warnings.filterwarnings('ignore')"
   ]
  },
  {
   "cell_type": "markdown",
   "id": "medical-henry",
   "metadata": {
    "papermill": {
     "duration": 0.029592,
     "end_time": "2021-07-13T21:05:31.395034",
     "exception": false,
     "start_time": "2021-07-13T21:05:31.365442",
     "status": "completed"
    },
    "tags": []
   },
   "source": [
    "<p style='font-size:16px;font-family:times new roman'>Import dataset and create a pandas dataframe.</p>"
   ]
  },
  {
   "cell_type": "code",
   "execution_count": 2,
   "id": "confirmed-paint",
   "metadata": {
    "execution": {
     "iopub.execute_input": "2021-07-13T21:05:31.456698Z",
     "iopub.status.busy": "2021-07-13T21:05:31.456193Z",
     "iopub.status.idle": "2021-07-13T21:05:41.115537Z",
     "shell.execute_reply": "2021-07-13T21:05:41.115957Z",
     "shell.execute_reply.started": "2021-07-13T21:04:29.844737Z"
    },
    "papermill": {
     "duration": 9.691546,
     "end_time": "2021-07-13T21:05:41.116205",
     "exception": false,
     "start_time": "2021-07-13T21:05:31.424659",
     "status": "completed"
    },
    "tags": []
   },
   "outputs": [],
   "source": [
    "books_df = pd.read_csv('../input/bookcrossing-dataset/Books Data with Category Language and Summary/Preprocessed_data.csv')"
   ]
  },
  {
   "cell_type": "markdown",
   "id": "weighted-participation",
   "metadata": {
    "papermill": {
     "duration": 0.029362,
     "end_time": "2021-07-13T21:05:41.175960",
     "exception": false,
     "start_time": "2021-07-13T21:05:41.146598",
     "status": "completed"
    },
    "tags": []
   },
   "source": [
    "<h2 style='font-family:times new roman'>Cleaning Data</h2>"
   ]
  },
  {
   "cell_type": "markdown",
   "id": "german-russia",
   "metadata": {
    "papermill": {
     "duration": 0.029276,
     "end_time": "2021-07-13T21:05:41.234970",
     "exception": false,
     "start_time": "2021-07-13T21:05:41.205694",
     "status": "completed"
    },
    "tags": []
   },
   "source": [
    "<p style='font-size:16px;font-family:times new roman'>Preview dataset.</p>"
   ]
  },
  {
   "cell_type": "code",
   "execution_count": 3,
   "id": "solved-aluminum",
   "metadata": {
    "execution": {
     "iopub.execute_input": "2021-07-13T21:05:41.297725Z",
     "iopub.status.busy": "2021-07-13T21:05:41.296865Z",
     "iopub.status.idle": "2021-07-13T21:05:41.891630Z",
     "shell.execute_reply": "2021-07-13T21:05:41.892178Z",
     "shell.execute_reply.started": "2021-07-13T21:04:43.498854Z"
    },
    "papermill": {
     "duration": 0.627657,
     "end_time": "2021-07-13T21:05:41.892335",
     "exception": false,
     "start_time": "2021-07-13T21:05:41.264678",
     "status": "completed"
    },
    "tags": []
   },
   "outputs": [
    {
     "name": "stdout",
     "output_type": "stream",
     "text": [
      "<class 'pandas.core.frame.DataFrame'>\n",
      "RangeIndex: 1031175 entries, 0 to 1031174\n",
      "Data columns (total 19 columns):\n",
      " #   Column               Non-Null Count    Dtype  \n",
      "---  ------               --------------    -----  \n",
      " 0   Unnamed: 0           1031175 non-null  int64  \n",
      " 1   user_id              1031175 non-null  int64  \n",
      " 2   location             1031175 non-null  object \n",
      " 3   age                  1031175 non-null  float64\n",
      " 4   isbn                 1031175 non-null  object \n",
      " 5   rating               1031175 non-null  int64  \n",
      " 6   book_title           1031175 non-null  object \n",
      " 7   book_author          1031175 non-null  object \n",
      " 8   year_of_publication  1031175 non-null  float64\n",
      " 9   publisher            1031175 non-null  object \n",
      " 10  img_s                1031175 non-null  object \n",
      " 11  img_m                1031175 non-null  object \n",
      " 12  img_l                1031175 non-null  object \n",
      " 13  Summary              1031175 non-null  object \n",
      " 14  Language             1031175 non-null  object \n",
      " 15  Category             1031175 non-null  object \n",
      " 16  city                 1017072 non-null  object \n",
      " 17  state                1008377 non-null  object \n",
      " 18  country              995801 non-null   object \n",
      "dtypes: float64(2), int64(3), object(14)\n",
      "memory usage: 149.5+ MB\n"
     ]
    }
   ],
   "source": [
    "books_df.head(5)\n",
    "books_df.info()"
   ]
  },
  {
   "cell_type": "markdown",
   "id": "moving-revision",
   "metadata": {
    "papermill": {
     "duration": 0.029626,
     "end_time": "2021-07-13T21:05:41.952447",
     "exception": false,
     "start_time": "2021-07-13T21:05:41.922821",
     "status": "completed"
    },
    "tags": []
   },
   "source": [
    "<p style='font-size:16px;font-family:times new roman'>Subsetting dataframe for books in english.</p>"
   ]
  },
  {
   "cell_type": "code",
   "execution_count": 4,
   "id": "dental-paint",
   "metadata": {
    "execution": {
     "iopub.execute_input": "2021-07-13T21:05:42.054337Z",
     "iopub.status.busy": "2021-07-13T21:05:42.053725Z",
     "iopub.status.idle": "2021-07-13T21:05:42.249840Z",
     "shell.execute_reply": "2021-07-13T21:05:42.250292Z",
     "shell.execute_reply.started": "2021-07-13T21:04:45.041151Z"
    },
    "papermill": {
     "duration": 0.268017,
     "end_time": "2021-07-13T21:05:42.250468",
     "exception": false,
     "start_time": "2021-07-13T21:05:41.982451",
     "status": "completed"
    },
    "tags": []
   },
   "outputs": [],
   "source": [
    "books_df['Language'].unique()\n",
    "books_eng = books_df[books_df['Language'] == 'en']"
   ]
  },
  {
   "cell_type": "markdown",
   "id": "confirmed-sheriff",
   "metadata": {
    "papermill": {
     "duration": 0.029786,
     "end_time": "2021-07-13T21:05:42.310459",
     "exception": false,
     "start_time": "2021-07-13T21:05:42.280673",
     "status": "completed"
    },
    "tags": []
   },
   "source": [
    "<p style='font-size:16px;font-family:times new roman'>Checking for nulls.</p>"
   ]
  },
  {
   "cell_type": "code",
   "execution_count": 5,
   "id": "serial-trouble",
   "metadata": {
    "execution": {
     "iopub.execute_input": "2021-07-13T21:05:42.373255Z",
     "iopub.status.busy": "2021-07-13T21:05:42.372734Z",
     "iopub.status.idle": "2021-07-13T21:05:42.734401Z",
     "shell.execute_reply": "2021-07-13T21:05:42.734896Z",
     "shell.execute_reply.started": "2021-07-13T21:04:45.404988Z"
    },
    "papermill": {
     "duration": 0.394075,
     "end_time": "2021-07-13T21:05:42.735070",
     "exception": false,
     "start_time": "2021-07-13T21:05:42.340995",
     "status": "completed"
    },
    "tags": []
   },
   "outputs": [
    {
     "data": {
      "text/plain": [
       "Unnamed: 0                 0\n",
       "user_id                    0\n",
       "location                   0\n",
       "age                        0\n",
       "isbn                       0\n",
       "rating                     0\n",
       "book_title                 0\n",
       "book_author                0\n",
       "year_of_publication        0\n",
       "publisher                  0\n",
       "img_s                      0\n",
       "img_m                      0\n",
       "img_l                      0\n",
       "Summary                    0\n",
       "Language                   0\n",
       "Category                   0\n",
       "city                    7765\n",
       "state                  12121\n",
       "country                21044\n",
       "dtype: int64"
      ]
     },
     "execution_count": 5,
     "metadata": {},
     "output_type": "execute_result"
    }
   ],
   "source": [
    "books_eng.isnull().sum()"
   ]
  },
  {
   "cell_type": "markdown",
   "id": "clean-titanium",
   "metadata": {
    "papermill": {
     "duration": 0.030505,
     "end_time": "2021-07-13T21:05:42.795802",
     "exception": false,
     "start_time": "2021-07-13T21:05:42.765297",
     "status": "completed"
    },
    "tags": []
   },
   "source": [
    "<p style='font-size:16px;font-family:times new roman'>Changing all column names to lowercase.</p>"
   ]
  },
  {
   "cell_type": "code",
   "execution_count": 6,
   "id": "retained-brush",
   "metadata": {
    "execution": {
     "iopub.execute_input": "2021-07-13T21:05:42.859838Z",
     "iopub.status.busy": "2021-07-13T21:05:42.859331Z",
     "iopub.status.idle": "2021-07-13T21:05:42.863060Z",
     "shell.execute_reply": "2021-07-13T21:05:42.863527Z",
     "shell.execute_reply.started": "2021-07-13T21:04:46.296042Z"
    },
    "papermill": {
     "duration": 0.036989,
     "end_time": "2021-07-13T21:05:42.863674",
     "exception": false,
     "start_time": "2021-07-13T21:05:42.826685",
     "status": "completed"
    },
    "tags": []
   },
   "outputs": [],
   "source": [
    "books_eng.columns = books_eng.columns.str.lower()"
   ]
  },
  {
   "cell_type": "markdown",
   "id": "induced-major",
   "metadata": {
    "papermill": {
     "duration": 0.030162,
     "end_time": "2021-07-13T21:05:42.924106",
     "exception": false,
     "start_time": "2021-07-13T21:05:42.893944",
     "status": "completed"
    },
    "tags": []
   },
   "source": [
    "<p style='font-size:16px;font-family:times new roman'>Dropping columns that are not needed for the analysis.</p>"
   ]
  },
  {
   "cell_type": "code",
   "execution_count": 7,
   "id": "incorporate-browse",
   "metadata": {
    "execution": {
     "iopub.execute_input": "2021-07-13T21:05:42.987906Z",
     "iopub.status.busy": "2021-07-13T21:05:42.987398Z",
     "iopub.status.idle": "2021-07-13T21:05:43.087605Z",
     "shell.execute_reply": "2021-07-13T21:05:43.088107Z",
     "shell.execute_reply.started": "2021-07-13T21:04:46.302707Z"
    },
    "papermill": {
     "duration": 0.133192,
     "end_time": "2021-07-13T21:05:43.088270",
     "exception": false,
     "start_time": "2021-07-13T21:05:42.955078",
     "status": "completed"
    },
    "tags": []
   },
   "outputs": [],
   "source": [
    "books_eng = books_eng.drop(columns =['unnamed: 0','img_s','img_m','img_l','language'])"
   ]
  },
  {
   "cell_type": "markdown",
   "id": "similar-correspondence",
   "metadata": {
    "papermill": {
     "duration": 0.030033,
     "end_time": "2021-07-13T21:05:43.148964",
     "exception": false,
     "start_time": "2021-07-13T21:05:43.118931",
     "status": "completed"
    },
    "tags": []
   },
   "source": [
    "<p style='font-size:16px;font-family:times new roman'>Changing data types.</p>"
   ]
  },
  {
   "cell_type": "code",
   "execution_count": 8,
   "id": "proud-carol",
   "metadata": {
    "execution": {
     "iopub.execute_input": "2021-07-13T21:05:43.211836Z",
     "iopub.status.busy": "2021-07-13T21:05:43.211329Z",
     "iopub.status.idle": "2021-07-13T21:05:43.222379Z",
     "shell.execute_reply": "2021-07-13T21:05:43.222835Z",
     "shell.execute_reply.started": "2021-07-13T21:04:46.422162Z"
    },
    "papermill": {
     "duration": 0.043726,
     "end_time": "2021-07-13T21:05:43.222998",
     "exception": false,
     "start_time": "2021-07-13T21:05:43.179272",
     "status": "completed"
    },
    "tags": []
   },
   "outputs": [],
   "source": [
    "books_eng['year_of_publication']=books_eng['year_of_publication'].astype(int)\n",
    "books_eng['age'] = books_eng['age'].astype(int)"
   ]
  },
  {
   "cell_type": "markdown",
   "id": "statewide-grove",
   "metadata": {
    "papermill": {
     "duration": 0.030104,
     "end_time": "2021-07-13T21:05:43.283618",
     "exception": false,
     "start_time": "2021-07-13T21:05:43.253514",
     "status": "completed"
    },
    "tags": []
   },
   "source": [
    "<h2 style='font-family:times new roman'> Exploratory Analysis</h2>"
   ]
  },
  {
   "cell_type": "markdown",
   "id": "joint-interface",
   "metadata": {
    "papermill": {
     "duration": 0.03043,
     "end_time": "2021-07-13T21:05:43.344389",
     "exception": false,
     "start_time": "2021-07-13T21:05:43.313959",
     "status": "completed"
    },
    "tags": []
   },
   "source": [
    "<p style = 'font-size:16px;font-family:times new roman'>What are the top books in this dataset? First, the dataset is aggregated to find the number of ratings each book receives as well as their average rating. It is important to distinguish between the books with the highest number of ratings and the books with the highest ratings. The graph shows that <i> Wild Animus </i> has received the most ratings from users, yet it is rated extremely low with an average user rating of 1.01.<p>"
   ]
  },
  {
   "cell_type": "code",
   "execution_count": 9,
   "id": "swedish-credits",
   "metadata": {
    "execution": {
     "iopub.execute_input": "2021-07-13T21:05:43.407804Z",
     "iopub.status.busy": "2021-07-13T21:05:43.407296Z",
     "iopub.status.idle": "2021-07-13T21:05:43.706331Z",
     "shell.execute_reply": "2021-07-13T21:05:43.706784Z",
     "shell.execute_reply.started": "2021-07-13T21:04:46.439181Z"
    },
    "papermill": {
     "duration": 0.332207,
     "end_time": "2021-07-13T21:05:43.706945",
     "exception": false,
     "start_time": "2021-07-13T21:05:43.374738",
     "status": "completed"
    },
    "tags": []
   },
   "outputs": [],
   "source": [
    "# # Find the number of ratings for each book.\n",
    "num_ratings = books_eng.groupby('book_title', as_index=False)['rating'].count()\n",
    "\n",
    "num_ratings = num_ratings.rename(columns={'rating': 'num_of_ratings'})\n",
    "\n",
    "most_ratings = num_ratings.sort_values(\n",
    "    by='num_of_ratings', ascending=False).head(10)"
   ]
  },
  {
   "cell_type": "code",
   "execution_count": 10,
   "id": "violent-assessment",
   "metadata": {
    "_kg_hide-input": true,
    "execution": {
     "iopub.execute_input": "2021-07-13T21:05:43.770886Z",
     "iopub.status.busy": "2021-07-13T21:05:43.770373Z",
     "iopub.status.idle": "2021-07-13T21:05:43.773944Z",
     "shell.execute_reply": "2021-07-13T21:05:43.774449Z",
     "shell.execute_reply.started": "2021-07-13T21:04:46.910095Z"
    },
    "papermill": {
     "duration": 0.036704,
     "end_time": "2021-07-13T21:05:43.774591",
     "exception": false,
     "start_time": "2021-07-13T21:05:43.737887",
     "status": "completed"
    },
    "tags": []
   },
   "outputs": [],
   "source": [
    "# # Color palette.\n",
    "my_color_pal = [\n",
    "    'MediumSeaGreen',\n",
    "    'LightSeaGreen',\n",
    "    'MediumAquaMarine',\n",
    "    'LightSkyBlue',\n",
    "    'LightSteelblue',\n",
    "    'PowderBlue',\n",
    "    'Plum',\n",
    "    'LightSalmon',\n",
    "    'LightPink',\n",
    "    'Moccasin',\n",
    "]"
   ]
  },
  {
   "cell_type": "code",
   "execution_count": 11,
   "id": "sweet-enzyme",
   "metadata": {
    "execution": {
     "iopub.execute_input": "2021-07-13T21:05:43.837376Z",
     "iopub.status.busy": "2021-07-13T21:05:43.836828Z",
     "iopub.status.idle": "2021-07-13T21:05:44.029666Z",
     "shell.execute_reply": "2021-07-13T21:05:44.030117Z",
     "shell.execute_reply.started": "2021-07-13T21:04:46.916920Z"
    },
    "papermill": {
     "duration": 0.225565,
     "end_time": "2021-07-13T21:05:44.030283",
     "exception": false,
     "start_time": "2021-07-13T21:05:43.804718",
     "status": "completed"
    },
    "tags": []
   },
   "outputs": [
    {
     "data": {
      "text/plain": [
       "Text(0.5, 0, 'Number of Ratings')"
      ]
     },
     "execution_count": 11,
     "metadata": {},
     "output_type": "execute_result"
    },
    {
     "data": {
      "image/png": "[encoded data removed]",
      "text/plain": [
       "<Figure size 432x288 with 1 Axes>"
      ]
     },
     "metadata": {
      "needs_background": "light"
     },
     "output_type": "display_data"
    }
   ],
   "source": [
    "y = most_ratings['book_title']\n",
    "width = most_ratings['num_of_ratings']\n",
    "most_viz = plt.barh(y, width, color=my_color_pal, edgecolor='silver')\n",
    "plt.title('Books With the Highest Number of Ratings',\n",
    "          fontsize=24, color='MediumSeaGreen')\n",
    "plt.xlabel('Number of Ratings', fontsize=16, color='MediumSeaGreen')"
   ]
  },
  {
   "cell_type": "markdown",
   "id": "southwest-target",
   "metadata": {
    "papermill": {
     "duration": 0.031541,
     "end_time": "2021-07-13T21:05:44.093931",
     "exception": false,
     "start_time": "2021-07-13T21:05:44.062390",
     "status": "completed"
    },
    "tags": []
   },
   "source": [
    "<p style='font-size:16px;font-family:times new roman'>In this dataset, the books with the largest number of ratings are not the books with the highest ratings. The highest rated book, Donna Kooler’s <i>555 Christmas Cross-Stitch Designs</i>, only has two ratings, so deeming it the top book would be inaccurate.</p>"
   ]
  },
  {
   "cell_type": "code",
   "execution_count": 12,
   "id": "filled-closing",
   "metadata": {
    "execution": {
     "iopub.execute_input": "2021-07-13T21:05:44.160484Z",
     "iopub.status.busy": "2021-07-13T21:05:44.159906Z",
     "iopub.status.idle": "2021-07-13T21:05:44.460595Z",
     "shell.execute_reply": "2021-07-13T21:05:44.460970Z",
     "shell.execute_reply.started": "2021-07-13T21:04:47.188202Z"
    },
    "papermill": {
     "duration": 0.335564,
     "end_time": "2021-07-13T21:05:44.461165",
     "exception": false,
     "start_time": "2021-07-13T21:05:44.125601",
     "status": "completed"
    },
    "tags": []
   },
   "outputs": [
    {
     "data": {
      "text/html": [
       "<div>\n",
       "<style scoped>\n",
       "    .dataframe tbody tr th:only-of-type {\n",
       "        vertical-align: middle;\n",
       "    }\n",
       "\n",
       "    .dataframe tbody tr th {\n",
       "        vertical-align: top;\n",
       "    }\n",
       "\n",
       "    .dataframe thead th {\n",
       "        text-align: right;\n",
       "    }\n",
       "</style>\n",
       "<table border=\"1\" class=\"dataframe\">\n",
       "  <thead>\n",
       "    <tr style=\"text-align: right;\">\n",
       "      <th></th>\n",
       "      <th>book_title</th>\n",
       "      <th>avg_rating</th>\n",
       "    </tr>\n",
       "  </thead>\n",
       "  <tbody>\n",
       "    <tr>\n",
       "      <th>27444</th>\n",
       "      <td>Donna Kooler's 555 Christmas Cross-Stitch Designs</td>\n",
       "      <td>10.0</td>\n",
       "    </tr>\n",
       "    <tr>\n",
       "      <th>28055</th>\n",
       "      <td>Drawing for the Artistically Undiscovered</td>\n",
       "      <td>10.0</td>\n",
       "    </tr>\n",
       "    <tr>\n",
       "      <th>91272</th>\n",
       "      <td>The Book of Job</td>\n",
       "      <td>10.0</td>\n",
       "    </tr>\n",
       "  </tbody>\n",
       "</table>\n",
       "</div>"
      ],
      "text/plain": [
       "                                              book_title  avg_rating\n",
       "27444  Donna Kooler's 555 Christmas Cross-Stitch Designs        10.0\n",
       "28055          Drawing for the Artistically Undiscovered        10.0\n",
       "91272                                    The Book of Job        10.0"
      ]
     },
     "execution_count": 12,
     "metadata": {},
     "output_type": "execute_result"
    }
   ],
   "source": [
    "avg_ratings = books_eng.groupby('book_title', as_index=False)['rating'].mean()\n",
    "\n",
    "avg_ratings = avg_ratings.rename(columns={'rating': 'avg_rating'})\n",
    "\n",
    "avg_ratings.sort_values(by='avg_rating', ascending=False).head(3)"
   ]
  },
  {
   "cell_type": "markdown",
   "id": "extraordinary-fashion",
   "metadata": {
    "papermill": {
     "duration": 0.03233,
     "end_time": "2021-07-13T21:05:44.525925",
     "exception": false,
     "start_time": "2021-07-13T21:05:44.493595",
     "status": "completed"
    },
    "tags": []
   },
   "source": [
    "<p style='font-size:16px;font-family:times new roman'>When the data frame is sorted by the number of ratings from highest to lowest, the top twenty books have 470 or more ratings. To find the top books, the data frame is subset for the books with 470 or more ratings. This can help determine which books are rated the highest while also having a significant number of ratings.</p>"
   ]
  },
  {
   "cell_type": "code",
   "execution_count": 13,
   "id": "floppy-entertainment",
   "metadata": {
    "_kg_hide-output": true,
    "execution": {
     "iopub.execute_input": "2021-07-13T21:05:44.591840Z",
     "iopub.status.busy": "2021-07-13T21:05:44.591305Z",
     "iopub.status.idle": "2021-07-13T21:05:44.710992Z",
     "shell.execute_reply": "2021-07-13T21:05:44.711454Z",
     "shell.execute_reply.started": "2021-07-13T21:04:47.674076Z"
    },
    "papermill": {
     "duration": 0.154042,
     "end_time": "2021-07-13T21:05:44.711614",
     "exception": false,
     "start_time": "2021-07-13T21:05:44.557572",
     "status": "completed"
    },
    "tags": []
   },
   "outputs": [
    {
     "data": {
      "text/plain": [
       "123495    2502\n",
       "94208      886\n",
       "103805     828\n",
       "15243      815\n",
       "108227     768\n",
       "26855      732\n",
       "106914     723\n",
       "109970     654\n",
       "3063       652\n",
       "82403      618\n",
       "110452     615\n",
       "40730      571\n",
       "4078       542\n",
       "109856     542\n",
       "115441     531\n",
       "37710      526\n",
       "47555      506\n",
       "99243      506\n",
       "92900      480\n",
       "38580      470\n",
       "Name: num_of_ratings, dtype: int64"
      ]
     },
     "execution_count": 13,
     "metadata": {},
     "output_type": "execute_result"
    }
   ],
   "source": [
    "ratings = num_ratings.merge(avg_ratings, how='inner', on='book_title')\n",
    "ratings['num_of_ratings'].sort_values(ascending=False).head(20)"
   ]
  },
  {
   "cell_type": "code",
   "execution_count": 14,
   "id": "aggregate-robert",
   "metadata": {
    "execution": {
     "iopub.execute_input": "2021-07-13T21:05:44.779004Z",
     "iopub.status.busy": "2021-07-13T21:05:44.778137Z",
     "iopub.status.idle": "2021-07-13T21:05:44.797409Z",
     "shell.execute_reply": "2021-07-13T21:05:44.797798Z",
     "shell.execute_reply.started": "2021-07-13T21:04:47.855859Z"
    },
    "papermill": {
     "duration": 0.054042,
     "end_time": "2021-07-13T21:05:44.797946",
     "exception": false,
     "start_time": "2021-07-13T21:05:44.743904",
     "status": "completed"
    },
    "tags": []
   },
   "outputs": [],
   "source": [
    "ratings_over_470 = ratings[ratings['num_of_ratings'] >= 470]\n",
    "\n",
    "top_books = ratings_over_470.sort_values(\n",
    "    by='avg_rating', ascending=False).head(10)"
   ]
  },
  {
   "cell_type": "code",
   "execution_count": 15,
   "id": "concrete-volume",
   "metadata": {
    "_kg_hide-input": true,
    "execution": {
     "iopub.execute_input": "2021-07-13T21:05:44.867471Z",
     "iopub.status.busy": "2021-07-13T21:05:44.866914Z",
     "iopub.status.idle": "2021-07-13T21:05:44.868994Z",
     "shell.execute_reply": "2021-07-13T21:05:44.869450Z",
     "shell.execute_reply.started": "2021-07-13T21:04:47.884289Z"
    },
    "papermill": {
     "duration": 0.039347,
     "end_time": "2021-07-13T21:05:44.869588",
     "exception": false,
     "start_time": "2021-07-13T21:05:44.830241",
     "status": "completed"
    },
    "tags": []
   },
   "outputs": [],
   "source": [
    "# # Shortening titles.\n",
    "top_books.iloc[0, 0] = \"Harry Potter and the Sorcerer's Stone\"\n",
    "top_books.iloc[3, 0] = 'The Red Tent'\n",
    "top_books.iloc[8, 0] = 'The Nanny Diaries'"
   ]
  },
  {
   "cell_type": "markdown",
   "id": "casual-civilian",
   "metadata": {
    "papermill": {
     "duration": 0.031793,
     "end_time": "2021-07-13T21:05:44.933519",
     "exception": false,
     "start_time": "2021-07-13T21:05:44.901726",
     "status": "completed"
    },
    "tags": []
   },
   "source": [
    "<p style='font-size:16px;font-family:times new roman'>The scatter plot shows that <i>Harry Potter and the Sorcerer’s Stone</i> has the highest average rating of 4.9 with approximately 500 users leaving a rating. While <i>The Da Vinci Code </i> received 886 ratings and has an average rating of 4.6.</p>"
   ]
  },
  {
   "cell_type": "code",
   "execution_count": 16,
   "id": "industrial-filter",
   "metadata": {
    "execution": {
     "iopub.execute_input": "2021-07-13T21:05:45.019426Z",
     "iopub.status.busy": "2021-07-13T21:05:45.018816Z",
     "iopub.status.idle": "2021-07-13T21:05:45.201068Z",
     "shell.execute_reply": "2021-07-13T21:05:45.201512Z",
     "shell.execute_reply.started": "2021-07-13T21:04:47.892028Z"
    },
    "papermill": {
     "duration": 0.236029,
     "end_time": "2021-07-13T21:05:45.201668",
     "exception": false,
     "start_time": "2021-07-13T21:05:44.965639",
     "status": "completed"
    },
    "tags": []
   },
   "outputs": [
    {
     "data": {
      "image/png": "[encoded data removed]",
      "text/plain": [
       "<Figure size 720x432 with 1 Axes>"
      ]
     },
     "metadata": {},
     "output_type": "display_data"
    }
   ],
   "source": [
    "x = list(top_books['num_of_ratings'])\n",
    "y = list(top_books['avg_rating'])\n",
    "labels = list(top_books['book_title'])\n",
    "\n",
    "fig = plt.figure(facecolor = 'PowderBlue',figsize = (10, 6))\n",
    "plt.scatter(x, y, c='PowderBlue')\n",
    "plt.title('Top Ten Books', fontsize=24, color='MediumSeaGreen')\n",
    "plt.xlabel('Number of Ratings', fontsize=16, color='MediumSeaGreen')\n",
    "plt.ylabel('Average Rating', fontsize=16, color='MediumSeaGreen')\n",
    "for i, txt in enumerate(labels):\n",
    "    if i == 9:\n",
    "        plt.annotate(txt, (x[i], y[i]), rotation=45, size=10)\n",
    "    elif i == 8:\n",
    "        txt = ' {t}'.format(t=txt)\n",
    "        plt.annotate(txt, (830, 3.5), size=10)\n",
    "    elif i == 1:\n",
    "        plt.annotate(txt, (830, 4.7), size=10)\n",
    "    else:\n",
    "        plt.annotate(txt, (x[i], y[i]), size=12)\n",
    "plt.show()"
   ]
  },
  {
   "cell_type": "markdown",
   "id": "cathedral-inventory",
   "metadata": {
    "papermill": {
     "duration": 0.033709,
     "end_time": "2021-07-13T21:05:45.269446",
     "exception": false,
     "start_time": "2021-07-13T21:05:45.235737",
     "status": "completed"
    },
    "tags": []
   },
   "source": [
    "<p style='font-size:16px;font-family:times new roman'>In addition to finding the top-rated books, this dataset can be used to identify some basic demographic information on those who left ratings. Exploring the age ranges for the users can be insightful especially when applied to the most popular books in the dataset.</p>"
   ]
  },
  {
   "cell_type": "markdown",
   "id": "better-defendant",
   "metadata": {
    "execution": {
     "iopub.execute_input": "2021-07-12T03:40:11.913915Z",
     "iopub.status.busy": "2021-07-12T03:40:11.913552Z",
     "iopub.status.idle": "2021-07-12T03:40:12.049627Z",
     "shell.execute_reply": "2021-07-12T03:40:12.048567Z",
     "shell.execute_reply.started": "2021-07-12T03:40:11.913881Z"
    },
    "papermill": {
     "duration": 0.033397,
     "end_time": "2021-07-13T21:05:45.336442",
     "exception": false,
     "start_time": "2021-07-13T21:05:45.303045",
     "status": "completed"
    },
    "tags": []
   },
   "source": [
    "<p style='font-size:16px;font-family:times new roman'>Three books were chosen to delve deeper into the demographic of the readers. <i>Harry Potter and the Sorcerer's Stone</i> is the highest rated book with a significant number of ratings. <i> The Da Vinci Code </i> is close behind Harry Potter in terms of popularity, with an average rating of 4.6 and approximately 900 ratings. <i>Wild Animus</i> is the book with the largest number of ratings, 2502, however it is also one of the lowest rated with an average rating of 1.0.</p>"
   ]
  },
  {
   "cell_type": "code",
   "execution_count": 17,
   "id": "brutal-generator",
   "metadata": {
    "execution": {
     "iopub.execute_input": "2021-07-13T21:05:45.407560Z",
     "iopub.status.busy": "2021-07-13T21:05:45.406666Z",
     "iopub.status.idle": "2021-07-13T21:05:45.508814Z",
     "shell.execute_reply": "2021-07-13T21:05:45.509301Z",
     "shell.execute_reply.started": "2021-07-13T21:04:48.166795Z"
    },
    "papermill": {
     "duration": 0.139359,
     "end_time": "2021-07-13T21:05:45.509485",
     "exception": false,
     "start_time": "2021-07-13T21:05:45.370126",
     "status": "completed"
    },
    "tags": []
   },
   "outputs": [],
   "source": [
    "# # Subset dataframe for users that rated harry potter.\n",
    "hp_readers = books_eng[books_eng['book_title'] ==\n",
    "                       \"Harry Potter and the Sorcerer's Stone (Harry Potter (Paperback))\"]\n",
    "\n",
    "# # Age ranges for harry potter readers.\n",
    "hp_age = hp_readers.groupby('age', as_index=False)['user_id'].nunique()\n",
    "\n",
    "# # Create a new dataframe with age ranges.\n",
    "columns = ['age_range', 'Harry Potter', 'The Da Vinci Code', 'Wild Animus']\n",
    "age_ranges = pd.DataFrame(index=[0, 1, 2, 3], columns=columns)\n",
    "\n",
    "eighteen_under, thirty_under, thirty_five_under, thirty_five_plus = 0, 0, 0, 0\n",
    "for index, row in hp_readers.iterrows():\n",
    "    if row['age'] in range(12, 19):\n",
    "        eighteen_under += 1\n",
    "    elif row['age'] in range(19, 30):\n",
    "        thirty_under += 1\n",
    "\n",
    "    elif row['age'] in range(30, 36):\n",
    "        thirty_five_under += 1\n",
    "\n",
    "    elif row['age'] >= 36:\n",
    "        thirty_five_plus += 1\n",
    "\n",
    "age_ranges['age_range'].iloc[0] = '12-18'\n",
    "age_ranges['age_range'].iloc[1] = '19-29'\n",
    "age_ranges['age_range'].iloc[2] = '30-35'\n",
    "age_ranges['age_range'].iloc[3] = '36+'\n",
    "\n",
    "# # Find the percentage of users that fall within each age range.\n",
    "age_ranges['Harry Potter'].iloc[0] = round(\n",
    "    eighteen_under/len(hp_readers)*100, 1)\n",
    "age_ranges['Harry Potter'].iloc[1] = round(thirty_under/len(hp_readers)*100, 1)\n",
    "age_ranges['Harry Potter'].iloc[2] = round(\n",
    "    thirty_five_under/len(hp_readers)*100, 1)\n",
    "age_ranges['Harry Potter'].iloc[3] = round(\n",
    "    thirty_five_plus/len(hp_readers)*100, 1)\n"
   ]
  },
  {
   "cell_type": "code",
   "execution_count": 18,
   "id": "present-commercial",
   "metadata": {
    "_kg_hide-input": true,
    "execution": {
     "iopub.execute_input": "2021-07-13T21:05:45.641354Z",
     "iopub.status.busy": "2021-07-13T21:05:45.640408Z",
     "iopub.status.idle": "2021-07-13T21:05:45.720340Z",
     "shell.execute_reply": "2021-07-13T21:05:45.720760Z",
     "shell.execute_reply.started": "2021-07-13T21:04:48.338571Z"
    },
    "papermill": {
     "duration": 0.166852,
     "end_time": "2021-07-13T21:05:45.720933",
     "exception": false,
     "start_time": "2021-07-13T21:05:45.554081",
     "status": "completed"
    },
    "tags": []
   },
   "outputs": [],
   "source": [
    "# # The Da Vinci Code.\n",
    "da_readers = books_eng[books_eng['book_title'] == \"The Da Vinci Code\"]\n",
    "\n",
    "# # Age ranges for The Da Vinci Code Readers.\n",
    "da_age = da_readers.groupby('age', as_index=False)['user_id'].nunique()\n",
    "\n",
    "# # Same process repeated for The Da Vinci Code.\n",
    "eighteen_under, thirty_under, thirty_five_under, thirty_five_plus = 0, 0, 0, 0\n",
    "for index, row in da_readers.iterrows():\n",
    "    if row['age'] in range(12, 19):\n",
    "        eighteen_under += 1\n",
    "    elif row['age'] in range(19, 30):\n",
    "        thirty_under += 1\n",
    "\n",
    "    elif row['age'] in range(30, 36):\n",
    "        thirty_five_under += 1\n",
    "\n",
    "    elif row['age'] >= 36:\n",
    "        thirty_five_plus += 1\n",
    "\n",
    "age_ranges['The Da Vinci Code'].iloc[0] = round(\n",
    "    eighteen_under/len(da_readers)*100, 1)\n",
    "age_ranges['The Da Vinci Code'].iloc[1] = round(\n",
    "    thirty_under/len(da_readers)*100, 1)\n",
    "age_ranges['The Da Vinci Code'].iloc[2] = round(\n",
    "    thirty_five_under/len(da_readers)*100, 1)\n",
    "age_ranges['The Da Vinci Code'].iloc[3] = round(\n",
    "    thirty_five_plus/len(da_readers)*100, 1)"
   ]
  },
  {
   "cell_type": "code",
   "execution_count": 19,
   "id": "suitable-cooking",
   "metadata": {
    "_kg_hide-input": true,
    "execution": {
     "iopub.execute_input": "2021-07-13T21:05:45.831512Z",
     "iopub.status.busy": "2021-07-13T21:05:45.830588Z",
     "iopub.status.idle": "2021-07-13T21:05:46.040668Z",
     "shell.execute_reply": "2021-07-13T21:05:46.040090Z",
     "shell.execute_reply.started": "2021-07-13T21:04:48.534278Z"
    },
    "papermill": {
     "duration": 0.28568,
     "end_time": "2021-07-13T21:05:46.040799",
     "exception": false,
     "start_time": "2021-07-13T21:05:45.755119",
     "status": "completed"
    },
    "tags": []
   },
   "outputs": [],
   "source": [
    "# # Wild Animus\n",
    "wa_readers = books_eng[books_eng['book_title'] == \"Wild Animus\"]\n",
    "\n",
    "# # Age ranges for Wild Animus.\n",
    "wa_age = wa_readers.groupby('age', as_index=False)['user_id'].nunique()\n",
    "\n",
    "\n",
    "eighteen_under, thirty_under, thirty_five_under, thirty_five_plus = 0, 0, 0, 0\n",
    "for index, row in wa_readers.iterrows():\n",
    "    if row['age'] in range(12, 19):\n",
    "        eighteen_under += 1\n",
    "    elif row['age'] in range(19, 30):\n",
    "        thirty_under += 1\n",
    "\n",
    "    elif row['age'] in range(30, 36):\n",
    "        thirty_five_under += 1\n",
    "\n",
    "    elif row['age'] >= 36:\n",
    "        thirty_five_plus += 1\n",
    "\n",
    "age_ranges['Wild Animus'].iloc[0] = round(\n",
    "    eighteen_under/len(wa_readers)*100, 1)\n",
    "age_ranges['Wild Animus'].iloc[1] = round(thirty_under/len(wa_readers)*100, 1)\n",
    "age_ranges['Wild Animus'].iloc[2] = round(\n",
    "    thirty_five_under/len(wa_readers)*100, 1)\n",
    "age_ranges['Wild Animus'].iloc[3] = round(\n",
    "    thirty_five_plus/len(wa_readers)*100, 1)"
   ]
  },
  {
   "cell_type": "markdown",
   "id": "revised-valuable",
   "metadata": {
    "papermill": {
     "duration": 0.033378,
     "end_time": "2021-07-13T21:05:46.108060",
     "exception": false,
     "start_time": "2021-07-13T21:05:46.074682",
     "status": "completed"
    },
    "tags": []
   },
   "source": [
    "<p style='font-size:16px;font-family:times new roman'> The data reveals that for Harry Potter, 41% of readers that left a rating, fall within the age range of 30-35. <i>The Da Vinci Code</i> has a similar split in age range as Harry Potter, with nearly 80% of its readers being over the age of 30. Interestingly, the lowest rated book, <i>Wild Animus</i> has an even distribution in the ranges over 18. It seems amongst nearly all ages; <i>Wild Animus</i> is disliked. It almost makes me want to read to it and find out why.</p>"
   ]
  },
  {
   "cell_type": "code",
   "execution_count": 20,
   "id": "hourly-above",
   "metadata": {
    "_kg_hide-input": true,
    "execution": {
     "iopub.execute_input": "2021-07-13T21:05:46.185191Z",
     "iopub.status.busy": "2021-07-13T21:05:46.184356Z",
     "iopub.status.idle": "2021-07-13T21:05:46.188381Z",
     "shell.execute_reply": "2021-07-13T21:05:46.188844Z",
     "shell.execute_reply.started": "2021-07-13T21:04:48.884065Z"
    },
    "papermill": {
     "duration": 0.047219,
     "end_time": "2021-07-13T21:05:46.189013",
     "exception": false,
     "start_time": "2021-07-13T21:05:46.141794",
     "status": "completed"
    },
    "tags": []
   },
   "outputs": [
    {
     "data": {
      "text/html": [
       "<div>\n",
       "<style scoped>\n",
       "    .dataframe tbody tr th:only-of-type {\n",
       "        vertical-align: middle;\n",
       "    }\n",
       "\n",
       "    .dataframe tbody tr th {\n",
       "        vertical-align: top;\n",
       "    }\n",
       "\n",
       "    .dataframe thead th {\n",
       "        text-align: right;\n",
       "    }\n",
       "</style>\n",
       "<table border=\"1\" class=\"dataframe\">\n",
       "  <thead>\n",
       "    <tr style=\"text-align: right;\">\n",
       "      <th></th>\n",
       "      <th>age_range</th>\n",
       "      <th>Harry Potter</th>\n",
       "      <th>The Da Vinci Code</th>\n",
       "      <th>Wild Animus</th>\n",
       "    </tr>\n",
       "  </thead>\n",
       "  <tbody>\n",
       "    <tr>\n",
       "      <th>0</th>\n",
       "      <td>12-18</td>\n",
       "      <td>6.5</td>\n",
       "      <td>1.6</td>\n",
       "      <td>6.2</td>\n",
       "    </tr>\n",
       "    <tr>\n",
       "      <th>1</th>\n",
       "      <td>19-29</td>\n",
       "      <td>26.3</td>\n",
       "      <td>21.7</td>\n",
       "      <td>30.3</td>\n",
       "    </tr>\n",
       "    <tr>\n",
       "      <th>2</th>\n",
       "      <td>30-35</td>\n",
       "      <td>41.5</td>\n",
       "      <td>39.1</td>\n",
       "      <td>30.2</td>\n",
       "    </tr>\n",
       "    <tr>\n",
       "      <th>3</th>\n",
       "      <td>36+</td>\n",
       "      <td>25.0</td>\n",
       "      <td>37.7</td>\n",
       "      <td>33.2</td>\n",
       "    </tr>\n",
       "  </tbody>\n",
       "</table>\n",
       "</div>"
      ],
      "text/plain": [
       "  age_range Harry Potter The Da Vinci Code Wild Animus\n",
       "0     12-18          6.5               1.6         6.2\n",
       "1     19-29         26.3              21.7        30.3\n",
       "2     30-35         41.5              39.1        30.2\n",
       "3       36+         25.0              37.7        33.2"
      ]
     },
     "execution_count": 20,
     "metadata": {},
     "output_type": "execute_result"
    }
   ],
   "source": [
    "age_ranges"
   ]
  },
  {
   "cell_type": "code",
   "execution_count": 21,
   "id": "finished-establishment",
   "metadata": {
    "execution": {
     "iopub.execute_input": "2021-07-13T21:05:46.280257Z",
     "iopub.status.busy": "2021-07-13T21:05:46.278986Z",
     "iopub.status.idle": "2021-07-13T21:05:46.421016Z",
     "shell.execute_reply": "2021-07-13T21:05:46.421447Z",
     "shell.execute_reply.started": "2021-07-13T21:04:48.898991Z"
    },
    "papermill": {
     "duration": 0.197738,
     "end_time": "2021-07-13T21:05:46.421604",
     "exception": false,
     "start_time": "2021-07-13T21:05:46.223866",
     "status": "completed"
    },
    "tags": []
   },
   "outputs": [
    {
     "data": {
      "image/png": "[encoded data removed]",
      "text/plain": [
       "<Figure size 432x288 with 1 Axes>"
      ]
     },
     "metadata": {
      "needs_background": "light"
     },
     "output_type": "display_data"
    }
   ],
   "source": [
    "HarryPotter = list(age_ranges['Harry Potter'])\n",
    "TheDaVinciCode = list(age_ranges['The Da Vinci Code'])\n",
    "WildAnimus = list(age_ranges['Wild Animus'])\n",
    "x = list(age_ranges['age_range'])\n",
    "_x = np.arange(len(x))\n",
    "\n",
    "plt.bar(_x - 0.2, HarryPotter, width=0.2, color='Plum',\n",
    "        edgecolor='Gray', label='Harry Potter')\n",
    "plt.bar(_x, TheDaVinciCode, width=0.2, color='MediumAquaMarine',\n",
    "        edgecolor='Gray', label='The DaVinci Code')\n",
    "plt.bar(_x + 0.2, WildAnimus, width=0.2, color='LightSalmon',\n",
    "        edgecolor='Gray', label='Wild Animus')\n",
    "plt.xticks(_x, x)\n",
    "plt.title('Age Ranges for Top Books', fontsize=24, color='MediumSeaGreen')\n",
    "plt.ylabel('Percent of Users', fontsize=16, color='MediumSeaGreen')\n",
    "plt.legend()\n",
    "plt.show()"
   ]
  },
  {
   "cell_type": "markdown",
   "id": "distant-penalty",
   "metadata": {
    "papermill": {
     "duration": 0.034756,
     "end_time": "2021-07-13T21:05:46.491401",
     "exception": false,
     "start_time": "2021-07-13T21:05:46.456645",
     "status": "completed"
    },
    "tags": []
   },
   "source": [
    "<h2 style='font-family:times new roman'>Recommender System</h2>"
   ]
  },
  {
   "cell_type": "markdown",
   "id": "aquatic-rapid",
   "metadata": {
    "papermill": {
     "duration": 0.034664,
     "end_time": "2021-07-13T21:05:46.561064",
     "exception": false,
     "start_time": "2021-07-13T21:05:46.526400",
     "status": "completed"
    },
    "tags": []
   },
   "source": [
    "<p style='font-size:16px;font-family:times new roman'>Content based recommenders work by suggesting items similar to a particular item using that item’s metadata. For this dataset, the book’s summary column will be used to create a simple recommendation system. This method follows <a href=\"https://www.datacamp.com/community/tutorials/recommender-systems-python\">Aditya Sharma’s DataCamp tutorial</a> [2].</p>"
   ]
  },
  {
   "cell_type": "markdown",
   "id": "civic-transformation",
   "metadata": {
    "papermill": {
     "duration": 0.034571,
     "end_time": "2021-07-13T21:05:46.630810",
     "exception": false,
     "start_time": "2021-07-13T21:05:46.596239",
     "status": "completed"
    },
    "tags": []
   },
   "source": [
    "<p style='font-size:16px;font-family:times new roman'>First, step is to create a new dataframe with the book titles and the summaries. NOTE: The dataset was truncated to 200k results because using sklearn's cosine similarity function required to much memory with the full dataset.</p>"
   ]
  },
  {
   "cell_type": "code",
   "execution_count": 22,
   "id": "induced-cartridge",
   "metadata": {
    "execution": {
     "iopub.execute_input": "2021-07-13T21:05:46.703676Z",
     "iopub.status.busy": "2021-07-13T21:05:46.702814Z",
     "iopub.status.idle": "2021-07-13T21:05:46.816719Z",
     "shell.execute_reply": "2021-07-13T21:05:46.816287Z",
     "shell.execute_reply.started": "2021-07-13T21:04:49.135801Z"
    },
    "papermill": {
     "duration": 0.151276,
     "end_time": "2021-07-13T21:05:46.816851",
     "exception": false,
     "start_time": "2021-07-13T21:05:46.665575",
     "status": "completed"
    },
    "tags": []
   },
   "outputs": [
    {
     "name": "stdout",
     "output_type": "stream",
     "text": [
      "<class 'pandas.core.frame.DataFrame'>\n",
      "Int64Index: 7525 entries, 0 to 7524\n",
      "Data columns (total 3 columns):\n",
      " #   Column      Non-Null Count  Dtype  \n",
      "---  ------      --------------  -----  \n",
      " 0   book_title  7525 non-null   object \n",
      " 1   summary     7525 non-null   object \n",
      " 2   rating      7525 non-null   float64\n",
      "dtypes: float64(1), object(2)\n",
      "memory usage: 235.2+ KB\n"
     ]
    }
   ],
   "source": [
    "\n",
    "book_summary = books_eng[1:200000].groupby(['book_title', 'summary'], as_index=False)[\n",
    "    'rating'].mean()\n",
    "\n",
    "book_summary['book_title'].drop_duplicates(inplace=True)\n",
    "book_summary.info()"
   ]
  },
  {
   "cell_type": "markdown",
   "id": "variable-sense",
   "metadata": {
    "papermill": {
     "duration": 0.034983,
     "end_time": "2021-07-13T21:05:46.887358",
     "exception": false,
     "start_time": "2021-07-13T21:05:46.852375",
     "status": "completed"
    },
    "tags": []
   },
   "source": [
    "<p style='font-size:16px;font-family:times new roman'>This removes words that do not provide any useful information about the topic like 'the'.</p>"
   ]
  },
  {
   "cell_type": "code",
   "execution_count": 23,
   "id": "special-alcohol",
   "metadata": {
    "execution": {
     "iopub.execute_input": "2021-07-13T21:05:46.961541Z",
     "iopub.status.busy": "2021-07-13T21:05:46.960933Z",
     "iopub.status.idle": "2021-07-13T21:05:46.963759Z",
     "shell.execute_reply": "2021-07-13T21:05:46.963359Z",
     "shell.execute_reply.started": "2021-07-13T21:04:49.288567Z"
    },
    "papermill": {
     "duration": 0.041354,
     "end_time": "2021-07-13T21:05:46.963878",
     "exception": false,
     "start_time": "2021-07-13T21:05:46.922524",
     "status": "completed"
    },
    "tags": []
   },
   "outputs": [],
   "source": [
    "tfidf = TfidfVectorizer(stop_words='english')"
   ]
  },
  {
   "cell_type": "markdown",
   "id": "certified-closer",
   "metadata": {
    "papermill": {
     "duration": 0.034983,
     "end_time": "2021-07-13T21:05:47.034285",
     "exception": false,
     "start_time": "2021-07-13T21:05:46.999302",
     "status": "completed"
    },
    "tags": []
   },
   "source": [
    "<p style='font-size:16px;font-family:times new roman'>Replacing null values with an empty string.</p>"
   ]
  },
  {
   "cell_type": "code",
   "execution_count": 24,
   "id": "retained-round",
   "metadata": {
    "execution": {
     "iopub.execute_input": "2021-07-13T21:05:47.110887Z",
     "iopub.status.busy": "2021-07-13T21:05:47.110333Z",
     "iopub.status.idle": "2021-07-13T21:05:47.113076Z",
     "shell.execute_reply": "2021-07-13T21:05:47.112652Z",
     "shell.execute_reply.started": "2021-07-13T21:04:49.294987Z"
    },
    "papermill": {
     "duration": 0.043926,
     "end_time": "2021-07-13T21:05:47.113197",
     "exception": false,
     "start_time": "2021-07-13T21:05:47.069271",
     "status": "completed"
    },
    "tags": []
   },
   "outputs": [],
   "source": [
    "book_summary['summary'] = book_summary['summary'].fillna('')"
   ]
  },
  {
   "cell_type": "markdown",
   "id": "bronze-cheese",
   "metadata": {
    "papermill": {
     "duration": 0.035224,
     "end_time": "2021-07-13T21:05:47.184378",
     "exception": false,
     "start_time": "2021-07-13T21:05:47.149154",
     "status": "completed"
    },
    "tags": []
   },
   "source": [
    "<p style='font-size:16px;font-family:times new roman'>Using scikit-learn TfIdfVectorizer class a Term Frequency-Inverse Document Frequency matrix will be created. Word vectorization is natural language processing tool that allows for words to be assigned to corresponding vector of real numbers. This can then be used find similarities in texts [3].</p>"
   ]
  },
  {
   "cell_type": "code",
   "execution_count": 25,
   "id": "orange-shoulder",
   "metadata": {
    "execution": {
     "iopub.execute_input": "2021-07-13T21:05:47.262435Z",
     "iopub.status.busy": "2021-07-13T21:05:47.261881Z",
     "iopub.status.idle": "2021-07-13T21:05:48.259936Z",
     "shell.execute_reply": "2021-07-13T21:05:48.259434Z",
     "shell.execute_reply.started": "2021-07-13T21:04:49.311236Z"
    },
    "papermill": {
     "duration": 1.040896,
     "end_time": "2021-07-13T21:05:48.260093",
     "exception": false,
     "start_time": "2021-07-13T21:05:47.219197",
     "status": "completed"
    },
    "tags": []
   },
   "outputs": [],
   "source": [
    "# # Construct the required TF-IDF matrix by fitting and transforming the data\n",
    "tfidf_matrix = tfidf.fit_transform(book_summary['summary'])\n",
    "\n",
    "# # Compute the cosine similarity matrix.\n",
    "cosine_sim = linear_kernel(tfidf_matrix, tfidf_matrix)\n",
    "\n",
    "# Construct a reverse map of indices and book titles.\n",
    "indices = pd.Series(book_summary.index,\n",
    "                    index=book_summary['book_title']).drop_duplicates()\n"
   ]
  },
  {
   "cell_type": "code",
   "execution_count": 26,
   "id": "peripheral-portable",
   "metadata": {
    "execution": {
     "iopub.execute_input": "2021-07-13T21:05:48.335588Z",
     "iopub.status.busy": "2021-07-13T21:05:48.335017Z",
     "iopub.status.idle": "2021-07-13T21:05:49.125161Z",
     "shell.execute_reply": "2021-07-13T21:05:49.124572Z",
     "shell.execute_reply.started": "2021-07-13T21:04:50.543608Z"
    },
    "papermill": {
     "duration": 0.829627,
     "end_time": "2021-07-13T21:05:49.125309",
     "exception": false,
     "start_time": "2021-07-13T21:05:48.295682",
     "status": "completed"
    },
    "tags": []
   },
   "outputs": [],
   "source": [
    "# Compute the cosine similarity matrix\n",
    "cosine_sim = linear_kernel(tfidf_matrix, tfidf_matrix)\n",
    "\n",
    "indices = pd.Series(book_summary.index,\n",
    "                    index=book_summary['book_title']).drop_duplicates()\n",
    "\n"
   ]
  },
  {
   "cell_type": "markdown",
   "id": "consistent-ability",
   "metadata": {
    "papermill": {
     "duration": 0.034954,
     "end_time": "2021-07-13T21:05:49.196395",
     "exception": false,
     "start_time": "2021-07-13T21:05:49.161441",
     "status": "completed"
    },
    "tags": []
   },
   "source": [
    "<p style='font-size:16px;font-family:times new roman'>The recommendation function takes a book’s title (that’s within the dataset) as a parameter. It will get the index of the book and get a list of the cosine similarity scores for that specific book and the rest of the books in the dataset. The list will be sorted based on the similarity scores, and the top five most similar books will be returned.</p>"
   ]
  },
  {
   "cell_type": "code",
   "execution_count": 27,
   "id": "applied-baptist",
   "metadata": {
    "execution": {
     "iopub.execute_input": "2021-07-13T21:05:49.273905Z",
     "iopub.status.busy": "2021-07-13T21:05:49.273346Z",
     "iopub.status.idle": "2021-07-13T21:05:49.276355Z",
     "shell.execute_reply": "2021-07-13T21:05:49.275885Z",
     "shell.execute_reply.started": "2021-07-13T21:04:51.385699Z"
    },
    "papermill": {
     "duration": 0.045101,
     "end_time": "2021-07-13T21:05:49.276477",
     "exception": false,
     "start_time": "2021-07-13T21:05:49.231376",
     "status": "completed"
    },
    "tags": []
   },
   "outputs": [],
   "source": [
    "\n",
    "def get_recommendations(book_title, cosine_sim=cosine_sim):\n",
    "    # Get the index of the movie that matches the title\n",
    "    idx = indices[book_title]\n",
    "\n",
    "    # Similarity scores\n",
    "    similarity_scores = list(enumerate(cosine_sim[idx]))\n",
    "\n",
    "    # Sort the books based on the similarity scores\n",
    "    similarity_scores = sorted(similarity_scores, key=lambda x: x[1], reverse=True)\n",
    "\n",
    "    # Get the scores of the six most similar books\n",
    "    similarity_scores =  similarity_scores[1:6]\n",
    "\n",
    "    # Get the book indices\n",
    "    book_indices = [i[0] for i in similarity_scores]\n",
    "\n",
    "    # Return the top 10 most similar books\n",
    "    return book_summary['book_title'].iloc[book_indices]"
   ]
  },
  {
   "cell_type": "markdown",
   "id": "nearby-tissue",
   "metadata": {
    "papermill": {
     "duration": 0.035004,
     "end_time": "2021-07-13T21:05:49.346851",
     "exception": false,
     "start_time": "2021-07-13T21:05:49.311847",
     "status": "completed"
    },
    "tags": []
   },
   "source": [
    "<p style='font-size:16px;font-family:times new roman'>When <i>Harry Potter and the Sorcerer's Stone'</i> is parsed throught the get_recommendations function, a list of other Harry Potter books are returned. It makes sense that readers of the first series would want to read the other books in the series. This recommendation system could be improved by using the book's genre, author, setting, etc to find more similarities between books.</p>"
   ]
  },
  {
   "cell_type": "code",
   "execution_count": 28,
   "id": "desirable-heath",
   "metadata": {
    "execution": {
     "iopub.execute_input": "2021-07-13T21:05:49.429618Z",
     "iopub.status.busy": "2021-07-13T21:05:49.429001Z",
     "iopub.status.idle": "2021-07-13T21:05:49.432006Z",
     "shell.execute_reply": "2021-07-13T21:05:49.431543Z",
     "shell.execute_reply.started": "2021-07-13T21:04:51.393834Z"
    },
    "papermill": {
     "duration": 0.050092,
     "end_time": "2021-07-13T21:05:49.432130",
     "exception": false,
     "start_time": "2021-07-13T21:05:49.382038",
     "status": "completed"
    },
    "tags": []
   },
   "outputs": [
    {
     "data": {
      "text/plain": [
       "2306    Harry Potter and the Sorcerer's Stone (Harry P...\n",
       "2304       Harry Potter and the Sorcerer's Stone (Book 1)\n",
       "2300         Harry Potter and the Goblet of Fire (Book 4)\n",
       "2301    Harry Potter and the Order of the Phoenix (Boo...\n",
       "2303    Harry Potter and the Prisoner of Azkaban (Book 3)\n",
       "Name: book_title, dtype: object"
      ]
     },
     "execution_count": 28,
     "metadata": {},
     "output_type": "execute_result"
    }
   ],
   "source": [
    "get_recommendations(\"Harry Potter and the Sorcerer's Stone (Harry Potter (Paperback))\")"
   ]
  },
  {
   "cell_type": "markdown",
   "id": "recreational-intranet",
   "metadata": {
    "papermill": {
     "duration": 0.035083,
     "end_time": "2021-07-13T21:05:49.502637",
     "exception": false,
     "start_time": "2021-07-13T21:05:49.467554",
     "status": "completed"
    },
    "tags": []
   },
   "source": [
    "<p style='font-size:16px;font-family:times new roman'><i>The Da Vinci Code</i> probably yield the most obvious recommendations. Since 'Da Vinci' is a unique phrase that would only be included in a book's summary if the book was about the artist, it is expected that most of the books recommended would be just that.</p>"
   ]
  },
  {
   "cell_type": "code",
   "execution_count": 29,
   "id": "attractive-arrest",
   "metadata": {
    "execution": {
     "iopub.execute_input": "2021-07-13T21:05:49.582801Z",
     "iopub.status.busy": "2021-07-13T21:05:49.575366Z",
     "iopub.status.idle": "2021-07-13T21:05:49.586485Z",
     "shell.execute_reply": "2021-07-13T21:05:49.586020Z",
     "shell.execute_reply.started": "2021-07-13T21:04:51.425691Z"
    },
    "papermill": {
     "duration": 0.048429,
     "end_time": "2021-07-13T21:05:49.586603",
     "exception": false,
     "start_time": "2021-07-13T21:05:49.538174",
     "status": "completed"
    },
    "tags": []
   },
   "outputs": [
    {
     "data": {
      "text/plain": [
       "5427         The Da Vinci Code (Random House Large Print)\n",
       "2008    Fortune Is a River : Leonardo Da Vinci and Nic...\n",
       "604                                               Baggage\n",
       "5809    The How to Think Like Leonardo da Vinci Workbo...\n",
       "2215    Great Book Of Whodunit Puzzles: Mini-Mysteries...\n",
       "Name: book_title, dtype: object"
      ]
     },
     "execution_count": 29,
     "metadata": {},
     "output_type": "execute_result"
    }
   ],
   "source": [
    "get_recommendations('The Da Vinci Code')"
   ]
  },
  {
   "cell_type": "markdown",
   "id": "unable-narrow",
   "metadata": {
    "papermill": {
     "duration": 0.035744,
     "end_time": "2021-07-13T21:05:49.658075",
     "exception": false,
     "start_time": "2021-07-13T21:05:49.622331",
     "status": "completed"
    },
    "tags": []
   },
   "source": [
    "<p style='font-size:16px;font-family:times new roman'>It seems that <i>Wild Animus</i> may have yield the best results. Wild Animus is categorized as a philosophical/psychological novel that involves a man going through a journey. The list of books recommended seem to be spiritual and philosophical books as well.</p>"
   ]
  },
  {
   "cell_type": "code",
   "execution_count": 30,
   "id": "south-cornell",
   "metadata": {
    "execution": {
     "iopub.execute_input": "2021-07-13T21:05:49.738406Z",
     "iopub.status.busy": "2021-07-13T21:05:49.737624Z",
     "iopub.status.idle": "2021-07-13T21:05:49.741387Z",
     "shell.execute_reply": "2021-07-13T21:05:49.740923Z",
     "shell.execute_reply.started": "2021-07-13T21:04:51.441358Z"
    },
    "papermill": {
     "duration": 0.047971,
     "end_time": "2021-07-13T21:05:49.741505",
     "exception": false,
     "start_time": "2021-07-13T21:05:49.693534",
     "status": "completed"
    },
    "tags": []
   },
   "outputs": [
    {
     "data": {
      "text/plain": [
       "4419                                 Second Ring of Power\n",
       "2169         Godel, Escher, Bach: An Eternal Golden Braid\n",
       "859     Breaking Down the Wall of Silence: The Liberat...\n",
       "5497                                    The Dog I.Q. Test\n",
       "7367    Wild Man's Journey: Reflections on Male Spirit...\n",
       "Name: book_title, dtype: object"
      ]
     },
     "execution_count": 30,
     "metadata": {},
     "output_type": "execute_result"
    }
   ],
   "source": [
    "get_recommendations('Wild Animus')"
   ]
  },
  {
   "cell_type": "markdown",
   "id": "appointed-watch",
   "metadata": {
    "papermill": {
     "duration": 0.035708,
     "end_time": "2021-07-13T21:05:49.813186",
     "exception": false,
     "start_time": "2021-07-13T21:05:49.777478",
     "status": "completed"
    },
    "tags": []
   },
   "source": [
    "<h2 style='font-family:times new roman'>Conclusion</h2>"
   ]
  },
  {
   "cell_type": "markdown",
   "id": "organic-smart",
   "metadata": {
    "papermill": {
     "duration": 0.035405,
     "end_time": "2021-07-13T21:05:49.883928",
     "exception": false,
     "start_time": "2021-07-13T21:05:49.848523",
     "status": "completed"
    },
    "tags": []
   },
   "source": [
    "<p style='font-size:16px;font-family:times new roman'>The ability for websites and streaming platforms to keep recommend new content to their customers is very important. The rate at which content is produced means that choosing what tv show to watch or what book to read can be overwhelming. A streaming service can have millions of choices for viewers to enjoy, but ultimately that just makes selecting content the more difficult. However, if streaming services can focus on curating personalized content for their customers, it could be the difference between someone watching an entire series or someone getting frustrated at not finding something to watch and moving on to another platform.</p>"
   ]
  },
  {
   "cell_type": "markdown",
   "id": "opposite-spencer",
   "metadata": {
    "papermill": {
     "duration": 0.03536,
     "end_time": "2021-07-13T21:05:49.954771",
     "exception": false,
     "start_time": "2021-07-13T21:05:49.919411",
     "status": "completed"
    },
    "tags": []
   },
   "source": [
    "<h2 style='font-family:times new roman'>References</h2>"
   ]
  },
  {
   "cell_type": "markdown",
   "id": "noticed-villa",
   "metadata": {
    "papermill": {
     "duration": 0.035224,
     "end_time": "2021-07-13T21:05:50.025443",
     "exception": false,
     "start_time": "2021-07-13T21:05:49.990219",
     "status": "completed"
    },
    "tags": []
   },
   "source": [
    "1. [Ruchi Bhatia's Book: User Review Ratings Dataset(11 Aug 2020)](https://www.kaggle.com/ruchi798/bookcrossing-dataset/metadata)\n",
    "2. [Aditya Sharma's Book Recommender Tutorial on Datacamp(29 May 2020)](https://www.datacamp.com/community/tutorials/recommender-systems-python)\n",
    "3. [Prahbu's Understanding NLP Word Embeddings on towardsdatascience(11 Nov 2019)](https://towardsdatascience.com/understanding-nlp-word-embeddings-text-vectorization-1a23744f7223)"
   ]
  }
 ],
 "metadata": {
  "kernelspec": {
   "display_name": "Python 3",
   "language": "python",
   "name": "python3"
  },
  "language_info": {
   "codemirror_mode": {
    "name": "ipython",
    "version": 3
   },
   "file_extension": ".py",
   "mimetype": "text/x-python",
   "name": "python",
   "nbconvert_exporter": "python",
   "pygments_lexer": "ipython3",
   "version": "3.7.10"
  },
  "papermill": {
   "default_parameters": {},
   "duration": 27.728064,
   "end_time": "2021-07-13T21:05:51.412228",
   "environment_variables": {},
   "exception": null,
   "input_path": "__notebook__.ipynb",
   "output_path": "__notebook__.ipynb",
   "parameters": {},
   "start_time": "2021-07-13T21:05:23.684164",
   "version": "2.3.3"
  }
 },
 "nbformat": 4,
 "nbformat_minor": 5
}
